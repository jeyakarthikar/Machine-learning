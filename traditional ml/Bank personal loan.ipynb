{
 "cells": [
  {
   "cell_type": "code",
   "execution_count": null,
   "metadata": {},
   "outputs": [],
   "source": []
  },
  {
   "cell_type": "code",
   "execution_count": null,
   "metadata": {},
   "outputs": [],
   "source": [
    "#import necessary packages\n",
    "import numpy as np\n",
    "import pandas as pd\n",
    "import matplotlib.pyplot as plt\n",
    "import seaborn as sns\n",
    "%matplotlib inline\n",
    "sns.set(color_codes=True)\n",
    "\n",
    "#Libraries requried for classification\n",
    "from sklearn.model_selection import cross_val_score \n",
    "from sklearn.linear_model import LogisticRegression\n",
    "from sklearn.metrics import classification_report,confusion_matrix\n",
    "from sklearn import preprocessing\n",
    "from sklearn.model_selection import train_test_split\n",
    "from sklearn.metrics import accuracy_score, log_loss\n",
    "from sklearn.neighbors import KNeighborsClassifier\n",
    "from sklearn.svm import SVC, LinearSVC, NuSVC\n",
    "from sklearn.tree import DecisionTreeClassifier\n",
    "from sklearn.ensemble import RandomForestClassifier, AdaBoostClassifier, GradientBoostingClassifier\n",
    "from sklearn.naive_bayes import GaussianNB\n",
    "import sklearn.metrics as metrics\n",
    "from sklearn.preprocessing import RobustScaler\n",
    "from sklearn.utils import resample\n",
    "from sklearn.model_selection import GridSearchCV"
   ]
  },
  {
   "cell_type": "code",
   "execution_count": null,
   "metadata": {},
   "outputs": [],
   "source": [
    "#load the data\n",
    "customer_df = pd.read_csv('Bank_Personal_Loan_Modelling.csv')"
   ]
  },
  {
   "cell_type": "code",
   "execution_count": null,
   "metadata": {},
   "outputs": [],
   "source": [
    "#verify the loading of the data\n",
    "customer_df.head()"
   ]
  },
  {
   "cell_type": "code",
   "execution_count": null,
   "metadata": {},
   "outputs": [],
   "source": [
    "#information about the data set\n",
    "customer_df.info()"
   ]
  },
  {
   "cell_type": "markdown",
   "metadata": {},
   "source": [
    "Totally there are **5000 records** each with **14 columns**.\n",
    "\n",
    "From the attribute information given in the dataset and the above checks, we can infer the following\n",
    "\n",
    "**Column to Ignore :** Id column will not be of any use for analysis or prediction , we can straight away drop it.\n",
    "\n",
    "**Continous variable :** Age, Experience , Income , CCAvg ,Mortgage \n",
    "\n",
    "**Categorical variable :** ZIP Code , Family ,Education ,Securities Account, CD Account, Online , CreditCard \n",
    "\n",
    "**Target variable :** Personal Loan\n",
    "\n",
    "**One-hot-coding required :** Family,Education\n",
    "\n",
    "ZIP Code has to be analysed if it could provide any useful information in grouping the customer to particular region. If not , we can drop that column as well.\n",
    "\n",
    "As the data types aren clearly defined and the number of records equal the number of non-null records for every column **No missing values are present**"
   ]
  },
  {
   "cell_type": "markdown",
   "metadata": {},
   "source": [
    "# Cleaning Data"
   ]
  },
  {
   "cell_type": "code",
   "execution_count": null,
   "metadata": {},
   "outputs": [],
   "source": [
    "#drop id column\n",
    "customer_df.drop('ID' , axis=1, inplace=True)"
   ]
  },
  {
   "cell_type": "code",
   "execution_count": 165,
   "metadata": {
    "scrolled": true
   },
   "outputs": [
    {
     "data": {
      "text/html": [
       "<div>\n",
       "<style scoped>\n",
       "    .dataframe tbody tr th:only-of-type {\n",
       "        vertical-align: middle;\n",
       "    }\n",
       "\n",
       "    .dataframe tbody tr th {\n",
       "        vertical-align: top;\n",
       "    }\n",
       "\n",
       "    .dataframe thead th {\n",
       "        text-align: right;\n",
       "    }\n",
       "</style>\n",
       "<table border=\"1\" class=\"dataframe\">\n",
       "  <thead>\n",
       "    <tr style=\"text-align: right;\">\n",
       "      <th></th>\n",
       "      <th>Age</th>\n",
       "      <th>Experience</th>\n",
       "      <th>Income</th>\n",
       "      <th>CCAvg</th>\n",
       "      <th>Mortgage</th>\n",
       "      <th>Personal Loan</th>\n",
       "      <th>Securities Account</th>\n",
       "      <th>CD Account</th>\n",
       "      <th>Online</th>\n",
       "      <th>CreditCard</th>\n",
       "      <th>Family_1</th>\n",
       "      <th>Family_2</th>\n",
       "      <th>Family_3</th>\n",
       "      <th>Family_4</th>\n",
       "      <th>Education_1</th>\n",
       "      <th>Education_2</th>\n",
       "      <th>Education_3</th>\n",
       "    </tr>\n",
       "  </thead>\n",
       "  <tbody>\n",
       "    <tr>\n",
       "      <th>0</th>\n",
       "      <td>25</td>\n",
       "      <td>1</td>\n",
       "      <td>49</td>\n",
       "      <td>1.6</td>\n",
       "      <td>0</td>\n",
       "      <td>0</td>\n",
       "      <td>1</td>\n",
       "      <td>0</td>\n",
       "      <td>0</td>\n",
       "      <td>0</td>\n",
       "      <td>0</td>\n",
       "      <td>0</td>\n",
       "      <td>0</td>\n",
       "      <td>1</td>\n",
       "      <td>1</td>\n",
       "      <td>0</td>\n",
       "      <td>0</td>\n",
       "    </tr>\n",
       "    <tr>\n",
       "      <th>1</th>\n",
       "      <td>45</td>\n",
       "      <td>19</td>\n",
       "      <td>34</td>\n",
       "      <td>1.5</td>\n",
       "      <td>0</td>\n",
       "      <td>0</td>\n",
       "      <td>1</td>\n",
       "      <td>0</td>\n",
       "      <td>0</td>\n",
       "      <td>0</td>\n",
       "      <td>0</td>\n",
       "      <td>0</td>\n",
       "      <td>1</td>\n",
       "      <td>0</td>\n",
       "      <td>1</td>\n",
       "      <td>0</td>\n",
       "      <td>0</td>\n",
       "    </tr>\n",
       "    <tr>\n",
       "      <th>2</th>\n",
       "      <td>39</td>\n",
       "      <td>15</td>\n",
       "      <td>11</td>\n",
       "      <td>1.0</td>\n",
       "      <td>0</td>\n",
       "      <td>0</td>\n",
       "      <td>0</td>\n",
       "      <td>0</td>\n",
       "      <td>0</td>\n",
       "      <td>0</td>\n",
       "      <td>1</td>\n",
       "      <td>0</td>\n",
       "      <td>0</td>\n",
       "      <td>0</td>\n",
       "      <td>1</td>\n",
       "      <td>0</td>\n",
       "      <td>0</td>\n",
       "    </tr>\n",
       "    <tr>\n",
       "      <th>3</th>\n",
       "      <td>35</td>\n",
       "      <td>9</td>\n",
       "      <td>100</td>\n",
       "      <td>2.7</td>\n",
       "      <td>0</td>\n",
       "      <td>0</td>\n",
       "      <td>0</td>\n",
       "      <td>0</td>\n",
       "      <td>0</td>\n",
       "      <td>0</td>\n",
       "      <td>1</td>\n",
       "      <td>0</td>\n",
       "      <td>0</td>\n",
       "      <td>0</td>\n",
       "      <td>0</td>\n",
       "      <td>1</td>\n",
       "      <td>0</td>\n",
       "    </tr>\n",
       "    <tr>\n",
       "      <th>4</th>\n",
       "      <td>35</td>\n",
       "      <td>8</td>\n",
       "      <td>45</td>\n",
       "      <td>1.0</td>\n",
       "      <td>0</td>\n",
       "      <td>0</td>\n",
       "      <td>0</td>\n",
       "      <td>0</td>\n",
       "      <td>0</td>\n",
       "      <td>1</td>\n",
       "      <td>0</td>\n",
       "      <td>0</td>\n",
       "      <td>0</td>\n",
       "      <td>1</td>\n",
       "      <td>0</td>\n",
       "      <td>1</td>\n",
       "      <td>0</td>\n",
       "    </tr>\n",
       "  </tbody>\n",
       "</table>\n",
       "</div>"
      ],
      "text/plain": [
       "   Age  Experience  Income  CCAvg  Mortgage Personal Loan Securities Account  \\\n",
       "0   25           1      49    1.6         0             0                  1   \n",
       "1   45          19      34    1.5         0             0                  1   \n",
       "2   39          15      11    1.0         0             0                  0   \n",
       "3   35           9     100    2.7         0             0                  0   \n",
       "4   35           8      45    1.0         0             0                  0   \n",
       "\n",
       "  CD Account Online CreditCard Family_1 Family_2 Family_3 Family_4  \\\n",
       "0          0      0          0        0        0        0        1   \n",
       "1          0      0          0        0        0        1        0   \n",
       "2          0      0          0        1        0        0        0   \n",
       "3          0      0          0        1        0        0        0   \n",
       "4          0      0          1        0        0        0        1   \n",
       "\n",
       "  Education_1 Education_2 Education_3  \n",
       "0           1           0           0  \n",
       "1           1           0           0  \n",
       "2           1           0           0  \n",
       "3           0           1           0  \n",
       "4           0           1           0  "
      ]
     },
     "execution_count": 165,
     "metadata": {},
     "output_type": "execute_result"
    }
   ],
   "source": [
    "customer_df.head() #verify the dropping of ID column"
   ]
  },
  {
   "cell_type": "markdown",
   "metadata": {},
   "source": [
    "# Descriptive Analysis"
   ]
  },
  {
   "cell_type": "code",
   "execution_count": 7,
   "metadata": {},
   "outputs": [
    {
     "data": {
      "text/html": [
       "<div>\n",
       "<style scoped>\n",
       "    .dataframe tbody tr th:only-of-type {\n",
       "        vertical-align: middle;\n",
       "    }\n",
       "\n",
       "    .dataframe tbody tr th {\n",
       "        vertical-align: top;\n",
       "    }\n",
       "\n",
       "    .dataframe thead th {\n",
       "        text-align: right;\n",
       "    }\n",
       "</style>\n",
       "<table border=\"1\" class=\"dataframe\">\n",
       "  <thead>\n",
       "    <tr style=\"text-align: right;\">\n",
       "      <th></th>\n",
       "      <th>count</th>\n",
       "      <th>mean</th>\n",
       "      <th>std</th>\n",
       "      <th>min</th>\n",
       "      <th>25%</th>\n",
       "      <th>50%</th>\n",
       "      <th>75%</th>\n",
       "      <th>max</th>\n",
       "    </tr>\n",
       "  </thead>\n",
       "  <tbody>\n",
       "    <tr>\n",
       "      <th>Age</th>\n",
       "      <td>5000.0</td>\n",
       "      <td>45.338400</td>\n",
       "      <td>11.463166</td>\n",
       "      <td>23.0</td>\n",
       "      <td>35.0</td>\n",
       "      <td>45.0</td>\n",
       "      <td>55.0</td>\n",
       "      <td>67.0</td>\n",
       "    </tr>\n",
       "    <tr>\n",
       "      <th>Experience</th>\n",
       "      <td>5000.0</td>\n",
       "      <td>20.104600</td>\n",
       "      <td>11.467954</td>\n",
       "      <td>-3.0</td>\n",
       "      <td>10.0</td>\n",
       "      <td>20.0</td>\n",
       "      <td>30.0</td>\n",
       "      <td>43.0</td>\n",
       "    </tr>\n",
       "    <tr>\n",
       "      <th>Income</th>\n",
       "      <td>5000.0</td>\n",
       "      <td>73.774200</td>\n",
       "      <td>46.033729</td>\n",
       "      <td>8.0</td>\n",
       "      <td>39.0</td>\n",
       "      <td>64.0</td>\n",
       "      <td>98.0</td>\n",
       "      <td>224.0</td>\n",
       "    </tr>\n",
       "    <tr>\n",
       "      <th>CCAvg</th>\n",
       "      <td>5000.0</td>\n",
       "      <td>1.937938</td>\n",
       "      <td>1.747659</td>\n",
       "      <td>0.0</td>\n",
       "      <td>0.7</td>\n",
       "      <td>1.5</td>\n",
       "      <td>2.5</td>\n",
       "      <td>10.0</td>\n",
       "    </tr>\n",
       "    <tr>\n",
       "      <th>Mortgage</th>\n",
       "      <td>5000.0</td>\n",
       "      <td>56.498800</td>\n",
       "      <td>101.713802</td>\n",
       "      <td>0.0</td>\n",
       "      <td>0.0</td>\n",
       "      <td>0.0</td>\n",
       "      <td>101.0</td>\n",
       "      <td>635.0</td>\n",
       "    </tr>\n",
       "  </tbody>\n",
       "</table>\n",
       "</div>"
      ],
      "text/plain": [
       "             count       mean         std   min   25%   50%    75%    max\n",
       "Age         5000.0  45.338400   11.463166  23.0  35.0  45.0   55.0   67.0\n",
       "Experience  5000.0  20.104600   11.467954  -3.0  10.0  20.0   30.0   43.0\n",
       "Income      5000.0  73.774200   46.033729   8.0  39.0  64.0   98.0  224.0\n",
       "CCAvg       5000.0   1.937938    1.747659   0.0   0.7   1.5    2.5   10.0\n",
       "Mortgage    5000.0  56.498800  101.713802   0.0   0.0   0.0  101.0  635.0"
      ]
     },
     "execution_count": 7,
     "metadata": {},
     "output_type": "execute_result"
    }
   ],
   "source": [
    "# five point summary of numerical fields\n",
    "describe = customer_df.describe()\n",
    "describe[['Age', 'Experience' , 'Income' , 'CCAvg' , 'Mortgage']].T # selecting only continous variables"
   ]
  },
  {
   "cell_type": "markdown",
   "metadata": {},
   "source": [
    "**Observations :**\n",
    "\n",
    "- **Age :** \n",
    "\n",
    "Minimum age starts at 23 , looks logical , minor accounts are not present in the data set.\n",
    "Maximum age is 67 , which means senior citizen above 67 are not considered in the data set.\n",
    "Looking at the IQR ,the age data looks uniformly distributed.\n",
    "- **Experience :** \n",
    "\n",
    "Minimum value is -3 which means the experience data may be corrupted. Analysis has to be done on the negative values.\n",
    "\n",
    "- **Income :**\n",
    "\n",
    "The Income mean is different from the 50th percentile which indicates the data is positively skewed.\n",
    "The standard deviation looks high.\n",
    "The max value is 224 indicating outliers in the dataset.\n",
    "\n",
    "- **CCAvg :**\n",
    "\n",
    "The minimum value is zero which seems logical as there may be customers without credit card.\n",
    "The max value is 10 and the std is 1.74 indicating outliers and skewness of data.\n",
    "\n",
    "\n",
    "- **Mortgage :**\n",
    "\n",
    "The mean is 56 and 50th percentile is 0 indicating high skewness of the data.\n",
    "50th percentile is 0 meaning that most of the customers are without mortgage.\n",
    "\n",
    "\n"
   ]
  },
  {
   "cell_type": "markdown",
   "metadata": {},
   "source": []
  },
  {
   "cell_type": "markdown",
   "metadata": {},
   "source": [
    "# Univariate Analysis"
   ]
  },
  {
   "cell_type": "code",
   "execution_count": 8,
   "metadata": {},
   "outputs": [
    {
     "data": {
      "text/plain": [
       "94720    169\n",
       "94305    127\n",
       "95616    116\n",
       "90095     71\n",
       "93106     57\n",
       "92037     54\n",
       "93943     54\n",
       "91320     53\n",
       "91711     52\n",
       "94025     52\n",
       "92093     51\n",
       "90245     50\n",
       "90024     50\n",
       "90089     46\n",
       "91330     46\n",
       "92121     45\n",
       "94304     45\n",
       "94143     37\n",
       "95051     34\n",
       "94608     34\n",
       "92182     32\n",
       "92028     32\n",
       "92521     32\n",
       "95054     31\n",
       "95814     30\n",
       "95014     29\n",
       "94542     27\n",
       "94301     27\n",
       "94550     27\n",
       "93407     26\n",
       "        ... \n",
       "95482      2\n",
       "91129      2\n",
       "95307      2\n",
       "95842      2\n",
       "91784      2\n",
       "96094      2\n",
       "92116      2\n",
       "94507      2\n",
       "94575      2\n",
       "90745      2\n",
       "93033      2\n",
       "94019      2\n",
       "92161      2\n",
       "91941      2\n",
       "94116      2\n",
       "95816      2\n",
       "91326      2\n",
       "92705      2\n",
       "94604      2\n",
       "90813      1\n",
       "94404      1\n",
       "94965      1\n",
       "9307       1\n",
       "91024      1\n",
       "92694      1\n",
       "96145      1\n",
       "94970      1\n",
       "94598      1\n",
       "90068      1\n",
       "94087      1\n",
       "Name: ZIP Code, Length: 467, dtype: int64"
      ]
     },
     "execution_count": 8,
     "metadata": {},
     "output_type": "execute_result"
    }
   ],
   "source": [
    "#check number of zipcode values present.\n",
    "customer_df['ZIP Code'].value_counts()"
   ]
  },
  {
   "cell_type": "markdown",
   "metadata": {},
   "source": [
    "**Observation:**\n",
    "\n",
    "Zip code is clearly a categorical field.\n",
    "The number of zip code values are more to create one hot coding.It may affect the performance.\n",
    "we dont have more information on zipcode to split into regions.\n",
    "so **dropping** that field.\n",
    "\n"
   ]
  },
  {
   "cell_type": "code",
   "execution_count": 9,
   "metadata": {},
   "outputs": [
    {
     "data": {
      "text/html": [
       "<div>\n",
       "<style scoped>\n",
       "    .dataframe tbody tr th:only-of-type {\n",
       "        vertical-align: middle;\n",
       "    }\n",
       "\n",
       "    .dataframe tbody tr th {\n",
       "        vertical-align: top;\n",
       "    }\n",
       "\n",
       "    .dataframe thead th {\n",
       "        text-align: right;\n",
       "    }\n",
       "</style>\n",
       "<table border=\"1\" class=\"dataframe\">\n",
       "  <thead>\n",
       "    <tr style=\"text-align: right;\">\n",
       "      <th></th>\n",
       "      <th>Age</th>\n",
       "      <th>Experience</th>\n",
       "      <th>Income</th>\n",
       "      <th>Family</th>\n",
       "      <th>CCAvg</th>\n",
       "      <th>Education</th>\n",
       "      <th>Mortgage</th>\n",
       "      <th>Personal Loan</th>\n",
       "      <th>Securities Account</th>\n",
       "      <th>CD Account</th>\n",
       "      <th>Online</th>\n",
       "      <th>CreditCard</th>\n",
       "    </tr>\n",
       "  </thead>\n",
       "  <tbody>\n",
       "    <tr>\n",
       "      <th>0</th>\n",
       "      <td>25</td>\n",
       "      <td>1</td>\n",
       "      <td>49</td>\n",
       "      <td>4</td>\n",
       "      <td>1.6</td>\n",
       "      <td>1</td>\n",
       "      <td>0</td>\n",
       "      <td>0</td>\n",
       "      <td>1</td>\n",
       "      <td>0</td>\n",
       "      <td>0</td>\n",
       "      <td>0</td>\n",
       "    </tr>\n",
       "    <tr>\n",
       "      <th>1</th>\n",
       "      <td>45</td>\n",
       "      <td>19</td>\n",
       "      <td>34</td>\n",
       "      <td>3</td>\n",
       "      <td>1.5</td>\n",
       "      <td>1</td>\n",
       "      <td>0</td>\n",
       "      <td>0</td>\n",
       "      <td>1</td>\n",
       "      <td>0</td>\n",
       "      <td>0</td>\n",
       "      <td>0</td>\n",
       "    </tr>\n",
       "    <tr>\n",
       "      <th>2</th>\n",
       "      <td>39</td>\n",
       "      <td>15</td>\n",
       "      <td>11</td>\n",
       "      <td>1</td>\n",
       "      <td>1.0</td>\n",
       "      <td>1</td>\n",
       "      <td>0</td>\n",
       "      <td>0</td>\n",
       "      <td>0</td>\n",
       "      <td>0</td>\n",
       "      <td>0</td>\n",
       "      <td>0</td>\n",
       "    </tr>\n",
       "    <tr>\n",
       "      <th>3</th>\n",
       "      <td>35</td>\n",
       "      <td>9</td>\n",
       "      <td>100</td>\n",
       "      <td>1</td>\n",
       "      <td>2.7</td>\n",
       "      <td>2</td>\n",
       "      <td>0</td>\n",
       "      <td>0</td>\n",
       "      <td>0</td>\n",
       "      <td>0</td>\n",
       "      <td>0</td>\n",
       "      <td>0</td>\n",
       "    </tr>\n",
       "    <tr>\n",
       "      <th>4</th>\n",
       "      <td>35</td>\n",
       "      <td>8</td>\n",
       "      <td>45</td>\n",
       "      <td>4</td>\n",
       "      <td>1.0</td>\n",
       "      <td>2</td>\n",
       "      <td>0</td>\n",
       "      <td>0</td>\n",
       "      <td>0</td>\n",
       "      <td>0</td>\n",
       "      <td>0</td>\n",
       "      <td>1</td>\n",
       "    </tr>\n",
       "  </tbody>\n",
       "</table>\n",
       "</div>"
      ],
      "text/plain": [
       "   Age  Experience  Income  Family  CCAvg  Education  Mortgage  Personal Loan  \\\n",
       "0   25           1      49       4    1.6          1         0              0   \n",
       "1   45          19      34       3    1.5          1         0              0   \n",
       "2   39          15      11       1    1.0          1         0              0   \n",
       "3   35           9     100       1    2.7          2         0              0   \n",
       "4   35           8      45       4    1.0          2         0              0   \n",
       "\n",
       "   Securities Account  CD Account  Online  CreditCard  \n",
       "0                   1           0       0           0  \n",
       "1                   1           0       0           0  \n",
       "2                   0           0       0           0  \n",
       "3                   0           0       0           0  \n",
       "4                   0           0       0           1  "
      ]
     },
     "execution_count": 9,
     "metadata": {},
     "output_type": "execute_result"
    }
   ],
   "source": [
    "#drop zip code as it would mislead the algorithms\n",
    "customer_df.drop('ZIP Code' , axis=1, inplace=True)\n",
    "customer_df.head()"
   ]
  },
  {
   "cell_type": "code",
   "execution_count": 10,
   "metadata": {},
   "outputs": [
    {
     "data": {
      "image/png": "[encoded data removed]",
      "text/plain": [
       "<Figure size 720x288 with 1 Axes>"
      ]
     },
     "metadata": {
      "needs_background": "light"
     },
     "output_type": "display_data"
    }
   ],
   "source": [
    "# distribution for age\n",
    "customer_df.hist(column = ['Age'], edgecolor = 'black',bins =np.arange(15,70,5) , figsize=(10,4))\n",
    "plt.show()"
   ]
  },
  {
   "cell_type": "code",
   "execution_count": 11,
   "metadata": {},
   "outputs": [
    {
     "data": {
      "text/plain": [
       "<matplotlib.axes._subplots.AxesSubplot at 0x10ef91908>"
      ]
     },
     "execution_count": 11,
     "metadata": {},
     "output_type": "execute_result"
    },
    {
     "data": {
      "image/png": "[encoded data removed]",
      "text/plain": [
       "<Figure size 432x288 with 1 Axes>"
      ]
     },
     "metadata": {
      "needs_background": "light"
     },
     "output_type": "display_data"
    }
   ],
   "source": [
    "sns.distplot(customer_df['Age'])"
   ]
  },
  {
   "cell_type": "markdown",
   "metadata": {},
   "source": [
    "**Observation**\n",
    "\n",
    "Age looks uniformly distributed. \n",
    "If this data represents the population data, then there are very few customers in the range of 20 to 25."
   ]
  },
  {
   "cell_type": "code",
   "execution_count": 12,
   "metadata": {},
   "outputs": [
    {
     "data": {
      "image/png": "[encoded data removed]",
      "text/plain": [
       "<Figure size 720x288 with 1 Axes>"
      ]
     },
     "metadata": {
      "needs_background": "light"
     },
     "output_type": "display_data"
    }
   ],
   "source": [
    "# distribution for Experience\n",
    "customer_df.hist(column = ['Experience'], edgecolor = 'black',bins =np.arange(-5,50,5) , figsize=(10,4))\n",
    "plt.show()"
   ]
  },
  {
   "cell_type": "markdown",
   "metadata": {},
   "source": [
    "There are few customers whose experience has been marked as negative.Otherwise the data looks normal.\n",
    "Let us check those records."
   ]
  },
  {
   "cell_type": "code",
   "execution_count": 13,
   "metadata": {},
   "outputs": [
    {
     "data": {
      "text/html": [
       "<div>\n",
       "<style scoped>\n",
       "    .dataframe tbody tr th:only-of-type {\n",
       "        vertical-align: middle;\n",
       "    }\n",
       "\n",
       "    .dataframe tbody tr th {\n",
       "        vertical-align: top;\n",
       "    }\n",
       "\n",
       "    .dataframe thead th {\n",
       "        text-align: right;\n",
       "    }\n",
       "</style>\n",
       "<table border=\"1\" class=\"dataframe\">\n",
       "  <thead>\n",
       "    <tr style=\"text-align: right;\">\n",
       "      <th></th>\n",
       "      <th>Age</th>\n",
       "      <th>Experience</th>\n",
       "      <th>Income</th>\n",
       "      <th>Family</th>\n",
       "      <th>CCAvg</th>\n",
       "      <th>Education</th>\n",
       "      <th>Mortgage</th>\n",
       "      <th>Personal Loan</th>\n",
       "      <th>Securities Account</th>\n",
       "      <th>CD Account</th>\n",
       "      <th>Online</th>\n",
       "      <th>CreditCard</th>\n",
       "    </tr>\n",
       "  </thead>\n",
       "  <tbody>\n",
       "    <tr>\n",
       "      <th>89</th>\n",
       "      <td>25</td>\n",
       "      <td>-1</td>\n",
       "      <td>113</td>\n",
       "      <td>4</td>\n",
       "      <td>2.30</td>\n",
       "      <td>3</td>\n",
       "      <td>0</td>\n",
       "      <td>0</td>\n",
       "      <td>0</td>\n",
       "      <td>0</td>\n",
       "      <td>0</td>\n",
       "      <td>1</td>\n",
       "    </tr>\n",
       "    <tr>\n",
       "      <th>226</th>\n",
       "      <td>24</td>\n",
       "      <td>-1</td>\n",
       "      <td>39</td>\n",
       "      <td>2</td>\n",
       "      <td>1.70</td>\n",
       "      <td>2</td>\n",
       "      <td>0</td>\n",
       "      <td>0</td>\n",
       "      <td>0</td>\n",
       "      <td>0</td>\n",
       "      <td>0</td>\n",
       "      <td>0</td>\n",
       "    </tr>\n",
       "    <tr>\n",
       "      <th>315</th>\n",
       "      <td>24</td>\n",
       "      <td>-2</td>\n",
       "      <td>51</td>\n",
       "      <td>3</td>\n",
       "      <td>0.30</td>\n",
       "      <td>3</td>\n",
       "      <td>0</td>\n",
       "      <td>0</td>\n",
       "      <td>0</td>\n",
       "      <td>0</td>\n",
       "      <td>1</td>\n",
       "      <td>0</td>\n",
       "    </tr>\n",
       "    <tr>\n",
       "      <th>451</th>\n",
       "      <td>28</td>\n",
       "      <td>-2</td>\n",
       "      <td>48</td>\n",
       "      <td>2</td>\n",
       "      <td>1.75</td>\n",
       "      <td>3</td>\n",
       "      <td>89</td>\n",
       "      <td>0</td>\n",
       "      <td>0</td>\n",
       "      <td>0</td>\n",
       "      <td>1</td>\n",
       "      <td>0</td>\n",
       "    </tr>\n",
       "    <tr>\n",
       "      <th>524</th>\n",
       "      <td>24</td>\n",
       "      <td>-1</td>\n",
       "      <td>75</td>\n",
       "      <td>4</td>\n",
       "      <td>0.20</td>\n",
       "      <td>1</td>\n",
       "      <td>0</td>\n",
       "      <td>0</td>\n",
       "      <td>0</td>\n",
       "      <td>0</td>\n",
       "      <td>1</td>\n",
       "      <td>0</td>\n",
       "    </tr>\n",
       "    <tr>\n",
       "      <th>536</th>\n",
       "      <td>25</td>\n",
       "      <td>-1</td>\n",
       "      <td>43</td>\n",
       "      <td>3</td>\n",
       "      <td>2.40</td>\n",
       "      <td>2</td>\n",
       "      <td>176</td>\n",
       "      <td>0</td>\n",
       "      <td>0</td>\n",
       "      <td>0</td>\n",
       "      <td>1</td>\n",
       "      <td>0</td>\n",
       "    </tr>\n",
       "    <tr>\n",
       "      <th>540</th>\n",
       "      <td>25</td>\n",
       "      <td>-1</td>\n",
       "      <td>109</td>\n",
       "      <td>4</td>\n",
       "      <td>2.30</td>\n",
       "      <td>3</td>\n",
       "      <td>314</td>\n",
       "      <td>0</td>\n",
       "      <td>0</td>\n",
       "      <td>0</td>\n",
       "      <td>1</td>\n",
       "      <td>0</td>\n",
       "    </tr>\n",
       "    <tr>\n",
       "      <th>576</th>\n",
       "      <td>25</td>\n",
       "      <td>-1</td>\n",
       "      <td>48</td>\n",
       "      <td>3</td>\n",
       "      <td>0.30</td>\n",
       "      <td>3</td>\n",
       "      <td>0</td>\n",
       "      <td>0</td>\n",
       "      <td>0</td>\n",
       "      <td>0</td>\n",
       "      <td>0</td>\n",
       "      <td>1</td>\n",
       "    </tr>\n",
       "    <tr>\n",
       "      <th>583</th>\n",
       "      <td>24</td>\n",
       "      <td>-1</td>\n",
       "      <td>38</td>\n",
       "      <td>2</td>\n",
       "      <td>1.70</td>\n",
       "      <td>2</td>\n",
       "      <td>0</td>\n",
       "      <td>0</td>\n",
       "      <td>0</td>\n",
       "      <td>0</td>\n",
       "      <td>1</td>\n",
       "      <td>0</td>\n",
       "    </tr>\n",
       "    <tr>\n",
       "      <th>597</th>\n",
       "      <td>24</td>\n",
       "      <td>-2</td>\n",
       "      <td>125</td>\n",
       "      <td>2</td>\n",
       "      <td>7.20</td>\n",
       "      <td>1</td>\n",
       "      <td>0</td>\n",
       "      <td>0</td>\n",
       "      <td>1</td>\n",
       "      <td>0</td>\n",
       "      <td>0</td>\n",
       "      <td>1</td>\n",
       "    </tr>\n",
       "    <tr>\n",
       "      <th>649</th>\n",
       "      <td>25</td>\n",
       "      <td>-1</td>\n",
       "      <td>82</td>\n",
       "      <td>4</td>\n",
       "      <td>2.10</td>\n",
       "      <td>3</td>\n",
       "      <td>0</td>\n",
       "      <td>0</td>\n",
       "      <td>0</td>\n",
       "      <td>0</td>\n",
       "      <td>1</td>\n",
       "      <td>0</td>\n",
       "    </tr>\n",
       "    <tr>\n",
       "      <th>670</th>\n",
       "      <td>23</td>\n",
       "      <td>-1</td>\n",
       "      <td>61</td>\n",
       "      <td>4</td>\n",
       "      <td>2.60</td>\n",
       "      <td>1</td>\n",
       "      <td>239</td>\n",
       "      <td>0</td>\n",
       "      <td>0</td>\n",
       "      <td>0</td>\n",
       "      <td>1</td>\n",
       "      <td>0</td>\n",
       "    </tr>\n",
       "    <tr>\n",
       "      <th>686</th>\n",
       "      <td>24</td>\n",
       "      <td>-1</td>\n",
       "      <td>38</td>\n",
       "      <td>4</td>\n",
       "      <td>0.60</td>\n",
       "      <td>2</td>\n",
       "      <td>0</td>\n",
       "      <td>0</td>\n",
       "      <td>0</td>\n",
       "      <td>0</td>\n",
       "      <td>1</td>\n",
       "      <td>0</td>\n",
       "    </tr>\n",
       "    <tr>\n",
       "      <th>793</th>\n",
       "      <td>24</td>\n",
       "      <td>-2</td>\n",
       "      <td>150</td>\n",
       "      <td>2</td>\n",
       "      <td>2.00</td>\n",
       "      <td>1</td>\n",
       "      <td>0</td>\n",
       "      <td>0</td>\n",
       "      <td>0</td>\n",
       "      <td>0</td>\n",
       "      <td>1</td>\n",
       "      <td>0</td>\n",
       "    </tr>\n",
       "    <tr>\n",
       "      <th>889</th>\n",
       "      <td>24</td>\n",
       "      <td>-2</td>\n",
       "      <td>82</td>\n",
       "      <td>2</td>\n",
       "      <td>1.60</td>\n",
       "      <td>3</td>\n",
       "      <td>0</td>\n",
       "      <td>0</td>\n",
       "      <td>0</td>\n",
       "      <td>0</td>\n",
       "      <td>1</td>\n",
       "      <td>1</td>\n",
       "    </tr>\n",
       "    <tr>\n",
       "      <th>909</th>\n",
       "      <td>23</td>\n",
       "      <td>-1</td>\n",
       "      <td>149</td>\n",
       "      <td>1</td>\n",
       "      <td>6.33</td>\n",
       "      <td>1</td>\n",
       "      <td>305</td>\n",
       "      <td>0</td>\n",
       "      <td>0</td>\n",
       "      <td>0</td>\n",
       "      <td>0</td>\n",
       "      <td>1</td>\n",
       "    </tr>\n",
       "    <tr>\n",
       "      <th>1173</th>\n",
       "      <td>24</td>\n",
       "      <td>-1</td>\n",
       "      <td>35</td>\n",
       "      <td>2</td>\n",
       "      <td>1.70</td>\n",
       "      <td>2</td>\n",
       "      <td>0</td>\n",
       "      <td>0</td>\n",
       "      <td>0</td>\n",
       "      <td>0</td>\n",
       "      <td>0</td>\n",
       "      <td>0</td>\n",
       "    </tr>\n",
       "    <tr>\n",
       "      <th>1428</th>\n",
       "      <td>25</td>\n",
       "      <td>-1</td>\n",
       "      <td>21</td>\n",
       "      <td>4</td>\n",
       "      <td>0.40</td>\n",
       "      <td>1</td>\n",
       "      <td>90</td>\n",
       "      <td>0</td>\n",
       "      <td>0</td>\n",
       "      <td>0</td>\n",
       "      <td>1</td>\n",
       "      <td>0</td>\n",
       "    </tr>\n",
       "    <tr>\n",
       "      <th>1522</th>\n",
       "      <td>25</td>\n",
       "      <td>-1</td>\n",
       "      <td>101</td>\n",
       "      <td>4</td>\n",
       "      <td>2.30</td>\n",
       "      <td>3</td>\n",
       "      <td>256</td>\n",
       "      <td>0</td>\n",
       "      <td>0</td>\n",
       "      <td>0</td>\n",
       "      <td>0</td>\n",
       "      <td>1</td>\n",
       "    </tr>\n",
       "    <tr>\n",
       "      <th>1905</th>\n",
       "      <td>25</td>\n",
       "      <td>-1</td>\n",
       "      <td>112</td>\n",
       "      <td>2</td>\n",
       "      <td>2.00</td>\n",
       "      <td>1</td>\n",
       "      <td>241</td>\n",
       "      <td>0</td>\n",
       "      <td>0</td>\n",
       "      <td>0</td>\n",
       "      <td>1</td>\n",
       "      <td>0</td>\n",
       "    </tr>\n",
       "    <tr>\n",
       "      <th>2102</th>\n",
       "      <td>25</td>\n",
       "      <td>-1</td>\n",
       "      <td>81</td>\n",
       "      <td>2</td>\n",
       "      <td>1.60</td>\n",
       "      <td>3</td>\n",
       "      <td>0</td>\n",
       "      <td>0</td>\n",
       "      <td>0</td>\n",
       "      <td>0</td>\n",
       "      <td>1</td>\n",
       "      <td>1</td>\n",
       "    </tr>\n",
       "    <tr>\n",
       "      <th>2430</th>\n",
       "      <td>23</td>\n",
       "      <td>-1</td>\n",
       "      <td>73</td>\n",
       "      <td>4</td>\n",
       "      <td>2.60</td>\n",
       "      <td>1</td>\n",
       "      <td>0</td>\n",
       "      <td>0</td>\n",
       "      <td>0</td>\n",
       "      <td>0</td>\n",
       "      <td>1</td>\n",
       "      <td>0</td>\n",
       "    </tr>\n",
       "    <tr>\n",
       "      <th>2466</th>\n",
       "      <td>24</td>\n",
       "      <td>-2</td>\n",
       "      <td>80</td>\n",
       "      <td>2</td>\n",
       "      <td>1.60</td>\n",
       "      <td>3</td>\n",
       "      <td>0</td>\n",
       "      <td>0</td>\n",
       "      <td>0</td>\n",
       "      <td>0</td>\n",
       "      <td>1</td>\n",
       "      <td>0</td>\n",
       "    </tr>\n",
       "    <tr>\n",
       "      <th>2545</th>\n",
       "      <td>25</td>\n",
       "      <td>-1</td>\n",
       "      <td>39</td>\n",
       "      <td>3</td>\n",
       "      <td>2.40</td>\n",
       "      <td>2</td>\n",
       "      <td>0</td>\n",
       "      <td>0</td>\n",
       "      <td>0</td>\n",
       "      <td>0</td>\n",
       "      <td>1</td>\n",
       "      <td>0</td>\n",
       "    </tr>\n",
       "    <tr>\n",
       "      <th>2618</th>\n",
       "      <td>23</td>\n",
       "      <td>-3</td>\n",
       "      <td>55</td>\n",
       "      <td>3</td>\n",
       "      <td>2.40</td>\n",
       "      <td>2</td>\n",
       "      <td>145</td>\n",
       "      <td>0</td>\n",
       "      <td>0</td>\n",
       "      <td>0</td>\n",
       "      <td>1</td>\n",
       "      <td>0</td>\n",
       "    </tr>\n",
       "    <tr>\n",
       "      <th>2717</th>\n",
       "      <td>23</td>\n",
       "      <td>-2</td>\n",
       "      <td>45</td>\n",
       "      <td>4</td>\n",
       "      <td>0.60</td>\n",
       "      <td>2</td>\n",
       "      <td>0</td>\n",
       "      <td>0</td>\n",
       "      <td>0</td>\n",
       "      <td>0</td>\n",
       "      <td>1</td>\n",
       "      <td>1</td>\n",
       "    </tr>\n",
       "    <tr>\n",
       "      <th>2848</th>\n",
       "      <td>24</td>\n",
       "      <td>-1</td>\n",
       "      <td>78</td>\n",
       "      <td>2</td>\n",
       "      <td>1.80</td>\n",
       "      <td>2</td>\n",
       "      <td>0</td>\n",
       "      <td>0</td>\n",
       "      <td>0</td>\n",
       "      <td>0</td>\n",
       "      <td>0</td>\n",
       "      <td>0</td>\n",
       "    </tr>\n",
       "    <tr>\n",
       "      <th>2876</th>\n",
       "      <td>24</td>\n",
       "      <td>-2</td>\n",
       "      <td>80</td>\n",
       "      <td>2</td>\n",
       "      <td>1.60</td>\n",
       "      <td>3</td>\n",
       "      <td>238</td>\n",
       "      <td>0</td>\n",
       "      <td>0</td>\n",
       "      <td>0</td>\n",
       "      <td>0</td>\n",
       "      <td>0</td>\n",
       "    </tr>\n",
       "    <tr>\n",
       "      <th>2962</th>\n",
       "      <td>23</td>\n",
       "      <td>-2</td>\n",
       "      <td>81</td>\n",
       "      <td>2</td>\n",
       "      <td>1.80</td>\n",
       "      <td>2</td>\n",
       "      <td>0</td>\n",
       "      <td>0</td>\n",
       "      <td>0</td>\n",
       "      <td>0</td>\n",
       "      <td>0</td>\n",
       "      <td>0</td>\n",
       "    </tr>\n",
       "    <tr>\n",
       "      <th>2980</th>\n",
       "      <td>25</td>\n",
       "      <td>-1</td>\n",
       "      <td>53</td>\n",
       "      <td>3</td>\n",
       "      <td>2.40</td>\n",
       "      <td>2</td>\n",
       "      <td>0</td>\n",
       "      <td>0</td>\n",
       "      <td>0</td>\n",
       "      <td>0</td>\n",
       "      <td>0</td>\n",
       "      <td>0</td>\n",
       "    </tr>\n",
       "    <tr>\n",
       "      <th>3076</th>\n",
       "      <td>29</td>\n",
       "      <td>-1</td>\n",
       "      <td>62</td>\n",
       "      <td>2</td>\n",
       "      <td>1.75</td>\n",
       "      <td>3</td>\n",
       "      <td>0</td>\n",
       "      <td>0</td>\n",
       "      <td>0</td>\n",
       "      <td>0</td>\n",
       "      <td>0</td>\n",
       "      <td>1</td>\n",
       "    </tr>\n",
       "    <tr>\n",
       "      <th>3130</th>\n",
       "      <td>23</td>\n",
       "      <td>-2</td>\n",
       "      <td>82</td>\n",
       "      <td>2</td>\n",
       "      <td>1.80</td>\n",
       "      <td>2</td>\n",
       "      <td>0</td>\n",
       "      <td>0</td>\n",
       "      <td>1</td>\n",
       "      <td>0</td>\n",
       "      <td>0</td>\n",
       "      <td>1</td>\n",
       "    </tr>\n",
       "    <tr>\n",
       "      <th>3157</th>\n",
       "      <td>23</td>\n",
       "      <td>-1</td>\n",
       "      <td>13</td>\n",
       "      <td>4</td>\n",
       "      <td>1.00</td>\n",
       "      <td>1</td>\n",
       "      <td>84</td>\n",
       "      <td>0</td>\n",
       "      <td>0</td>\n",
       "      <td>0</td>\n",
       "      <td>1</td>\n",
       "      <td>0</td>\n",
       "    </tr>\n",
       "    <tr>\n",
       "      <th>3279</th>\n",
       "      <td>26</td>\n",
       "      <td>-1</td>\n",
       "      <td>44</td>\n",
       "      <td>1</td>\n",
       "      <td>2.00</td>\n",
       "      <td>2</td>\n",
       "      <td>0</td>\n",
       "      <td>0</td>\n",
       "      <td>0</td>\n",
       "      <td>0</td>\n",
       "      <td>0</td>\n",
       "      <td>0</td>\n",
       "    </tr>\n",
       "    <tr>\n",
       "      <th>3284</th>\n",
       "      <td>25</td>\n",
       "      <td>-1</td>\n",
       "      <td>101</td>\n",
       "      <td>4</td>\n",
       "      <td>2.10</td>\n",
       "      <td>3</td>\n",
       "      <td>0</td>\n",
       "      <td>0</td>\n",
       "      <td>0</td>\n",
       "      <td>0</td>\n",
       "      <td>0</td>\n",
       "      <td>1</td>\n",
       "    </tr>\n",
       "    <tr>\n",
       "      <th>3292</th>\n",
       "      <td>25</td>\n",
       "      <td>-1</td>\n",
       "      <td>13</td>\n",
       "      <td>4</td>\n",
       "      <td>0.40</td>\n",
       "      <td>1</td>\n",
       "      <td>0</td>\n",
       "      <td>0</td>\n",
       "      <td>1</td>\n",
       "      <td>0</td>\n",
       "      <td>0</td>\n",
       "      <td>0</td>\n",
       "    </tr>\n",
       "    <tr>\n",
       "      <th>3394</th>\n",
       "      <td>25</td>\n",
       "      <td>-1</td>\n",
       "      <td>113</td>\n",
       "      <td>4</td>\n",
       "      <td>2.10</td>\n",
       "      <td>3</td>\n",
       "      <td>0</td>\n",
       "      <td>0</td>\n",
       "      <td>0</td>\n",
       "      <td>0</td>\n",
       "      <td>1</td>\n",
       "      <td>0</td>\n",
       "    </tr>\n",
       "    <tr>\n",
       "      <th>3425</th>\n",
       "      <td>23</td>\n",
       "      <td>-1</td>\n",
       "      <td>12</td>\n",
       "      <td>4</td>\n",
       "      <td>1.00</td>\n",
       "      <td>1</td>\n",
       "      <td>90</td>\n",
       "      <td>0</td>\n",
       "      <td>0</td>\n",
       "      <td>0</td>\n",
       "      <td>1</td>\n",
       "      <td>0</td>\n",
       "    </tr>\n",
       "    <tr>\n",
       "      <th>3626</th>\n",
       "      <td>24</td>\n",
       "      <td>-3</td>\n",
       "      <td>28</td>\n",
       "      <td>4</td>\n",
       "      <td>1.00</td>\n",
       "      <td>3</td>\n",
       "      <td>0</td>\n",
       "      <td>0</td>\n",
       "      <td>0</td>\n",
       "      <td>0</td>\n",
       "      <td>0</td>\n",
       "      <td>0</td>\n",
       "    </tr>\n",
       "    <tr>\n",
       "      <th>3796</th>\n",
       "      <td>24</td>\n",
       "      <td>-2</td>\n",
       "      <td>50</td>\n",
       "      <td>3</td>\n",
       "      <td>2.40</td>\n",
       "      <td>2</td>\n",
       "      <td>0</td>\n",
       "      <td>0</td>\n",
       "      <td>1</td>\n",
       "      <td>0</td>\n",
       "      <td>0</td>\n",
       "      <td>0</td>\n",
       "    </tr>\n",
       "    <tr>\n",
       "      <th>3824</th>\n",
       "      <td>23</td>\n",
       "      <td>-1</td>\n",
       "      <td>12</td>\n",
       "      <td>4</td>\n",
       "      <td>1.00</td>\n",
       "      <td>1</td>\n",
       "      <td>0</td>\n",
       "      <td>0</td>\n",
       "      <td>1</td>\n",
       "      <td>0</td>\n",
       "      <td>0</td>\n",
       "      <td>1</td>\n",
       "    </tr>\n",
       "    <tr>\n",
       "      <th>3887</th>\n",
       "      <td>24</td>\n",
       "      <td>-2</td>\n",
       "      <td>118</td>\n",
       "      <td>2</td>\n",
       "      <td>7.20</td>\n",
       "      <td>1</td>\n",
       "      <td>0</td>\n",
       "      <td>0</td>\n",
       "      <td>1</td>\n",
       "      <td>0</td>\n",
       "      <td>1</td>\n",
       "      <td>0</td>\n",
       "    </tr>\n",
       "    <tr>\n",
       "      <th>3946</th>\n",
       "      <td>25</td>\n",
       "      <td>-1</td>\n",
       "      <td>40</td>\n",
       "      <td>3</td>\n",
       "      <td>2.40</td>\n",
       "      <td>2</td>\n",
       "      <td>0</td>\n",
       "      <td>0</td>\n",
       "      <td>0</td>\n",
       "      <td>0</td>\n",
       "      <td>1</td>\n",
       "      <td>0</td>\n",
       "    </tr>\n",
       "    <tr>\n",
       "      <th>4015</th>\n",
       "      <td>25</td>\n",
       "      <td>-1</td>\n",
       "      <td>139</td>\n",
       "      <td>2</td>\n",
       "      <td>2.00</td>\n",
       "      <td>1</td>\n",
       "      <td>0</td>\n",
       "      <td>0</td>\n",
       "      <td>0</td>\n",
       "      <td>0</td>\n",
       "      <td>0</td>\n",
       "      <td>1</td>\n",
       "    </tr>\n",
       "    <tr>\n",
       "      <th>4088</th>\n",
       "      <td>29</td>\n",
       "      <td>-1</td>\n",
       "      <td>71</td>\n",
       "      <td>2</td>\n",
       "      <td>1.75</td>\n",
       "      <td>3</td>\n",
       "      <td>0</td>\n",
       "      <td>0</td>\n",
       "      <td>0</td>\n",
       "      <td>0</td>\n",
       "      <td>0</td>\n",
       "      <td>0</td>\n",
       "    </tr>\n",
       "    <tr>\n",
       "      <th>4116</th>\n",
       "      <td>24</td>\n",
       "      <td>-2</td>\n",
       "      <td>135</td>\n",
       "      <td>2</td>\n",
       "      <td>7.20</td>\n",
       "      <td>1</td>\n",
       "      <td>0</td>\n",
       "      <td>0</td>\n",
       "      <td>0</td>\n",
       "      <td>0</td>\n",
       "      <td>1</td>\n",
       "      <td>0</td>\n",
       "    </tr>\n",
       "    <tr>\n",
       "      <th>4285</th>\n",
       "      <td>23</td>\n",
       "      <td>-3</td>\n",
       "      <td>149</td>\n",
       "      <td>2</td>\n",
       "      <td>7.20</td>\n",
       "      <td>1</td>\n",
       "      <td>0</td>\n",
       "      <td>0</td>\n",
       "      <td>0</td>\n",
       "      <td>0</td>\n",
       "      <td>1</td>\n",
       "      <td>0</td>\n",
       "    </tr>\n",
       "    <tr>\n",
       "      <th>4411</th>\n",
       "      <td>23</td>\n",
       "      <td>-2</td>\n",
       "      <td>75</td>\n",
       "      <td>2</td>\n",
       "      <td>1.80</td>\n",
       "      <td>2</td>\n",
       "      <td>0</td>\n",
       "      <td>0</td>\n",
       "      <td>0</td>\n",
       "      <td>0</td>\n",
       "      <td>1</td>\n",
       "      <td>1</td>\n",
       "    </tr>\n",
       "    <tr>\n",
       "      <th>4481</th>\n",
       "      <td>25</td>\n",
       "      <td>-2</td>\n",
       "      <td>35</td>\n",
       "      <td>4</td>\n",
       "      <td>1.00</td>\n",
       "      <td>3</td>\n",
       "      <td>0</td>\n",
       "      <td>0</td>\n",
       "      <td>0</td>\n",
       "      <td>0</td>\n",
       "      <td>1</td>\n",
       "      <td>0</td>\n",
       "    </tr>\n",
       "    <tr>\n",
       "      <th>4514</th>\n",
       "      <td>24</td>\n",
       "      <td>-3</td>\n",
       "      <td>41</td>\n",
       "      <td>4</td>\n",
       "      <td>1.00</td>\n",
       "      <td>3</td>\n",
       "      <td>0</td>\n",
       "      <td>0</td>\n",
       "      <td>0</td>\n",
       "      <td>0</td>\n",
       "      <td>1</td>\n",
       "      <td>0</td>\n",
       "    </tr>\n",
       "    <tr>\n",
       "      <th>4582</th>\n",
       "      <td>25</td>\n",
       "      <td>-1</td>\n",
       "      <td>69</td>\n",
       "      <td>3</td>\n",
       "      <td>0.30</td>\n",
       "      <td>3</td>\n",
       "      <td>0</td>\n",
       "      <td>0</td>\n",
       "      <td>0</td>\n",
       "      <td>0</td>\n",
       "      <td>1</td>\n",
       "      <td>0</td>\n",
       "    </tr>\n",
       "    <tr>\n",
       "      <th>4957</th>\n",
       "      <td>29</td>\n",
       "      <td>-1</td>\n",
       "      <td>50</td>\n",
       "      <td>2</td>\n",
       "      <td>1.75</td>\n",
       "      <td>3</td>\n",
       "      <td>0</td>\n",
       "      <td>0</td>\n",
       "      <td>0</td>\n",
       "      <td>0</td>\n",
       "      <td>0</td>\n",
       "      <td>1</td>\n",
       "    </tr>\n",
       "  </tbody>\n",
       "</table>\n",
       "</div>"
      ],
      "text/plain": [
       "      Age  Experience  Income  Family  CCAvg  Education  Mortgage  \\\n",
       "89     25          -1     113       4   2.30          3         0   \n",
       "226    24          -1      39       2   1.70          2         0   \n",
       "315    24          -2      51       3   0.30          3         0   \n",
       "451    28          -2      48       2   1.75          3        89   \n",
       "524    24          -1      75       4   0.20          1         0   \n",
       "536    25          -1      43       3   2.40          2       176   \n",
       "540    25          -1     109       4   2.30          3       314   \n",
       "576    25          -1      48       3   0.30          3         0   \n",
       "583    24          -1      38       2   1.70          2         0   \n",
       "597    24          -2     125       2   7.20          1         0   \n",
       "649    25          -1      82       4   2.10          3         0   \n",
       "670    23          -1      61       4   2.60          1       239   \n",
       "686    24          -1      38       4   0.60          2         0   \n",
       "793    24          -2     150       2   2.00          1         0   \n",
       "889    24          -2      82       2   1.60          3         0   \n",
       "909    23          -1     149       1   6.33          1       305   \n",
       "1173   24          -1      35       2   1.70          2         0   \n",
       "1428   25          -1      21       4   0.40          1        90   \n",
       "1522   25          -1     101       4   2.30          3       256   \n",
       "1905   25          -1     112       2   2.00          1       241   \n",
       "2102   25          -1      81       2   1.60          3         0   \n",
       "2430   23          -1      73       4   2.60          1         0   \n",
       "2466   24          -2      80       2   1.60          3         0   \n",
       "2545   25          -1      39       3   2.40          2         0   \n",
       "2618   23          -3      55       3   2.40          2       145   \n",
       "2717   23          -2      45       4   0.60          2         0   \n",
       "2848   24          -1      78       2   1.80          2         0   \n",
       "2876   24          -2      80       2   1.60          3       238   \n",
       "2962   23          -2      81       2   1.80          2         0   \n",
       "2980   25          -1      53       3   2.40          2         0   \n",
       "3076   29          -1      62       2   1.75          3         0   \n",
       "3130   23          -2      82       2   1.80          2         0   \n",
       "3157   23          -1      13       4   1.00          1        84   \n",
       "3279   26          -1      44       1   2.00          2         0   \n",
       "3284   25          -1     101       4   2.10          3         0   \n",
       "3292   25          -1      13       4   0.40          1         0   \n",
       "3394   25          -1     113       4   2.10          3         0   \n",
       "3425   23          -1      12       4   1.00          1        90   \n",
       "3626   24          -3      28       4   1.00          3         0   \n",
       "3796   24          -2      50       3   2.40          2         0   \n",
       "3824   23          -1      12       4   1.00          1         0   \n",
       "3887   24          -2     118       2   7.20          1         0   \n",
       "3946   25          -1      40       3   2.40          2         0   \n",
       "4015   25          -1     139       2   2.00          1         0   \n",
       "4088   29          -1      71       2   1.75          3         0   \n",
       "4116   24          -2     135       2   7.20          1         0   \n",
       "4285   23          -3     149       2   7.20          1         0   \n",
       "4411   23          -2      75       2   1.80          2         0   \n",
       "4481   25          -2      35       4   1.00          3         0   \n",
       "4514   24          -3      41       4   1.00          3         0   \n",
       "4582   25          -1      69       3   0.30          3         0   \n",
       "4957   29          -1      50       2   1.75          3         0   \n",
       "\n",
       "      Personal Loan  Securities Account  CD Account  Online  CreditCard  \n",
       "89                0                   0           0       0           1  \n",
       "226               0                   0           0       0           0  \n",
       "315               0                   0           0       1           0  \n",
       "451               0                   0           0       1           0  \n",
       "524               0                   0           0       1           0  \n",
       "536               0                   0           0       1           0  \n",
       "540               0                   0           0       1           0  \n",
       "576               0                   0           0       0           1  \n",
       "583               0                   0           0       1           0  \n",
       "597               0                   1           0       0           1  \n",
       "649               0                   0           0       1           0  \n",
       "670               0                   0           0       1           0  \n",
       "686               0                   0           0       1           0  \n",
       "793               0                   0           0       1           0  \n",
       "889               0                   0           0       1           1  \n",
       "909               0                   0           0       0           1  \n",
       "1173              0                   0           0       0           0  \n",
       "1428              0                   0           0       1           0  \n",
       "1522              0                   0           0       0           1  \n",
       "1905              0                   0           0       1           0  \n",
       "2102              0                   0           0       1           1  \n",
       "2430              0                   0           0       1           0  \n",
       "2466              0                   0           0       1           0  \n",
       "2545              0                   0           0       1           0  \n",
       "2618              0                   0           0       1           0  \n",
       "2717              0                   0           0       1           1  \n",
       "2848              0                   0           0       0           0  \n",
       "2876              0                   0           0       0           0  \n",
       "2962              0                   0           0       0           0  \n",
       "2980              0                   0           0       0           0  \n",
       "3076              0                   0           0       0           1  \n",
       "3130              0                   1           0       0           1  \n",
       "3157              0                   0           0       1           0  \n",
       "3279              0                   0           0       0           0  \n",
       "3284              0                   0           0       0           1  \n",
       "3292              0                   1           0       0           0  \n",
       "3394              0                   0           0       1           0  \n",
       "3425              0                   0           0       1           0  \n",
       "3626              0                   0           0       0           0  \n",
       "3796              0                   1           0       0           0  \n",
       "3824              0                   1           0       0           1  \n",
       "3887              0                   1           0       1           0  \n",
       "3946              0                   0           0       1           0  \n",
       "4015              0                   0           0       0           1  \n",
       "4088              0                   0           0       0           0  \n",
       "4116              0                   0           0       1           0  \n",
       "4285              0                   0           0       1           0  \n",
       "4411              0                   0           0       1           1  \n",
       "4481              0                   0           0       1           0  \n",
       "4514              0                   0           0       1           0  \n",
       "4582              0                   0           0       1           0  \n",
       "4957              0                   0           0       0           1  "
      ]
     },
     "execution_count": 13,
     "metadata": {},
     "output_type": "execute_result"
    }
   ],
   "source": [
    "customer_df[customer_df['Experience'] < 0]"
   ]
  },
  {
   "cell_type": "markdown",
   "metadata": {},
   "source": [
    "we could not find any pattern in the above records . But we can see all of them have Income and age range in 20s.\n",
    "Let us **impute this by changing the negative value to positive**.\n"
   ]
  },
  {
   "cell_type": "markdown",
   "metadata": {},
   "source": [
    "# Imputing Data"
   ]
  },
  {
   "cell_type": "code",
   "execution_count": 14,
   "metadata": {},
   "outputs": [],
   "source": [
    "#convert negative values into positive values\n",
    "customer_df['Experience'] = customer_df['Experience'].abs()"
   ]
  },
  {
   "cell_type": "code",
   "execution_count": 15,
   "metadata": {},
   "outputs": [
    {
     "data": {
      "image/png": "[encoded data removed]",
      "text/plain": [
       "<Figure size 720x288 with 1 Axes>"
      ]
     },
     "metadata": {
      "needs_background": "light"
     },
     "output_type": "display_data"
    }
   ],
   "source": [
    "# distribution for Experience after imputing\n",
    "customer_df.hist(column = ['Experience'], edgecolor = 'black',bins =np.arange(-5,50,5) , figsize=(10,4))\n",
    "plt.show()"
   ]
  },
  {
   "cell_type": "code",
   "execution_count": 16,
   "metadata": {},
   "outputs": [
    {
     "data": {
      "text/plain": [
       "<matplotlib.axes._subplots.AxesSubplot at 0x1a22f212b0>"
      ]
     },
     "execution_count": 16,
     "metadata": {},
     "output_type": "execute_result"
    },
    {
     "data": {
      "image/png": "[encoded data removed]",
      "text/plain": [
       "<Figure size 432x288 with 1 Axes>"
      ]
     },
     "metadata": {
      "needs_background": "light"
     },
     "output_type": "display_data"
    }
   ],
   "source": [
    "#Now checking for outliers in the experience data\n",
    "sns.boxplot(customer_df['Experience'])"
   ]
  },
  {
   "cell_type": "markdown",
   "metadata": {},
   "source": [
    "Experience data has no outliers. The distribution looks normal."
   ]
  },
  {
   "cell_type": "code",
   "execution_count": 17,
   "metadata": {},
   "outputs": [
    {
     "data": {
      "text/plain": [
       "<matplotlib.axes._subplots.AxesSubplot at 0x1a2320c7f0>"
      ]
     },
     "execution_count": 17,
     "metadata": {},
     "output_type": "execute_result"
    },
    {
     "data": {
      "image/png": "[encoded data removed]",
      "text/plain": [
       "<Figure size 432x288 with 1 Axes>"
      ]
     },
     "metadata": {
      "needs_background": "light"
     },
     "output_type": "display_data"
    }
   ],
   "source": [
    "#Now checking for outliers in the Income data\n",
    "sns.boxplot(customer_df['Income'])"
   ]
  },
  {
   "cell_type": "markdown",
   "metadata": {},
   "source": [
    "The data looks **positively skewed**.Lets check the data on the right side of the whiskers."
   ]
  },
  {
   "cell_type": "code",
   "execution_count": 18,
   "metadata": {},
   "outputs": [
    {
     "data": {
      "text/html": [
       "<div>\n",
       "<style scoped>\n",
       "    .dataframe tbody tr th:only-of-type {\n",
       "        vertical-align: middle;\n",
       "    }\n",
       "\n",
       "    .dataframe tbody tr th {\n",
       "        vertical-align: top;\n",
       "    }\n",
       "\n",
       "    .dataframe thead th {\n",
       "        text-align: right;\n",
       "    }\n",
       "</style>\n",
       "<table border=\"1\" class=\"dataframe\">\n",
       "  <thead>\n",
       "    <tr style=\"text-align: right;\">\n",
       "      <th></th>\n",
       "      <th>Age</th>\n",
       "      <th>Experience</th>\n",
       "      <th>Income</th>\n",
       "      <th>Family</th>\n",
       "      <th>CCAvg</th>\n",
       "      <th>Education</th>\n",
       "      <th>Mortgage</th>\n",
       "      <th>Personal Loan</th>\n",
       "      <th>Securities Account</th>\n",
       "      <th>CD Account</th>\n",
       "      <th>Online</th>\n",
       "      <th>CreditCard</th>\n",
       "    </tr>\n",
       "  </thead>\n",
       "  <tbody>\n",
       "    <tr>\n",
       "      <th>526</th>\n",
       "      <td>26</td>\n",
       "      <td>2</td>\n",
       "      <td>205</td>\n",
       "      <td>1</td>\n",
       "      <td>6.33</td>\n",
       "      <td>1</td>\n",
       "      <td>271</td>\n",
       "      <td>0</td>\n",
       "      <td>0</td>\n",
       "      <td>0</td>\n",
       "      <td>0</td>\n",
       "      <td>1</td>\n",
       "    </tr>\n",
       "    <tr>\n",
       "      <th>677</th>\n",
       "      <td>46</td>\n",
       "      <td>21</td>\n",
       "      <td>204</td>\n",
       "      <td>2</td>\n",
       "      <td>2.80</td>\n",
       "      <td>1</td>\n",
       "      <td>0</td>\n",
       "      <td>0</td>\n",
       "      <td>0</td>\n",
       "      <td>0</td>\n",
       "      <td>1</td>\n",
       "      <td>0</td>\n",
       "    </tr>\n",
       "    <tr>\n",
       "      <th>787</th>\n",
       "      <td>45</td>\n",
       "      <td>15</td>\n",
       "      <td>202</td>\n",
       "      <td>3</td>\n",
       "      <td>10.00</td>\n",
       "      <td>3</td>\n",
       "      <td>0</td>\n",
       "      <td>1</td>\n",
       "      <td>0</td>\n",
       "      <td>0</td>\n",
       "      <td>0</td>\n",
       "      <td>0</td>\n",
       "    </tr>\n",
       "    <tr>\n",
       "      <th>1711</th>\n",
       "      <td>27</td>\n",
       "      <td>3</td>\n",
       "      <td>201</td>\n",
       "      <td>1</td>\n",
       "      <td>6.33</td>\n",
       "      <td>1</td>\n",
       "      <td>158</td>\n",
       "      <td>0</td>\n",
       "      <td>0</td>\n",
       "      <td>0</td>\n",
       "      <td>1</td>\n",
       "      <td>0</td>\n",
       "    </tr>\n",
       "    <tr>\n",
       "      <th>1901</th>\n",
       "      <td>43</td>\n",
       "      <td>19</td>\n",
       "      <td>201</td>\n",
       "      <td>2</td>\n",
       "      <td>6.67</td>\n",
       "      <td>1</td>\n",
       "      <td>0</td>\n",
       "      <td>0</td>\n",
       "      <td>1</td>\n",
       "      <td>0</td>\n",
       "      <td>1</td>\n",
       "      <td>0</td>\n",
       "    </tr>\n",
       "    <tr>\n",
       "      <th>2101</th>\n",
       "      <td>35</td>\n",
       "      <td>5</td>\n",
       "      <td>203</td>\n",
       "      <td>1</td>\n",
       "      <td>10.00</td>\n",
       "      <td>3</td>\n",
       "      <td>0</td>\n",
       "      <td>1</td>\n",
       "      <td>0</td>\n",
       "      <td>0</td>\n",
       "      <td>0</td>\n",
       "      <td>0</td>\n",
       "    </tr>\n",
       "    <tr>\n",
       "      <th>2278</th>\n",
       "      <td>30</td>\n",
       "      <td>4</td>\n",
       "      <td>204</td>\n",
       "      <td>2</td>\n",
       "      <td>4.50</td>\n",
       "      <td>1</td>\n",
       "      <td>0</td>\n",
       "      <td>0</td>\n",
       "      <td>0</td>\n",
       "      <td>0</td>\n",
       "      <td>1</td>\n",
       "      <td>0</td>\n",
       "    </tr>\n",
       "    <tr>\n",
       "      <th>2337</th>\n",
       "      <td>43</td>\n",
       "      <td>16</td>\n",
       "      <td>201</td>\n",
       "      <td>1</td>\n",
       "      <td>10.00</td>\n",
       "      <td>2</td>\n",
       "      <td>0</td>\n",
       "      <td>1</td>\n",
       "      <td>0</td>\n",
       "      <td>0</td>\n",
       "      <td>0</td>\n",
       "      <td>1</td>\n",
       "    </tr>\n",
       "    <tr>\n",
       "      <th>2447</th>\n",
       "      <td>44</td>\n",
       "      <td>19</td>\n",
       "      <td>201</td>\n",
       "      <td>2</td>\n",
       "      <td>8.80</td>\n",
       "      <td>1</td>\n",
       "      <td>0</td>\n",
       "      <td>0</td>\n",
       "      <td>0</td>\n",
       "      <td>0</td>\n",
       "      <td>1</td>\n",
       "      <td>1</td>\n",
       "    </tr>\n",
       "    <tr>\n",
       "      <th>2988</th>\n",
       "      <td>46</td>\n",
       "      <td>21</td>\n",
       "      <td>205</td>\n",
       "      <td>2</td>\n",
       "      <td>8.80</td>\n",
       "      <td>1</td>\n",
       "      <td>181</td>\n",
       "      <td>0</td>\n",
       "      <td>1</td>\n",
       "      <td>0</td>\n",
       "      <td>1</td>\n",
       "      <td>0</td>\n",
       "    </tr>\n",
       "    <tr>\n",
       "      <th>3608</th>\n",
       "      <td>59</td>\n",
       "      <td>35</td>\n",
       "      <td>202</td>\n",
       "      <td>1</td>\n",
       "      <td>4.70</td>\n",
       "      <td>1</td>\n",
       "      <td>553</td>\n",
       "      <td>0</td>\n",
       "      <td>0</td>\n",
       "      <td>0</td>\n",
       "      <td>0</td>\n",
       "      <td>0</td>\n",
       "    </tr>\n",
       "    <tr>\n",
       "      <th>3804</th>\n",
       "      <td>47</td>\n",
       "      <td>22</td>\n",
       "      <td>203</td>\n",
       "      <td>2</td>\n",
       "      <td>8.80</td>\n",
       "      <td>1</td>\n",
       "      <td>0</td>\n",
       "      <td>0</td>\n",
       "      <td>0</td>\n",
       "      <td>0</td>\n",
       "      <td>1</td>\n",
       "      <td>0</td>\n",
       "    </tr>\n",
       "    <tr>\n",
       "      <th>3896</th>\n",
       "      <td>48</td>\n",
       "      <td>24</td>\n",
       "      <td>224</td>\n",
       "      <td>2</td>\n",
       "      <td>6.67</td>\n",
       "      <td>1</td>\n",
       "      <td>0</td>\n",
       "      <td>0</td>\n",
       "      <td>0</td>\n",
       "      <td>1</td>\n",
       "      <td>1</td>\n",
       "      <td>1</td>\n",
       "    </tr>\n",
       "    <tr>\n",
       "      <th>4225</th>\n",
       "      <td>43</td>\n",
       "      <td>18</td>\n",
       "      <td>204</td>\n",
       "      <td>2</td>\n",
       "      <td>8.80</td>\n",
       "      <td>1</td>\n",
       "      <td>0</td>\n",
       "      <td>0</td>\n",
       "      <td>0</td>\n",
       "      <td>0</td>\n",
       "      <td>1</td>\n",
       "      <td>0</td>\n",
       "    </tr>\n",
       "    <tr>\n",
       "      <th>4895</th>\n",
       "      <td>45</td>\n",
       "      <td>20</td>\n",
       "      <td>201</td>\n",
       "      <td>2</td>\n",
       "      <td>2.80</td>\n",
       "      <td>1</td>\n",
       "      <td>0</td>\n",
       "      <td>0</td>\n",
       "      <td>0</td>\n",
       "      <td>0</td>\n",
       "      <td>1</td>\n",
       "      <td>1</td>\n",
       "    </tr>\n",
       "    <tr>\n",
       "      <th>4993</th>\n",
       "      <td>45</td>\n",
       "      <td>21</td>\n",
       "      <td>218</td>\n",
       "      <td>2</td>\n",
       "      <td>6.67</td>\n",
       "      <td>1</td>\n",
       "      <td>0</td>\n",
       "      <td>0</td>\n",
       "      <td>0</td>\n",
       "      <td>0</td>\n",
       "      <td>1</td>\n",
       "      <td>0</td>\n",
       "    </tr>\n",
       "  </tbody>\n",
       "</table>\n",
       "</div>"
      ],
      "text/plain": [
       "      Age  Experience  Income  Family  CCAvg  Education  Mortgage  \\\n",
       "526    26           2     205       1   6.33          1       271   \n",
       "677    46          21     204       2   2.80          1         0   \n",
       "787    45          15     202       3  10.00          3         0   \n",
       "1711   27           3     201       1   6.33          1       158   \n",
       "1901   43          19     201       2   6.67          1         0   \n",
       "2101   35           5     203       1  10.00          3         0   \n",
       "2278   30           4     204       2   4.50          1         0   \n",
       "2337   43          16     201       1  10.00          2         0   \n",
       "2447   44          19     201       2   8.80          1         0   \n",
       "2988   46          21     205       2   8.80          1       181   \n",
       "3608   59          35     202       1   4.70          1       553   \n",
       "3804   47          22     203       2   8.80          1         0   \n",
       "3896   48          24     224       2   6.67          1         0   \n",
       "4225   43          18     204       2   8.80          1         0   \n",
       "4895   45          20     201       2   2.80          1         0   \n",
       "4993   45          21     218       2   6.67          1         0   \n",
       "\n",
       "      Personal Loan  Securities Account  CD Account  Online  CreditCard  \n",
       "526               0                   0           0       0           1  \n",
       "677               0                   0           0       1           0  \n",
       "787               1                   0           0       0           0  \n",
       "1711              0                   0           0       1           0  \n",
       "1901              0                   1           0       1           0  \n",
       "2101              1                   0           0       0           0  \n",
       "2278              0                   0           0       1           0  \n",
       "2337              1                   0           0       0           1  \n",
       "2447              0                   0           0       1           1  \n",
       "2988              0                   1           0       1           0  \n",
       "3608              0                   0           0       0           0  \n",
       "3804              0                   0           0       1           0  \n",
       "3896              0                   0           1       1           1  \n",
       "4225              0                   0           0       1           0  \n",
       "4895              0                   0           0       1           1  \n",
       "4993              0                   0           0       1           0  "
      ]
     },
     "execution_count": 18,
     "metadata": {},
     "output_type": "execute_result"
    }
   ],
   "source": [
    "customer_df[customer_df['Income'] > 200]"
   ]
  },
  {
   "cell_type": "markdown",
   "metadata": {},
   "source": [
    "The customers with the high income are the ones with higher experience and age . \n",
    "So these outliers look logical."
   ]
  },
  {
   "cell_type": "code",
   "execution_count": 19,
   "metadata": {},
   "outputs": [
    {
     "data": {
      "text/plain": [
       "<matplotlib.axes._subplots.AxesSubplot at 0x1a2303cd30>"
      ]
     },
     "execution_count": 19,
     "metadata": {},
     "output_type": "execute_result"
    },
    {
     "data": {
      "image/png": "[encoded data removed]",
      "text/plain": [
       "<Figure size 432x288 with 1 Axes>"
      ]
     },
     "metadata": {
      "needs_background": "light"
     },
     "output_type": "display_data"
    }
   ],
   "source": [
    "sns.countplot(customer_df['Family']) # distribution for the family data"
   ]
  },
  {
   "cell_type": "markdown",
   "metadata": {},
   "source": [
    "The family distribution looks logical. we need to do one-hot-coding for this category.\n",
    "Let us do some multivariate analysis before converting."
   ]
  },
  {
   "cell_type": "code",
   "execution_count": 20,
   "metadata": {},
   "outputs": [
    {
     "data": {
      "text/plain": [
       "<matplotlib.axes._subplots.AxesSubplot at 0x10ef4f588>"
      ]
     },
     "execution_count": 20,
     "metadata": {},
     "output_type": "execute_result"
    },
    {
     "data": {
      "image/png": "[encoded data removed]",
      "text/plain": [
       "<Figure size 432x288 with 1 Axes>"
      ]
     },
     "metadata": {
      "needs_background": "light"
     },
     "output_type": "display_data"
    }
   ],
   "source": [
    "sns.distplot(customer_df['CCAvg']) # distribution for the CCAvg data"
   ]
  },
  {
   "cell_type": "markdown",
   "metadata": {},
   "source": [
    "The mode is zero indicating that there may be many customers without credit cards . "
   ]
  },
  {
   "cell_type": "code",
   "execution_count": 21,
   "metadata": {},
   "outputs": [
    {
     "data": {
      "text/plain": [
       "<matplotlib.axes._subplots.AxesSubplot at 0x10ee06d68>"
      ]
     },
     "execution_count": 21,
     "metadata": {},
     "output_type": "execute_result"
    },
    {
     "data": {
      "image/png": "[encoded data removed]",
      "text/plain": [
       "<Figure size 432x288 with 1 Axes>"
      ]
     },
     "metadata": {
      "needs_background": "light"
     },
     "output_type": "display_data"
    }
   ],
   "source": [
    "sns.countplot(customer_df['Education']) # distribution for the Education data"
   ]
  },
  {
   "cell_type": "markdown",
   "metadata": {},
   "source": [
    "The distribution looks logical. we need to do one-hot-coding for this category. Let us do some multivariate analysis before converting."
   ]
  },
  {
   "cell_type": "code",
   "execution_count": 22,
   "metadata": {},
   "outputs": [
    {
     "data": {
      "text/plain": [
       "<matplotlib.axes._subplots.AxesSubplot at 0x1a2336bb38>"
      ]
     },
     "execution_count": 22,
     "metadata": {},
     "output_type": "execute_result"
    },
    {
     "data": {
      "image/png": "[encoded data removed]",
      "text/plain": [
       "<Figure size 432x288 with 1 Axes>"
      ]
     },
     "metadata": {
      "needs_background": "light"
     },
     "output_type": "display_data"
    }
   ],
   "source": [
    "sns.distplot(customer_df['Mortgage']) # distribution for the Mortgage data"
   ]
  },
  {
   "cell_type": "markdown",
   "metadata": {},
   "source": [
    "The mode is zero indicating that there may be many customers without Mortgage ."
   ]
  },
  {
   "cell_type": "code",
   "execution_count": 23,
   "metadata": {},
   "outputs": [
    {
     "data": {
      "text/plain": [
       "<matplotlib.axes._subplots.AxesSubplot at 0x1a2339c1d0>"
      ]
     },
     "execution_count": 23,
     "metadata": {},
     "output_type": "execute_result"
    },
    {
     "data": {
      "image/png": "[encoded data removed]",
      "text/plain": [
       "<Figure size 432x288 with 1 Axes>"
      ]
     },
     "metadata": {
      "needs_background": "light"
     },
     "output_type": "display_data"
    }
   ],
   "source": [
    "sns.countplot(customer_df['Securities Account']) # distribution for the Securities Account data"
   ]
  },
  {
   "cell_type": "markdown",
   "metadata": {},
   "source": [
    "Less than one-fourth of the customers hold securities account"
   ]
  },
  {
   "cell_type": "code",
   "execution_count": 24,
   "metadata": {},
   "outputs": [
    {
     "data": {
      "text/plain": [
       "<matplotlib.axes._subplots.AxesSubplot at 0x1a234eb2e8>"
      ]
     },
     "execution_count": 24,
     "metadata": {},
     "output_type": "execute_result"
    },
    {
     "data": {
      "image/png": "[encoded data removed]",
      "text/plain": [
       "<Figure size 432x288 with 1 Axes>"
      ]
     },
     "metadata": {
      "needs_background": "light"
     },
     "output_type": "display_data"
    }
   ],
   "source": [
    "sns.countplot(customer_df['CD Account']) # distribution for the CD Account data"
   ]
  },
  {
   "cell_type": "markdown",
   "metadata": {},
   "source": [
    "Less than one-fourth of the customers hold Deposit accounts"
   ]
  },
  {
   "cell_type": "code",
   "execution_count": 25,
   "metadata": {},
   "outputs": [
    {
     "data": {
      "text/plain": [
       "<matplotlib.axes._subplots.AxesSubplot at 0x1a23521f60>"
      ]
     },
     "execution_count": 25,
     "metadata": {},
     "output_type": "execute_result"
    },
    {
     "data": {
      "image/png": "[encoded data removed]",
      "text/plain": [
       "<Figure size 432x288 with 1 Axes>"
      ]
     },
     "metadata": {
      "needs_background": "light"
     },
     "output_type": "display_data"
    }
   ],
   "source": [
    "sns.countplot(customer_df['Online']) # distribution for the Online Account data"
   ]
  },
  {
   "cell_type": "markdown",
   "metadata": {},
   "source": [
    "More than half of the customers hold online account"
   ]
  },
  {
   "cell_type": "code",
   "execution_count": 26,
   "metadata": {},
   "outputs": [
    {
     "data": {
      "text/plain": [
       "<matplotlib.axes._subplots.AxesSubplot at 0x1a235965c0>"
      ]
     },
     "execution_count": 26,
     "metadata": {},
     "output_type": "execute_result"
    },
    {
     "data": {
      "image/png": "[encoded data removed]",
      "text/plain": [
       "<Figure size 432x288 with 1 Axes>"
      ]
     },
     "metadata": {
      "needs_background": "light"
     },
     "output_type": "display_data"
    }
   ],
   "source": [
    "sns.countplot(customer_df['CreditCard']) # distribution for the CreditCard data"
   ]
  },
  {
   "cell_type": "markdown",
   "metadata": {},
   "source": [
    "only 30 percent of the customers hold Credit card account"
   ]
  },
  {
   "cell_type": "code",
   "execution_count": 27,
   "metadata": {},
   "outputs": [
    {
     "data": {
      "text/plain": [
       "<matplotlib.axes._subplots.AxesSubplot at 0x1a236f1518>"
      ]
     },
     "execution_count": 27,
     "metadata": {},
     "output_type": "execute_result"
    },
    {
     "data": {
      "image/png": "[encoded data removed]",
      "text/plain": [
       "<Figure size 432x288 with 1 Axes>"
      ]
     },
     "metadata": {
      "needs_background": "light"
     },
     "output_type": "display_data"
    }
   ],
   "source": [
    "sns.countplot(customer_df['Personal Loan']) # distribution for the Personal Loan data"
   ]
  },
  {
   "cell_type": "code",
   "execution_count": 28,
   "metadata": {},
   "outputs": [
    {
     "data": {
      "text/plain": [
       "0    4520\n",
       "1     480\n",
       "Name: Personal Loan, dtype: int64"
      ]
     },
     "execution_count": 28,
     "metadata": {},
     "output_type": "execute_result"
    }
   ],
   "source": [
    "customer_df['Personal Loan'].value_counts() #counting the class values"
   ]
  },
  {
   "cell_type": "markdown",
   "metadata": {},
   "source": [
    "As mentioned in the dataset description , only 9 percent of the customers opted for personal loan.\n",
    "\n",
    "Clearly there is **Class Imbalance** problem in this data set."
   ]
  },
  {
   "cell_type": "markdown",
   "metadata": {},
   "source": [
    "# Bivariate Analysis"
   ]
  },
  {
   "cell_type": "code",
   "execution_count": 29,
   "metadata": {},
   "outputs": [],
   "source": [
    "#utility function to group personal loan opted records and plot it as per column\n",
    "def plot_column_for_PersonalLoan_opted(column):\n",
    "    loan_Preference = customer_df[column].groupby(customer_df[\"Personal Loan\"])\n",
    "    hist =  loan_Preference.get_group(1).hist()\n",
    "    hist.set_xlabel(column)\n",
    "    plt.show()"
   ]
  },
  {
   "cell_type": "code",
   "execution_count": 30,
   "metadata": {},
   "outputs": [
    {
     "data": {
      "image/png": "[encoded data removed]",
      "text/plain": [
       "<Figure size 432x288 with 1 Axes>"
      ]
     },
     "metadata": {
      "needs_background": "light"
     },
     "output_type": "display_data"
    }
   ],
   "source": [
    "plot_column_for_PersonalLoan_opted('Age') #plot the age of customers who opted for personal loan"
   ]
  },
  {
   "cell_type": "markdown",
   "metadata": {},
   "source": [
    "The customers who opted for loan are not in any particular age group.\n",
    "They are distributed uniformly over all age group"
   ]
  },
  {
   "cell_type": "code",
   "execution_count": 31,
   "metadata": {},
   "outputs": [
    {
     "data": {
      "image/png": "[encoded data removed]",
      "text/plain": [
       "<Figure size 432x288 with 1 Axes>"
      ]
     },
     "metadata": {
      "needs_background": "light"
     },
     "output_type": "display_data"
    }
   ],
   "source": [
    "plot_column_for_PersonalLoan_opted('Experience') #plot the Experience of customers who opted for personal loan"
   ]
  },
  {
   "cell_type": "markdown",
   "metadata": {},
   "source": [
    "The customers who opted for loan are not in any particular Experience group. They are distributed uniformly over all age group"
   ]
  },
  {
   "cell_type": "code",
   "execution_count": 32,
   "metadata": {},
   "outputs": [
    {
     "data": {
      "image/png": "[encoded data removed]",
      "text/plain": [
       "<Figure size 432x288 with 1 Axes>"
      ]
     },
     "metadata": {
      "needs_background": "light"
     },
     "output_type": "display_data"
    }
   ],
   "source": [
    "#plot the Income of customers who opted for personal loan\n",
    "grouped_data = plot_column_for_PersonalLoan_opted('Income') "
   ]
  },
  {
   "cell_type": "markdown",
   "metadata": {},
   "source": [
    "We can observe that the customers with **high income have higher chance of getting the loan.**\n",
    "Especially the customers above 120 income are our target customers for campaign."
   ]
  },
  {
   "cell_type": "code",
   "execution_count": 33,
   "metadata": {},
   "outputs": [
    {
     "data": {
      "image/png": "[encoded data removed]",
      "text/plain": [
       "<Figure size 432x288 with 1 Axes>"
      ]
     },
     "metadata": {
      "needs_background": "light"
     },
     "output_type": "display_data"
    }
   ],
   "source": [
    "plot_column_for_PersonalLoan_opted('Mortgage') #plot the Mortgage of customers who opted for personal loan"
   ]
  },
  {
   "cell_type": "markdown",
   "metadata": {},
   "source": [
    "Out of the  480 customers who opted for personal loan ,more than 300 customers dont have mortgage ."
   ]
  },
  {
   "cell_type": "code",
   "execution_count": 34,
   "metadata": {},
   "outputs": [
    {
     "data": {
      "image/png": "[encoded data removed]",
      "text/plain": [
       "<Figure size 432x288 with 1 Axes>"
      ]
     },
     "metadata": {
      "needs_background": "light"
     },
     "output_type": "display_data"
    }
   ],
   "source": [
    "plot_column_for_PersonalLoan_opted('CCAvg') #plot the CCAvg of customers who opted for personal loan"
   ]
  },
  {
   "cell_type": "markdown",
   "metadata": {},
   "source": [
    "The customers who opted for personal have normal distribution over CCAvg data."
   ]
  },
  {
   "cell_type": "code",
   "execution_count": 35,
   "metadata": {},
   "outputs": [
    {
     "data": {
      "text/plain": [
       "<matplotlib.axes._subplots.AxesSubplot at 0x1a238ec0f0>"
      ]
     },
     "execution_count": 35,
     "metadata": {},
     "output_type": "execute_result"
    },
    {
     "data": {
      "image/png": "[encoded data removed]",
      "text/plain": [
       "<Figure size 432x288 with 1 Axes>"
      ]
     },
     "metadata": {
      "needs_background": "light"
     },
     "output_type": "display_data"
    }
   ],
   "source": [
    "# Let us verify if there are patterns between customers who dont have Mortgage and high income.\n",
    "\n",
    "grouped_by_Loan_Preference = customer_df.groupby(customer_df[\"Personal Loan\"]) #group by personal loan\n",
    "opted_group = grouped_by_Loan_Preference.get_group(1) #get loan opted group\n",
    "personal_loan_no_mortgage = opted_group[opted_group['Mortgage'] == 0] #filter the customers with no mortgage\n",
    "personal_loan_no_mortgage['Income'].hist() #plot income of customers with no mortgage and opted personal loan"
   ]
  },
  {
   "cell_type": "markdown",
   "metadata": {},
   "source": [
    "This graph looks almost similar to the graph we have seen only with income group.\n",
    "This clearly represents that\n",
    "\n",
    "<font color=green size=3>**\"Customers with high income and no mortgage have high chance of getting loan\"**<font>"
   ]
  },
  {
   "cell_type": "code",
   "execution_count": 36,
   "metadata": {},
   "outputs": [
    {
     "data": {
      "image/png": "[encoded data removed]",
      "text/plain": [
       "<Figure size 1440x360 with 6 Axes>"
      ]
     },
     "metadata": {
      "needs_background": "light"
     },
     "output_type": "display_data"
    }
   ],
   "source": [
    "#plot the categorical variables against target column\n",
    "\n",
    "categorical_variables = ['Family','Education','Securities Account', 'CD Account','Online','CreditCard']\n",
    "figure, axes= plt.subplots(1, 6, figsize=(20, 5))\n",
    "\n",
    "#iterate all the Categorical columns and plot against target column\n",
    "for idx_colnum in range(len(categorical_variables)): \n",
    "    sns.countplot(x=categorical_variables[idx_colnum] , data=customer_df , hue = 'Personal Loan',ax=axes[idx_colnum] )\n",
    "    \n"
   ]
  },
  {
   "cell_type": "markdown",
   "metadata": {},
   "source": [
    "***Observations***\n",
    "\n",
    "- **Family:** no Linear seperation between classes of target variable.\n",
    "- **Education:** customers with higher education have high chance for opting personal loan. we need to check if it is corelated with Income.\n",
    "- **Securities Account:** Customers without securities account has bought personal loan more than customers with securities account .**Customers with securities account are not our target customers** . \n",
    "- **CD Account** : Though the number of customers without deposit account have personal loans than the ones with deposit accounts , it is interesting to see that **almost all the customers with CD account have personal loan**.This may be due to the reason the banks accept CD account as collateral and offer higher amount for personal loan.\n",
    "- **Online:** no Linear seperation between classes of target variable.\n",
    "- **CreditCard** no Linear seperation between classes of target variable.\n",
    "\n",
    "<font color=green size=3>**\"Customers with higher education or with CD account have high chance of getting loan\"**<font>"
   ]
  },
  {
   "cell_type": "code",
   "execution_count": 37,
   "metadata": {},
   "outputs": [
    {
     "name": "stdout",
     "output_type": "stream",
     "text": [
      "<class 'pandas.core.frame.DataFrame'>\n",
      "RangeIndex: 5000 entries, 0 to 4999\n",
      "Data columns (total 12 columns):\n",
      "Age                   5000 non-null int64\n",
      "Experience            5000 non-null int64\n",
      "Income                5000 non-null int64\n",
      "Family                5000 non-null category\n",
      "CCAvg                 5000 non-null float64\n",
      "Education             5000 non-null category\n",
      "Mortgage              5000 non-null int64\n",
      "Personal Loan         5000 non-null category\n",
      "Securities Account    5000 non-null category\n",
      "CD Account            5000 non-null category\n",
      "Online                5000 non-null category\n",
      "CreditCard            5000 non-null category\n",
      "dtypes: category(7), float64(1), int64(4)\n",
      "memory usage: 230.3 KB\n"
     ]
    }
   ],
   "source": [
    "# convert the datatype of categorical variables as category\n",
    "\n",
    "for feature in categorical_variables:\n",
    "    customer_df[feature] = customer_df[feature].astype('category') \n",
    "\n",
    "customer_df['Personal Loan'] = customer_df['Personal Loan'].astype('category')# convert target variable datatype\n",
    "\n",
    "\n",
    "#verify the info to check the change of datatype\n",
    "customer_df.info() "
   ]
  },
  {
   "cell_type": "code",
   "execution_count": 38,
   "metadata": {},
   "outputs": [
    {
     "data": {
      "text/html": [
       "<div>\n",
       "<style scoped>\n",
       "    .dataframe tbody tr th:only-of-type {\n",
       "        vertical-align: middle;\n",
       "    }\n",
       "\n",
       "    .dataframe tbody tr th {\n",
       "        vertical-align: top;\n",
       "    }\n",
       "\n",
       "    .dataframe thead th {\n",
       "        text-align: right;\n",
       "    }\n",
       "</style>\n",
       "<table border=\"1\" class=\"dataframe\">\n",
       "  <thead>\n",
       "    <tr style=\"text-align: right;\">\n",
       "      <th></th>\n",
       "      <th>Family_1</th>\n",
       "      <th>Family_2</th>\n",
       "      <th>Family_3</th>\n",
       "      <th>Family_4</th>\n",
       "      <th>Education_1</th>\n",
       "      <th>Education_2</th>\n",
       "      <th>Education_3</th>\n",
       "    </tr>\n",
       "  </thead>\n",
       "  <tbody>\n",
       "    <tr>\n",
       "      <th>0</th>\n",
       "      <td>0</td>\n",
       "      <td>0</td>\n",
       "      <td>0</td>\n",
       "      <td>1</td>\n",
       "      <td>1</td>\n",
       "      <td>0</td>\n",
       "      <td>0</td>\n",
       "    </tr>\n",
       "    <tr>\n",
       "      <th>1</th>\n",
       "      <td>0</td>\n",
       "      <td>0</td>\n",
       "      <td>1</td>\n",
       "      <td>0</td>\n",
       "      <td>1</td>\n",
       "      <td>0</td>\n",
       "      <td>0</td>\n",
       "    </tr>\n",
       "    <tr>\n",
       "      <th>2</th>\n",
       "      <td>1</td>\n",
       "      <td>0</td>\n",
       "      <td>0</td>\n",
       "      <td>0</td>\n",
       "      <td>1</td>\n",
       "      <td>0</td>\n",
       "      <td>0</td>\n",
       "    </tr>\n",
       "    <tr>\n",
       "      <th>3</th>\n",
       "      <td>1</td>\n",
       "      <td>0</td>\n",
       "      <td>0</td>\n",
       "      <td>0</td>\n",
       "      <td>0</td>\n",
       "      <td>1</td>\n",
       "      <td>0</td>\n",
       "    </tr>\n",
       "    <tr>\n",
       "      <th>4</th>\n",
       "      <td>0</td>\n",
       "      <td>0</td>\n",
       "      <td>0</td>\n",
       "      <td>1</td>\n",
       "      <td>0</td>\n",
       "      <td>1</td>\n",
       "      <td>0</td>\n",
       "    </tr>\n",
       "  </tbody>\n",
       "</table>\n",
       "</div>"
      ],
      "text/plain": [
       "   Family_1  Family_2  Family_3  Family_4  Education_1  Education_2  \\\n",
       "0         0         0         0         1            1            0   \n",
       "1         0         0         1         0            1            0   \n",
       "2         1         0         0         0            1            0   \n",
       "3         1         0         0         0            0            1   \n",
       "4         0         0         0         1            0            1   \n",
       "\n",
       "   Education_3  \n",
       "0            0  \n",
       "1            0  \n",
       "2            0  \n",
       "3            0  \n",
       "4            0  "
      ]
     },
     "execution_count": 38,
     "metadata": {},
     "output_type": "execute_result"
    }
   ],
   "source": [
    "#One-hot-coding of categorical variables : the categorical variables must be in the value of 0 or 1 .\n",
    "#Otherwise the algorithms will consider them as weighted values instead of categories\n",
    "#Only Family , Education have the values other than 0 or 1\n",
    "categories_to_swap = ['Family', 'Education'] \n",
    "#pandas get dummies function does one hot coding \n",
    "temp_df = pd.get_dummies(customer_df[categories_to_swap], prefix=categories_to_swap) \n",
    "temp_df.head()\n"
   ]
  },
  {
   "cell_type": "code",
   "execution_count": 39,
   "metadata": {},
   "outputs": [
    {
     "data": {
      "text/html": [
       "<div>\n",
       "<style scoped>\n",
       "    .dataframe tbody tr th:only-of-type {\n",
       "        vertical-align: middle;\n",
       "    }\n",
       "\n",
       "    .dataframe tbody tr th {\n",
       "        vertical-align: top;\n",
       "    }\n",
       "\n",
       "    .dataframe thead th {\n",
       "        text-align: right;\n",
       "    }\n",
       "</style>\n",
       "<table border=\"1\" class=\"dataframe\">\n",
       "  <thead>\n",
       "    <tr style=\"text-align: right;\">\n",
       "      <th></th>\n",
       "      <th>Age</th>\n",
       "      <th>Experience</th>\n",
       "      <th>Income</th>\n",
       "      <th>CCAvg</th>\n",
       "      <th>Mortgage</th>\n",
       "      <th>Personal Loan</th>\n",
       "      <th>Securities Account</th>\n",
       "      <th>CD Account</th>\n",
       "      <th>Online</th>\n",
       "      <th>CreditCard</th>\n",
       "      <th>Family_1</th>\n",
       "      <th>Family_2</th>\n",
       "      <th>Family_3</th>\n",
       "      <th>Family_4</th>\n",
       "      <th>Education_1</th>\n",
       "      <th>Education_2</th>\n",
       "      <th>Education_3</th>\n",
       "    </tr>\n",
       "  </thead>\n",
       "  <tbody>\n",
       "    <tr>\n",
       "      <th>0</th>\n",
       "      <td>25</td>\n",
       "      <td>1</td>\n",
       "      <td>49</td>\n",
       "      <td>1.6</td>\n",
       "      <td>0</td>\n",
       "      <td>0</td>\n",
       "      <td>1</td>\n",
       "      <td>0</td>\n",
       "      <td>0</td>\n",
       "      <td>0</td>\n",
       "      <td>0</td>\n",
       "      <td>0</td>\n",
       "      <td>0</td>\n",
       "      <td>1</td>\n",
       "      <td>1</td>\n",
       "      <td>0</td>\n",
       "      <td>0</td>\n",
       "    </tr>\n",
       "    <tr>\n",
       "      <th>1</th>\n",
       "      <td>45</td>\n",
       "      <td>19</td>\n",
       "      <td>34</td>\n",
       "      <td>1.5</td>\n",
       "      <td>0</td>\n",
       "      <td>0</td>\n",
       "      <td>1</td>\n",
       "      <td>0</td>\n",
       "      <td>0</td>\n",
       "      <td>0</td>\n",
       "      <td>0</td>\n",
       "      <td>0</td>\n",
       "      <td>1</td>\n",
       "      <td>0</td>\n",
       "      <td>1</td>\n",
       "      <td>0</td>\n",
       "      <td>0</td>\n",
       "    </tr>\n",
       "    <tr>\n",
       "      <th>2</th>\n",
       "      <td>39</td>\n",
       "      <td>15</td>\n",
       "      <td>11</td>\n",
       "      <td>1.0</td>\n",
       "      <td>0</td>\n",
       "      <td>0</td>\n",
       "      <td>0</td>\n",
       "      <td>0</td>\n",
       "      <td>0</td>\n",
       "      <td>0</td>\n",
       "      <td>1</td>\n",
       "      <td>0</td>\n",
       "      <td>0</td>\n",
       "      <td>0</td>\n",
       "      <td>1</td>\n",
       "      <td>0</td>\n",
       "      <td>0</td>\n",
       "    </tr>\n",
       "    <tr>\n",
       "      <th>3</th>\n",
       "      <td>35</td>\n",
       "      <td>9</td>\n",
       "      <td>100</td>\n",
       "      <td>2.7</td>\n",
       "      <td>0</td>\n",
       "      <td>0</td>\n",
       "      <td>0</td>\n",
       "      <td>0</td>\n",
       "      <td>0</td>\n",
       "      <td>0</td>\n",
       "      <td>1</td>\n",
       "      <td>0</td>\n",
       "      <td>0</td>\n",
       "      <td>0</td>\n",
       "      <td>0</td>\n",
       "      <td>1</td>\n",
       "      <td>0</td>\n",
       "    </tr>\n",
       "    <tr>\n",
       "      <th>4</th>\n",
       "      <td>35</td>\n",
       "      <td>8</td>\n",
       "      <td>45</td>\n",
       "      <td>1.0</td>\n",
       "      <td>0</td>\n",
       "      <td>0</td>\n",
       "      <td>0</td>\n",
       "      <td>0</td>\n",
       "      <td>0</td>\n",
       "      <td>1</td>\n",
       "      <td>0</td>\n",
       "      <td>0</td>\n",
       "      <td>0</td>\n",
       "      <td>1</td>\n",
       "      <td>0</td>\n",
       "      <td>1</td>\n",
       "      <td>0</td>\n",
       "    </tr>\n",
       "  </tbody>\n",
       "</table>\n",
       "</div>"
      ],
      "text/plain": [
       "   Age  Experience  Income  CCAvg  Mortgage Personal Loan Securities Account  \\\n",
       "0   25           1      49    1.6         0             0                  1   \n",
       "1   45          19      34    1.5         0             0                  1   \n",
       "2   39          15      11    1.0         0             0                  0   \n",
       "3   35           9     100    2.7         0             0                  0   \n",
       "4   35           8      45    1.0         0             0                  0   \n",
       "\n",
       "  CD Account Online CreditCard  Family_1  Family_2  Family_3  Family_4  \\\n",
       "0          0      0          0         0         0         0         1   \n",
       "1          0      0          0         0         0         1         0   \n",
       "2          0      0          0         1         0         0         0   \n",
       "3          0      0          0         1         0         0         0   \n",
       "4          0      0          1         0         0         0         1   \n",
       "\n",
       "   Education_1  Education_2  Education_3  \n",
       "0            1            0            0  \n",
       "1            1            0            0  \n",
       "2            1            0            0  \n",
       "3            0            1            0  \n",
       "4            0            1            0  "
      ]
     },
     "execution_count": 39,
     "metadata": {},
     "output_type": "execute_result"
    }
   ],
   "source": [
    "#dropping the irrelavnt original features and concatenating the actual categoricals #\n",
    "customer_df.drop(categories_to_swap, axis=1, inplace=True)\n",
    "customer_df = pd.concat([customer_df, temp_df], axis=1)\n",
    "customer_df.head()"
   ]
  },
  {
   "cell_type": "code",
   "execution_count": 92,
   "metadata": {},
   "outputs": [],
   "source": [
    "categorical_variables = ['Family_1','Family_2','Family_3', 'Family_4','Education_1','Education_2' , 'Education_3']\n",
    "for feature in categorical_variables:\n",
    "    customer_df[feature] = customer_df[feature].astype('category')"
   ]
  },
  {
   "cell_type": "code",
   "execution_count": 93,
   "metadata": {},
   "outputs": [
    {
     "name": "stdout",
     "output_type": "stream",
     "text": [
      "<class 'pandas.core.frame.DataFrame'>\n",
      "RangeIndex: 5000 entries, 0 to 4999\n",
      "Data columns (total 17 columns):\n",
      "Age                   5000 non-null int64\n",
      "Experience            5000 non-null int64\n",
      "Income                5000 non-null int64\n",
      "CCAvg                 5000 non-null float64\n",
      "Mortgage              5000 non-null int64\n",
      "Personal Loan         5000 non-null category\n",
      "Securities Account    5000 non-null category\n",
      "CD Account            5000 non-null category\n",
      "Online                5000 non-null category\n",
      "CreditCard            5000 non-null category\n",
      "Family_1              5000 non-null category\n",
      "Family_2              5000 non-null category\n",
      "Family_3              5000 non-null category\n",
      "Family_4              5000 non-null category\n",
      "Education_1           5000 non-null category\n",
      "Education_2           5000 non-null category\n",
      "Education_3           5000 non-null category\n",
      "dtypes: category(12), float64(1), int64(4)\n",
      "memory usage: 255.1 KB\n"
     ]
    }
   ],
   "source": [
    "customer_df.info()"
   ]
  },
  {
   "cell_type": "markdown",
   "metadata": {},
   "source": [
    "# Prediction"
   ]
  },
  {
   "cell_type": "markdown",
   "metadata": {},
   "source": [
    "# Iteration 1 : Using the data as given"
   ]
  },
  {
   "cell_type": "code",
   "execution_count": 94,
   "metadata": {},
   "outputs": [],
   "source": [
    "def cross_validation_scores(model , X_train, y_train):\n",
    "    \"\"\"Gives the cross validation Accurancy mean and standard deviation\"\"\"\n",
    "    \n",
    "    accuracies_lr= cross_val_score(estimator = model, X = X_train, y = y_train, cv = 10) \n",
    "    accuracies_lr_mean=accuracies_lr.mean()*100\n",
    "    print(\"Mean Accuracy for cross validation = \",accuracies_lr_mean)\n",
    "\n",
    "    accuracies_lr_std=accuracies_lr.std()*100\n",
    "    print(\"Standard Deviation for cross validation = \",accuracies_lr_std)"
   ]
  },
  {
   "cell_type": "code",
   "execution_count": 95,
   "metadata": {},
   "outputs": [],
   "source": [
    "def get_auc_roc_score(model, X_train, y_train) :\n",
    "    \"\"\"Gives the Auc Roc Scores from cross validation\"\"\"\n",
    "    \n",
    "    mean_roc_auc_score = cross_val_score(estimator = model, X = X_train, y = y_train, scoring=\"roc_auc\", cv = 7).mean()\n",
    "    std_roc_auc_score = cross_val_score(estimator = model, X = X_train, y = y_train, scoring=\"roc_auc\", cv = 7).std()\n",
    "\n",
    "    print(\"Mean AUC ROC Score:\",mean_roc_auc_score)\n",
    "    print(\"Std Dev AUC ROC Score:\",std_roc_auc_score)\n"
   ]
  },
  {
   "cell_type": "code",
   "execution_count": 96,
   "metadata": {},
   "outputs": [],
   "source": [
    "def train_classifier(classifier, X_train, X_test, y_train, y_test):\n",
    "    \"\"\"Trains the classifier algorithm , cross validates and prints the results\"\"\"\n",
    "    \n",
    "    classifier.fit(X_train,y_train) # train model\n",
    "    y_pred=classifier.predict(X_test) # test model\n",
    "    test_score = classifier.score(X_test, y_test) # get testing score\n",
    "    train_score = classifier.score(X_train,y_train) # get training score\n",
    "    print(\"training score = \" ,train_score)\n",
    "    print(\"testing score = \" ,test_score)\n",
    "    \n",
    "    cross_validation_scores(classifier , X_train, y_train) # get cross validation scores\n",
    "    get_auc_roc_score(classifier , X_train, y_train) # get auc_roc scores\n",
    "    "
   ]
  },
  {
   "cell_type": "code",
   "execution_count": 97,
   "metadata": {},
   "outputs": [],
   "source": [
    "#List of classifiers algorithms to try\n",
    "classifiers = [\n",
    "    LogisticRegression(solver='liblinear'),\n",
    "    KNeighborsClassifier(n_neighbors=3),\n",
    "    SVC(kernel=\"rbf\", C=0.025, probability=True, gamma = 0.025),\n",
    "    DecisionTreeClassifier(),\n",
    "    RandomForestClassifier(n_estimators = 10),\n",
    "    AdaBoostClassifier(),\n",
    "    GradientBoostingClassifier(),\n",
    "    ]\n"
   ]
  },
  {
   "cell_type": "code",
   "execution_count": 98,
   "metadata": {
    "scrolled": true
   },
   "outputs": [],
   "source": [
    "#utility method to iterate over all the algorithms\n",
    "def train_and_print_training_scores(X_train, X_test, y_train, y_test):\n",
    "\n",
    "    for classifier in classifiers: #iterate through all classifiers\n",
    "        name = classifier.__class__.__name__ # get the classifier name\n",
    "    \n",
    "        print(\"=\"*30)\n",
    "        print(name)\n",
    "    \n",
    "        print('****Results****')\n",
    "        \n",
    "        train_classifier(classifier, X_train, X_test, y_train, y_test) # train the model\n",
    "        \n",
    "        "
   ]
  },
  {
   "cell_type": "code",
   "execution_count": 99,
   "metadata": {},
   "outputs": [],
   "source": [
    "def print_classification_report_loan_class(X_train, X_test, y_train, y_test):\n",
    "    \n",
    "    # Logging for Visual Comparison\n",
    "    log_cols=[\"Classifier\", \"FN\", \"TP\" , \"Precision\" , \"Recall\" , \"F1_score\"]\n",
    "    log = pd.DataFrame(columns=log_cols)\n",
    "    \n",
    "    for classifier in classifiers: #iterate through all classifiers\n",
    "        name = classifier.__class__.__name__ # get the classifier name\n",
    "        classifier.fit(X_train,y_train) # train model\n",
    "        y_pred=classifier.predict(X_test) # test model\n",
    "        \n",
    "        label_for_loan = [1]\n",
    "        \n",
    "        confusion_mat = confusion_matrix(y_test,y_pred) #get the confusion matrix\n",
    "        precision = metrics.precision_score(y_test, y_pred, average='weighted', labels=label_for_loan)\n",
    "        recall = metrics.recall_score(y_test, y_pred, average='weighted', labels=label_for_loan)\n",
    "        f1_score = metrics.f1_score(y_test, y_pred, average='weighted', labels=label_for_loan)\n",
    "\n",
    "\n",
    "        False_Negative  = confusion_mat[1,0]\n",
    "        True_Positive = confusion_mat[1,1]\n",
    "        \n",
    "        log_entry = pd.DataFrame([[name, False_Negative, True_Positive ,precision ,recall ,f1_score ]], columns=log_cols)\n",
    "        log = log.append(log_entry)\n",
    "   \n",
    "    \n",
    "    print(log.sort_values(by=['F1_score'], ascending=False))"
   ]
  },
  {
   "cell_type": "code",
   "execution_count": 100,
   "metadata": {},
   "outputs": [],
   "source": [
    "X = customer_df.drop('Personal Loan', axis=1) \n",
    "y = customer_df['Personal Loan']"
   ]
  },
  {
   "cell_type": "code",
   "execution_count": 101,
   "metadata": {},
   "outputs": [
    {
     "data": {
      "text/plain": [
       "(5000, 16)"
      ]
     },
     "execution_count": 101,
     "metadata": {},
     "output_type": "execute_result"
    }
   ],
   "source": [
    "X.shape"
   ]
  },
  {
   "cell_type": "code",
   "execution_count": 102,
   "metadata": {},
   "outputs": [],
   "source": [
    "# split the data for training and test\n",
    "X_train, X_test, y_train, y_test = train_test_split(X, y, test_size=0.10, random_state=1)"
   ]
  },
  {
   "cell_type": "code",
   "execution_count": 103,
   "metadata": {},
   "outputs": [
    {
     "name": "stdout",
     "output_type": "stream",
     "text": [
      "==============================\n",
      "LogisticRegression\n",
      "****Results****\n",
      "training score =  0.9611111111111111\n",
      "testing score =  0.958\n",
      "Mean Accuracy for cross validation =  96.08867621294152\n",
      "Standard Deviation for cross validation =  0.7327042818300545\n",
      "Mean AUC ROC Score: 0.9627411421875492\n",
      "Std Dev AUC ROC Score: 0.007903753650356567\n",
      "==============================\n",
      "KNeighborsClassifier\n",
      "****Results****\n",
      "training score =  0.9526666666666667\n",
      "testing score =  0.912\n",
      "Mean Accuracy for cross validation =  90.31122139972159\n",
      "Standard Deviation for cross validation =  0.7771539226678478\n",
      "Mean AUC ROC Score: 0.8345787768666179\n",
      "Std Dev AUC ROC Score: 0.027988899363599332\n",
      "==============================\n",
      "SVC\n",
      "****Results****\n",
      "training score =  0.9031111111111111\n",
      "testing score =  0.912\n",
      "Mean Accuracy for cross validation =  90.31127045346177\n",
      "Standard Deviation for cross validation =  0.09170189067060672\n",
      "Mean AUC ROC Score: 0.8773679185393168\n",
      "Std Dev AUC ROC Score: 0.01628669143650802\n",
      "==============================\n",
      "DecisionTreeClassifier\n",
      "****Results****\n",
      "training score =  1.0\n",
      "testing score =  0.984\n",
      "Mean Accuracy for cross validation =  98.0892274365141\n",
      "Standard Deviation for cross validation =  0.6669941840598621\n",
      "Mean AUC ROC Score: 0.9499230940393814\n",
      "Std Dev AUC ROC Score: 0.017091655661579358\n",
      "==============================\n",
      "RandomForestClassifier\n",
      "****Results****\n",
      "training score =  0.9984444444444445\n",
      "testing score =  0.98\n",
      "Mean Accuracy for cross validation =  98.55638968861848\n",
      "Standard Deviation for cross validation =  0.5798331730707857\n",
      "Mean AUC ROC Score: 0.9844109188076258\n",
      "Std Dev AUC ROC Score: 0.011788125164640903\n",
      "==============================\n",
      "AdaBoostClassifier\n",
      "****Results****\n",
      "training score =  0.9704444444444444\n",
      "testing score =  0.968\n",
      "Mean Accuracy for cross validation =  96.82235775101222\n",
      "Standard Deviation for cross validation =  0.5877670351343951\n",
      "Mean AUC ROC Score: 0.9822982467678081\n",
      "Std Dev AUC ROC Score: 0.006175670572063509\n",
      "==============================\n",
      "GradientBoostingClassifier\n",
      "****Results****\n",
      "training score =  0.9931111111111111\n",
      "testing score =  0.986\n",
      "Mean Accuracy for cross validation =  98.75589695641844\n",
      "Standard Deviation for cross validation =  0.46774491816815217\n",
      "Mean AUC ROC Score: 0.9979928245841927\n",
      "Std Dev AUC ROC Score: 0.0008360996573658177\n"
     ]
    }
   ],
   "source": [
    "#train the given set of classifiers and print the results\n",
    "train_and_print_training_scores(X_train, X_test, y_train, y_test)"
   ]
  },
  {
   "cell_type": "code",
   "execution_count": 104,
   "metadata": {},
   "outputs": [
    {
     "name": "stderr",
     "output_type": "stream",
     "text": [
      "/anaconda3/lib/python3.7/site-packages/sklearn/metrics/classification.py:1143: UndefinedMetricWarning: Precision is ill-defined and being set to 0.0 due to no predicted samples.\n",
      "  'precision', 'predicted', average, warn_for)\n",
      "/anaconda3/lib/python3.7/site-packages/sklearn/metrics/classification.py:1143: UndefinedMetricWarning: F-score is ill-defined and being set to 0.0 due to no predicted samples.\n",
      "  'precision', 'predicted', average, warn_for)\n"
     ]
    },
    {
     "name": "stdout",
     "output_type": "stream",
     "text": [
      "                   Classifier  FN  TP  Precision    Recall  F1_score\n",
      "0      DecisionTreeClassifier   5  39   0.951220  0.886364  0.917647\n",
      "0  GradientBoostingClassifier   5  39   0.951220  0.886364  0.917647\n",
      "0      RandomForestClassifier   6  38   0.950000  0.863636  0.904762\n",
      "0          AdaBoostClassifier  10  34   0.850000  0.772727  0.809524\n",
      "0          LogisticRegression  17  27   0.870968  0.613636  0.720000\n",
      "0        KNeighborsClassifier  25  19   0.500000  0.431818  0.463415\n",
      "0                         SVC  44   0   0.000000  0.000000  0.000000\n"
     ]
    }
   ],
   "source": [
    "print_classification_report_loan_class(X_train, X_test, y_train, y_test)"
   ]
  },
  {
   "cell_type": "markdown",
   "metadata": {},
   "source": [
    "**Model Evaluation from Iteration 1***\n",
    "\n",
    "- All the algorithms are giving very good accuracy due to class imbalance.\n",
    "- In this business case , we should be able to reach maximum number of customers who have the potential to get personal loan , so False Negatives and True Positives are the important criteria to be verified.\n",
    "- In this first attempt ,DecisionTreeClassifier has the best F1 score.\n",
    "- The training and testing scores are good for all algorithms.\n",
    "- The standard deviation of the cross validation looks very high."
   ]
  },
  {
   "cell_type": "markdown",
   "metadata": {},
   "source": [
    "# Iteration 2 : scaling of continuous data"
   ]
  },
  {
   "cell_type": "code",
   "execution_count": 119,
   "metadata": {},
   "outputs": [],
   "source": [
    "def scale_continous_features(X_df):\n",
    "    \"\"\" scale the continous features\"\"\"\n",
    "    \n",
    "    continous_features = ['Age','Experience', 'Income', 'CCAvg', 'Mortgage']\n",
    "\n",
    "    copy_X = X_df[continous_features].copy() # create copy not to corrupt the original data\n",
    "    \n",
    "    f_scale = RobustScaler().fit(copy_X[continous_features].values) # using robust scaler \n",
    "    copy_X[continous_features] = f_scale.transform(copy_X[continous_features].values)\n",
    "    scaled_X_df = X_df.copy()\n",
    "    scaled_X_df.drop(continous_features, axis=1, inplace=True)\n",
    "    scaled_X_df = pd.concat([scaled_X_df, copy_X], axis=1) \n",
    "    return scaled_X_df\n"
   ]
  },
  {
   "cell_type": "code",
   "execution_count": 123,
   "metadata": {},
   "outputs": [],
   "source": [
    "X_train_scaled = scale_continous_features(X_train)  # scaling the training set \n",
    "X_test_scaled = scale_continous_features(X_test) # scaling the testing set"
   ]
  },
  {
   "cell_type": "code",
   "execution_count": 124,
   "metadata": {},
   "outputs": [
    {
     "name": "stdout",
     "output_type": "stream",
     "text": [
      "==============================\n",
      "LogisticRegression\n",
      "****Results****\n",
      "training score =  0.9597777777777777\n",
      "testing score =  0.96\n",
      "Mean Accuracy for cross validation =  95.82195917565575\n",
      "Standard Deviation for cross validation =  0.7305099962542904\n",
      "Mean AUC ROC Score: 0.963688638330893\n",
      "Std Dev AUC ROC Score: 0.008642688592408708\n",
      "==============================\n",
      "KNeighborsClassifier\n",
      "****Results****\n",
      "training score =  0.978\n",
      "testing score =  0.97\n",
      "Mean Accuracy for cross validation =  96.22314612253231\n",
      "Standard Deviation for cross validation =  0.7194031663597091\n",
      "Mean AUC ROC Score: 0.9136030833543444\n",
      "Std Dev AUC ROC Score: 0.026852478037188016\n",
      "==============================\n",
      "SVC\n",
      "****Results****\n",
      "training score =  0.9031111111111111\n",
      "testing score =  0.912\n",
      "Mean Accuracy for cross validation =  90.31127045346177\n",
      "Standard Deviation for cross validation =  0.09170189067060672\n",
      "Mean AUC ROC Score: 0.9694219537144482\n",
      "Std Dev AUC ROC Score: 0.00989290465689901\n",
      "==============================\n",
      "DecisionTreeClassifier\n",
      "****Results****\n",
      "training score =  1.0\n",
      "testing score =  0.97\n",
      "Mean Accuracy for cross validation =  98.08937569513375\n",
      "Standard Deviation for cross validation =  0.6516944499193463\n",
      "Mean AUC ROC Score: 0.9483467015246446\n",
      "Std Dev AUC ROC Score: 0.017751993680932113\n",
      "==============================\n",
      "RandomForestClassifier\n",
      "****Results****\n",
      "training score =  0.9988888888888889\n",
      "testing score =  0.972\n",
      "Mean Accuracy for cross validation =  98.62271078430564\n",
      "Standard Deviation for cross validation =  0.3246556700322273\n",
      "Mean AUC ROC Score: 0.9913579854322176\n",
      "Std Dev AUC ROC Score: 0.0060728904544512415\n",
      "==============================\n",
      "AdaBoostClassifier\n",
      "****Results****\n",
      "training score =  0.9704444444444444\n",
      "testing score =  0.956\n",
      "Mean Accuracy for cross validation =  96.82235775101222\n",
      "Standard Deviation for cross validation =  0.5877670351343951\n",
      "Mean AUC ROC Score: 0.9822982467678081\n",
      "Std Dev AUC ROC Score: 0.006175670572063509\n",
      "==============================\n",
      "GradientBoostingClassifier\n",
      "****Results****\n",
      "training score =  0.9931111111111111\n",
      "testing score =  0.976\n",
      "Mean Accuracy for cross validation =  98.75589695641844\n",
      "Standard Deviation for cross validation =  0.46774491816815217\n",
      "Mean AUC ROC Score: 0.9979568612098151\n",
      "Std Dev AUC ROC Score: 0.0008509897217217711\n"
     ]
    }
   ],
   "source": [
    "train_and_print_training_scores(X_train_scaled, X_test_scaled, y_train, y_test)"
   ]
  },
  {
   "cell_type": "code",
   "execution_count": 125,
   "metadata": {},
   "outputs": [
    {
     "name": "stderr",
     "output_type": "stream",
     "text": [
      "/anaconda3/lib/python3.7/site-packages/sklearn/metrics/classification.py:1143: UndefinedMetricWarning: Precision is ill-defined and being set to 0.0 due to no predicted samples.\n",
      "  'precision', 'predicted', average, warn_for)\n",
      "/anaconda3/lib/python3.7/site-packages/sklearn/metrics/classification.py:1143: UndefinedMetricWarning: F-score is ill-defined and being set to 0.0 due to no predicted samples.\n",
      "  'precision', 'predicted', average, warn_for)\n"
     ]
    },
    {
     "name": "stdout",
     "output_type": "stream",
     "text": [
      "                   Classifier  FN  TP  Precision    Recall  F1_score\n",
      "0      RandomForestClassifier   3  41   0.872340  0.931818  0.901099\n",
      "0  GradientBoostingClassifier   4  40   0.833333  0.909091  0.869565\n",
      "0      DecisionTreeClassifier   5  39   0.812500  0.886364  0.847826\n",
      "0        KNeighborsClassifier  12  32   0.914286  0.727273  0.810127\n",
      "0          LogisticRegression  11  33   0.785714  0.750000  0.767442\n",
      "0          AdaBoostClassifier  12  32   0.761905  0.727273  0.744186\n",
      "0                         SVC  44   0   0.000000  0.000000  0.000000\n"
     ]
    }
   ],
   "source": [
    "print_classification_report_loan_class(X_train_scaled, X_test_scaled, y_train, y_test)"
   ]
  },
  {
   "cell_type": "markdown",
   "metadata": {},
   "source": [
    "***model evaluation***\n",
    "\n",
    "- the metrics such as Recall , precision , F1_score has gone down after the scaling.\n",
    "- even the accuracies have dropped.\n",
    "- GradientBoostingClassifier is performing consistently well\n",
    "- the standard deviation of the cross validation still remains high\n"
   ]
  },
  {
   "cell_type": "markdown",
   "metadata": {},
   "source": [
    "# Iteration 3: Feature Selection with Correlation matrix"
   ]
  },
  {
   "cell_type": "code",
   "execution_count": 127,
   "metadata": {},
   "outputs": [
    {
     "data": {
      "image/png": "[encoded data removed]",
      "text/plain": [
       "<Figure size 864x720 with 2 Axes>"
      ]
     },
     "metadata": {},
     "output_type": "display_data"
    }
   ],
   "source": [
    "corr = X_train.corr()\n",
    "plt.figure(figsize=(12,10))\n",
    "sns.heatmap(corr,annot=True,cmap ='RdYlGn')\n",
    "plt.show()"
   ]
  },
  {
   "cell_type": "markdown",
   "metadata": {},
   "source": [
    "From the above heat map we can see that Age and experience has high correlation.\n",
    "Let us leave the 'Age' Column and try to check the performance."
   ]
  },
  {
   "cell_type": "code",
   "execution_count": 128,
   "metadata": {},
   "outputs": [
    {
     "data": {
      "text/html": [
       "<div>\n",
       "<style scoped>\n",
       "    .dataframe tbody tr th:only-of-type {\n",
       "        vertical-align: middle;\n",
       "    }\n",
       "\n",
       "    .dataframe tbody tr th {\n",
       "        vertical-align: top;\n",
       "    }\n",
       "\n",
       "    .dataframe thead th {\n",
       "        text-align: right;\n",
       "    }\n",
       "</style>\n",
       "<table border=\"1\" class=\"dataframe\">\n",
       "  <thead>\n",
       "    <tr style=\"text-align: right;\">\n",
       "      <th></th>\n",
       "      <th>Experience</th>\n",
       "      <th>Income</th>\n",
       "      <th>CCAvg</th>\n",
       "      <th>Mortgage</th>\n",
       "      <th>Securities Account</th>\n",
       "      <th>CD Account</th>\n",
       "      <th>Online</th>\n",
       "      <th>CreditCard</th>\n",
       "      <th>Family_1</th>\n",
       "      <th>Family_2</th>\n",
       "      <th>Family_3</th>\n",
       "      <th>Family_4</th>\n",
       "      <th>Education_1</th>\n",
       "      <th>Education_2</th>\n",
       "      <th>Education_3</th>\n",
       "    </tr>\n",
       "  </thead>\n",
       "  <tbody>\n",
       "    <tr>\n",
       "      <th>3150</th>\n",
       "      <td>22</td>\n",
       "      <td>124</td>\n",
       "      <td>5.0</td>\n",
       "      <td>0</td>\n",
       "      <td>0</td>\n",
       "      <td>0</td>\n",
       "      <td>0</td>\n",
       "      <td>0</td>\n",
       "      <td>0</td>\n",
       "      <td>0</td>\n",
       "      <td>0</td>\n",
       "      <td>1</td>\n",
       "      <td>0</td>\n",
       "      <td>0</td>\n",
       "      <td>1</td>\n",
       "    </tr>\n",
       "    <tr>\n",
       "      <th>4633</th>\n",
       "      <td>5</td>\n",
       "      <td>50</td>\n",
       "      <td>1.5</td>\n",
       "      <td>0</td>\n",
       "      <td>0</td>\n",
       "      <td>0</td>\n",
       "      <td>1</td>\n",
       "      <td>0</td>\n",
       "      <td>1</td>\n",
       "      <td>0</td>\n",
       "      <td>0</td>\n",
       "      <td>0</td>\n",
       "      <td>1</td>\n",
       "      <td>0</td>\n",
       "      <td>0</td>\n",
       "    </tr>\n",
       "    <tr>\n",
       "      <th>1783</th>\n",
       "      <td>27</td>\n",
       "      <td>192</td>\n",
       "      <td>1.7</td>\n",
       "      <td>601</td>\n",
       "      <td>0</td>\n",
       "      <td>0</td>\n",
       "      <td>1</td>\n",
       "      <td>0</td>\n",
       "      <td>1</td>\n",
       "      <td>0</td>\n",
       "      <td>0</td>\n",
       "      <td>0</td>\n",
       "      <td>1</td>\n",
       "      <td>0</td>\n",
       "      <td>0</td>\n",
       "    </tr>\n",
       "    <tr>\n",
       "      <th>2541</th>\n",
       "      <td>8</td>\n",
       "      <td>171</td>\n",
       "      <td>2.2</td>\n",
       "      <td>569</td>\n",
       "      <td>0</td>\n",
       "      <td>0</td>\n",
       "      <td>1</td>\n",
       "      <td>0</td>\n",
       "      <td>0</td>\n",
       "      <td>1</td>\n",
       "      <td>0</td>\n",
       "      <td>0</td>\n",
       "      <td>0</td>\n",
       "      <td>1</td>\n",
       "      <td>0</td>\n",
       "    </tr>\n",
       "    <tr>\n",
       "      <th>2928</th>\n",
       "      <td>6</td>\n",
       "      <td>175</td>\n",
       "      <td>6.7</td>\n",
       "      <td>0</td>\n",
       "      <td>0</td>\n",
       "      <td>0</td>\n",
       "      <td>1</td>\n",
       "      <td>0</td>\n",
       "      <td>0</td>\n",
       "      <td>1</td>\n",
       "      <td>0</td>\n",
       "      <td>0</td>\n",
       "      <td>1</td>\n",
       "      <td>0</td>\n",
       "      <td>0</td>\n",
       "    </tr>\n",
       "  </tbody>\n",
       "</table>\n",
       "</div>"
      ],
      "text/plain": [
       "      Experience  Income  CCAvg  Mortgage Securities Account CD Account  \\\n",
       "3150          22     124    5.0         0                  0          0   \n",
       "4633           5      50    1.5         0                  0          0   \n",
       "1783          27     192    1.7       601                  0          0   \n",
       "2541           8     171    2.2       569                  0          0   \n",
       "2928           6     175    6.7         0                  0          0   \n",
       "\n",
       "     Online CreditCard Family_1 Family_2 Family_3 Family_4 Education_1  \\\n",
       "3150      0          0        0        0        0        1           0   \n",
       "4633      1          0        1        0        0        0           1   \n",
       "1783      1          0        1        0        0        0           1   \n",
       "2541      1          0        0        1        0        0           0   \n",
       "2928      1          0        0        1        0        0           1   \n",
       "\n",
       "     Education_2 Education_3  \n",
       "3150           0           1  \n",
       "4633           0           0  \n",
       "1783           0           0  \n",
       "2541           1           0  \n",
       "2928           0           0  "
      ]
     },
     "execution_count": 128,
     "metadata": {},
     "output_type": "execute_result"
    }
   ],
   "source": [
    "X_train_removed_multicolinearity = X_train.copy()\n",
    "X_train_removed_multicolinearity.drop('Age', axis=1, inplace=True)\n",
    "X_test_removed_multicolinearity = X_test.copy()\n",
    "X_test_removed_multicolinearity.drop('Age', axis=1, inplace=True)\n",
    "X_train_removed_multicolinearity.head()"
   ]
  },
  {
   "cell_type": "code",
   "execution_count": 130,
   "metadata": {},
   "outputs": [
    {
     "name": "stdout",
     "output_type": "stream",
     "text": [
      "==============================\n",
      "LogisticRegression\n",
      "****Results****\n",
      "training score =  0.9606666666666667\n",
      "testing score =  0.958\n",
      "Mean Accuracy for cross validation =  95.93302145250651\n",
      "Standard Deviation for cross validation =  0.7905019493736642\n",
      "Mean AUC ROC Score: 0.9637386736741045\n",
      "Std Dev AUC ROC Score: 0.008412810363497043\n",
      "==============================\n",
      "KNeighborsClassifier\n",
      "****Results****\n",
      "training score =  0.9515555555555556\n",
      "testing score =  0.92\n",
      "Mean Accuracy for cross validation =  90.5336424706624\n",
      "Standard Deviation for cross validation =  1.2054810957627036\n",
      "Mean AUC ROC Score: 0.8387462096744128\n",
      "Std Dev AUC ROC Score: 0.036854522034117716\n",
      "==============================\n",
      "SVC\n",
      "****Results****\n",
      "training score =  0.9031111111111111\n",
      "testing score =  0.912\n",
      "Mean Accuracy for cross validation =  90.31127045346177\n",
      "Standard Deviation for cross validation =  0.09170189067060672\n",
      "Mean AUC ROC Score: 0.8893724852223327\n",
      "Std Dev AUC ROC Score: 0.01613907779904296\n",
      "==============================\n",
      "DecisionTreeClassifier\n",
      "****Results****\n",
      "training score =  1.0\n",
      "testing score =  0.986\n",
      "Mean Accuracy for cross validation =  98.11159769787615\n",
      "Standard Deviation for cross validation =  0.5624217243340635\n",
      "Mean AUC ROC Score: 0.9488208135106391\n",
      "Std Dev AUC ROC Score: 0.01891006069484016\n",
      "==============================\n",
      "RandomForestClassifier\n",
      "****Results****\n",
      "training score =  0.9982222222222222\n",
      "testing score =  0.978\n",
      "Mean Accuracy for cross validation =  98.40048768416413\n",
      "Standard Deviation for cross validation =  0.417201739946487\n",
      "Mean AUC ROC Score: 0.9917838096886076\n",
      "Std Dev AUC ROC Score: 0.005923558764341938\n",
      "==============================\n",
      "AdaBoostClassifier\n",
      "****Results****\n",
      "training score =  0.9715555555555555\n",
      "testing score =  0.972\n",
      "Mean Accuracy for cross validation =  96.93351879378281\n",
      "Standard Deviation for cross validation =  0.6636500846593602\n",
      "Mean AUC ROC Score: 0.9816296559505587\n",
      "Std Dev AUC ROC Score: 0.0060038270321187415\n",
      "==============================\n",
      "GradientBoostingClassifier\n",
      "****Results****\n",
      "training score =  0.9926666666666667\n",
      "testing score =  0.986\n",
      "Mean Accuracy for cross validation =  98.77816845186067\n",
      "Standard Deviation for cross validation =  0.41202066884379807\n",
      "Mean AUC ROC Score: 0.9978929734076766\n",
      "Std Dev AUC ROC Score: 0.0008671270312204789\n"
     ]
    }
   ],
   "source": [
    "train_and_print_training_scores(X_train_removed_multicolinearity, X_test_removed_multicolinearity, y_train, y_test)"
   ]
  },
  {
   "cell_type": "code",
   "execution_count": 132,
   "metadata": {},
   "outputs": [
    {
     "name": "stderr",
     "output_type": "stream",
     "text": [
      "/anaconda3/lib/python3.7/site-packages/sklearn/metrics/classification.py:1143: UndefinedMetricWarning: Precision is ill-defined and being set to 0.0 due to no predicted samples.\n",
      "  'precision', 'predicted', average, warn_for)\n",
      "/anaconda3/lib/python3.7/site-packages/sklearn/metrics/classification.py:1143: UndefinedMetricWarning: F-score is ill-defined and being set to 0.0 due to no predicted samples.\n",
      "  'precision', 'predicted', average, warn_for)\n"
     ]
    },
    {
     "name": "stdout",
     "output_type": "stream",
     "text": [
      "                   Classifier  FN  TP  Precision    Recall  F1_score\n",
      "0  GradientBoostingClassifier   5  39   0.951220  0.886364  0.917647\n",
      "0      RandomForestClassifier   7  37   0.973684  0.840909  0.902439\n",
      "0      DecisionTreeClassifier   7  37   0.925000  0.840909  0.880952\n",
      "0          AdaBoostClassifier   9  35   0.875000  0.795455  0.833333\n",
      "0          LogisticRegression  17  27   0.870968  0.613636  0.720000\n",
      "0        KNeighborsClassifier  24  20   0.555556  0.454545  0.500000\n",
      "0                         SVC  44   0   0.000000  0.000000  0.000000\n"
     ]
    }
   ],
   "source": [
    "print_classification_report_loan_class(X_train_removed_multicolinearity, X_test_removed_multicolinearity, y_train, y_test)"
   ]
  },
  {
   "cell_type": "markdown",
   "metadata": {},
   "source": [
    "***Model Evaluation ***\n",
    "\n",
    "Not much difference after removing the age column"
   ]
  },
  {
   "cell_type": "markdown",
   "metadata": {},
   "source": [
    "# Iteration 4 : Upsampling by resample"
   ]
  },
  {
   "cell_type": "code",
   "execution_count": 134,
   "metadata": {},
   "outputs": [
    {
     "name": "stdout",
     "output_type": "stream",
     "text": [
      "<class 'pandas.core.frame.DataFrame'>\n",
      "Int64Index: 12565 entries, 4308 to 4999\n",
      "Data columns (total 17 columns):\n",
      "Age                   12565 non-null int64\n",
      "Experience            12565 non-null int64\n",
      "Income                12565 non-null int64\n",
      "CCAvg                 12565 non-null float64\n",
      "Mortgage              12565 non-null int64\n",
      "Personal Loan         12565 non-null category\n",
      "Securities Account    12565 non-null category\n",
      "CD Account            12565 non-null category\n",
      "Online                12565 non-null category\n",
      "CreditCard            12565 non-null category\n",
      "Family_1              12565 non-null category\n",
      "Family_2              12565 non-null category\n",
      "Family_3              12565 non-null category\n",
      "Family_4              12565 non-null category\n",
      "Education_1           12565 non-null category\n",
      "Education_2           12565 non-null category\n",
      "Education_3           12565 non-null category\n",
      "dtypes: category(12), float64(1), int64(4)\n",
      "memory usage: 737.4 KB\n"
     ]
    }
   ],
   "source": [
    "customer_df_copy = customer_df.copy()\n",
    "df_majority=customer_df[customer_df_copy['Personal Loan']==0] ## all rows where Not.fully.paid==0\n",
    "df_minority=customer_df[customer_df_copy['Personal Loan']==1] ## all rows where Not.fully.paid==1\n",
    "\n",
    "df_minority_upsampled=resample(df_minority,replace=True,n_samples=8045)\n",
    "df_upsampled=pd.concat([df_minority_upsampled,df_majority])\n",
    "\n",
    "df_upsampled.info()"
   ]
  },
  {
   "cell_type": "code",
   "execution_count": 149,
   "metadata": {},
   "outputs": [],
   "source": [
    "X_upsampled = df_upsampled.drop('Personal Loan', axis=1) \n",
    "y_upsampled = df_upsampled['Personal Loan']\n",
    "X_train_upsampled, X_test_upsampled, y_train_upsampled, y_test_upsampled = train_test_split(X_upsampled, y_upsampled, test_size=0.40, random_state=1)"
   ]
  },
  {
   "cell_type": "code",
   "execution_count": 155,
   "metadata": {},
   "outputs": [
    {
     "name": "stdout",
     "output_type": "stream",
     "text": [
      "==============================\n",
      "LogisticRegression\n",
      "****Results****\n",
      "training score =  0.9141795994163682\n",
      "testing score =  0.9124552327894946\n",
      "Mean Accuracy for cross validation =  91.37780129445622\n",
      "Standard Deviation for cross validation =  0.9827113171887591\n",
      "Mean AUC ROC Score: 0.965099604768566\n",
      "Std Dev AUC ROC Score: 0.005926723283158991\n",
      "==============================\n",
      "KNeighborsClassifier\n",
      "****Results****\n",
      "training score =  0.9738692134235309\n",
      "testing score =  0.955033824114604\n",
      "Mean Accuracy for cross validation =  95.60936908294589\n",
      "Standard Deviation for cross validation =  0.3495611938969813\n",
      "Mean AUC ROC Score: 0.9614942274351463\n",
      "Std Dev AUC ROC Score: 0.0028192750113951275\n",
      "==============================\n",
      "SVC\n",
      "****Results****\n",
      "training score =  0.7705265950391299\n",
      "testing score =  0.7598487863111818\n",
      "Mean Accuracy for cross validation =  73.51085294087525\n",
      "Standard Deviation for cross validation =  1.072237898180586\n",
      "Mean AUC ROC Score: 0.9630838026034321\n",
      "Std Dev AUC ROC Score: 0.0017858483810520313\n",
      "==============================\n",
      "DecisionTreeClassifier\n",
      "****Results****\n",
      "training score =  1.0\n",
      "testing score =  0.9964186231595702\n",
      "Mean Accuracy for cross validation =  99.50930059281671\n",
      "Standard Deviation for cross validation =  0.2375095750043938\n",
      "Mean AUC ROC Score: 0.9937587690801057\n",
      "Std Dev AUC ROC Score: 0.003930454585514625\n",
      "==============================\n",
      "RandomForestClassifier\n",
      "****Results****\n",
      "training score =  0.9998673564133174\n",
      "testing score =  0.9964186231595702\n",
      "Mean Accuracy for cross validation =  99.60212136271727\n",
      "Standard Deviation for cross validation =  0.19652753286657962\n",
      "Mean AUC ROC Score: 0.9998153098758166\n",
      "Std Dev AUC ROC Score: 0.0005858206007399701\n",
      "==============================\n",
      "AdaBoostClassifier\n",
      "****Results****\n",
      "training score =  0.9452181987000928\n",
      "testing score =  0.9413052128929567\n",
      "Mean Accuracy for cross validation =  94.36245403732386\n",
      "Standard Deviation for cross validation =  0.5750527031088568\n",
      "Mean AUC ROC Score: 0.9862141172916326\n",
      "Std Dev AUC ROC Score: 0.0028544639891927175\n",
      "==============================\n",
      "GradientBoostingClassifier\n",
      "****Results****\n",
      "training score =  0.9913781668656321\n",
      "testing score =  0.9884600079586152\n",
      "Mean Accuracy for cross validation =  98.91234201272331\n",
      "Standard Deviation for cross validation =  0.3342754205403717\n",
      "Mean AUC ROC Score: 0.9984514761814404\n",
      "Std Dev AUC ROC Score: 0.0009400867605052095\n"
     ]
    }
   ],
   "source": [
    "train_and_print_training_scores(X_train_upsampled, X_test_upsampled, y_train_upsampled, y_test_upsampled)"
   ]
  },
  {
   "cell_type": "code",
   "execution_count": 166,
   "metadata": {},
   "outputs": [
    {
     "name": "stdout",
     "output_type": "stream",
     "text": [
      "                   Classifier   FN    TP  Precision    Recall  F1_score\n",
      "0      RandomForestClassifier    0  3230   0.996299  1.000000  0.998146\n",
      "0      DecisionTreeClassifier    0  3230   0.994764  1.000000  0.997375\n",
      "0  GradientBoostingClassifier    0  3230   0.982360  1.000000  0.991102\n",
      "0        KNeighborsClassifier    0  3230   0.934606  1.000000  0.966198\n",
      "0          AdaBoostClassifier  101  3129   0.941619  0.968731  0.954982\n",
      "0          LogisticRegression  164  3066   0.917415  0.949226  0.933049\n",
      "0                         SVC    6  3224   0.728588  0.998142  0.842325\n"
     ]
    }
   ],
   "source": [
    "print_classification_report_loan_class(X_train_upsampled, X_test_upsampled, y_train_upsampled, y_test_upsampled)"
   ]
  },
  {
   "cell_type": "markdown",
   "metadata": {},
   "source": [
    "***model Evaluation***\n",
    "\n",
    "- Metrics such as Precision, Recall , F1 score has improved significantly.\n",
    "- RandomForestClassifier performs best"
   ]
  },
  {
   "cell_type": "markdown",
   "metadata": {},
   "source": [
    "# Iteration 5 : Hyper parameter tuning"
   ]
  },
  {
   "cell_type": "code",
   "execution_count": 158,
   "metadata": {},
   "outputs": [
    {
     "name": "stdout",
     "output_type": "stream",
     "text": [
      "{'n_estimators': [20, 65, 110, 155, 200], 'max_features': ['auto', 'sqrt'], 'max_depth': [10, 12, 15, 17, 20, None], 'min_samples_split': [2, 5, 10, 15], 'min_samples_leaf': [1, 2, 4, 10], 'bootstrap': [True, False]}\n"
     ]
    }
   ],
   "source": [
    "classifier = RandomForestClassifier(n_estimators=25)\n",
    "# Number of trees in random forest\n",
    "n_estimators = [int(x) for x in np.linspace(start = 20, stop = 200, num = 5)] ## play with start and stop\n",
    "\n",
    "# Number of features to consider at every split\n",
    "max_features = ['auto', 'sqrt']\n",
    "\n",
    "# Maximum number of levels in tree\n",
    "max_depth = [int(x) for x in np.linspace(10, 20, num = 5)] ## change 10,20 and 2\n",
    "max_depth.append(None)\n",
    "\n",
    "# Minimum number of samples required to split a node\n",
    "min_samples_split = [2, 5, 10,15]\n",
    "\n",
    "# Minimum number of samples required at each leaf node\n",
    "min_samples_leaf = [1, 2, 4,10]\n",
    "\n",
    "# Method of selecting samples for training each tree\n",
    "bootstrap = [True, False]\n",
    "\n",
    "# Create the random grid\n",
    "random_grid = {'n_estimators': n_estimators,\n",
    "               'max_features': max_features,\n",
    "               'max_depth': max_depth,\n",
    "               'min_samples_split': min_samples_split,\n",
    "               'min_samples_leaf': min_samples_leaf,\n",
    "               'bootstrap': bootstrap}\n",
    "\n",
    "print(random_grid)"
   ]
  },
  {
   "cell_type": "code",
   "execution_count": 159,
   "metadata": {},
   "outputs": [
    {
     "name": "stdout",
     "output_type": "stream",
     "text": [
      "Fitting 3 folds for each of 100 candidates, totalling 300 fits\n"
     ]
    },
    {
     "name": "stderr",
     "output_type": "stream",
     "text": [
      "[Parallel(n_jobs=-1)]: Using backend LokyBackend with 4 concurrent workers.\n",
      "[Parallel(n_jobs=-1)]: Done  33 tasks      | elapsed:    9.7s\n",
      "[Parallel(n_jobs=-1)]: Done 154 tasks      | elapsed:   27.3s\n"
     ]
    },
    {
     "name": "stdout",
     "output_type": "stream",
     "text": [
      "Best Parameters are: {'n_estimators': 20, 'min_samples_split': 2, 'min_samples_leaf': 1, 'max_features': 'sqrt', 'max_depth': 15, 'bootstrap': False}\n"
     ]
    },
    {
     "name": "stderr",
     "output_type": "stream",
     "text": [
      "[Parallel(n_jobs=-1)]: Done 300 out of 300 | elapsed:   51.9s finished\n"
     ]
    }
   ],
   "source": [
    "# Use the random grid to search for best hyperparameters\n",
    "\n",
    "# Random search of parameters, using 3 fold cross validation, \n",
    "# search across 100 different combinations, and use all available cores\n",
    "from sklearn.model_selection import RandomizedSearchCV\n",
    "\n",
    "rf_random = RandomizedSearchCV(estimator = classifier, param_distributions = random_grid, n_iter = 100, cv = 3, \n",
    "                               verbose=2, random_state=42, n_jobs = -1)\n",
    "# Fit the random search model\n",
    "rf_random.fit(X_train_upsampled,y_train_upsampled)\n",
    "print(\"Best Parameters are:\",rf_random.best_params_)"
   ]
  },
  {
   "cell_type": "code",
   "execution_count": 160,
   "metadata": {},
   "outputs": [
    {
     "name": "stdout",
     "output_type": "stream",
     "text": [
      "[[455   1]\n",
      " [  0  44]]\n",
      "              precision    recall  f1-score   support\n",
      "\n",
      "           0       1.00      1.00      1.00       456\n",
      "           1       0.98      1.00      0.99        44\n",
      "\n",
      "   micro avg       1.00      1.00      1.00       500\n",
      "   macro avg       0.99      1.00      0.99       500\n",
      "weighted avg       1.00      1.00      1.00       500\n",
      "\n"
     ]
    }
   ],
   "source": [
    "best_random = rf_random.best_estimator_\n",
    "best_random.fit(X_train_upsampled,y_train_upsampled)\n",
    "\n",
    "predictions = best_random.predict(X_test)\n",
    "\n",
    "\n",
    "print(confusion_matrix(y_test,predictions))\n",
    "print(classification_report(y_test,predictions))"
   ]
  },
  {
   "cell_type": "markdown",
   "metadata": {},
   "source": [
    "# Conclusion"
   ]
  },
  {
   "cell_type": "markdown",
   "metadata": {},
   "source": [
    "***Business conclusion*** : customers with High income , higher level of education , CD account  are the target candidates for campaign"
   ]
  },
  {
   "cell_type": "markdown",
   "metadata": {},
   "source": [
    "***Prediction Model*** : Random forest swith hyper parameter tuning and Upsampling gives the best result"
   ]
  },
  {
   "cell_type": "code",
   "execution_count": null,
   "metadata": {},
   "outputs": [],
   "source": []
  }
 ],
 "metadata": {
  "kernelspec": {
   "display_name": "Python 3",
   "language": "python",
   "name": "python3"
  },
  "language_info": {
   "codemirror_mode": {
    "name": "ipython",
    "version": 3
   },
   "file_extension": ".py",
   "mimetype": "text/x-python",
   "name": "python",
   "nbconvert_exporter": "python",
   "pygments_lexer": "ipython3",
   "version": "3.7.3"
  }
 },
 "nbformat": 4,
 "nbformat_minor": 2
}
