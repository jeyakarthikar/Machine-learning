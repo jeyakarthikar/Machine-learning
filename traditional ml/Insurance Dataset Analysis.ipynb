{
 "cells": [
  {
   "cell_type": "code",
   "execution_count": 1,
   "metadata": {},
   "outputs": [],
   "source": [
    "#import required packages\n",
    "import numpy as np\n",
    "from numpy import exp\n",
    "from numpy import std\n",
    "from numpy import mean\n",
    "from numpy import sqrt\n",
    "import pandas as pd\n",
    "import scipy.stats as stats\n",
    "from scipy.stats import shapiro\n",
    "from scipy.stats import t\n",
    "import matplotlib.pyplot as plt\n",
    "import seaborn as sns\n",
    "from sklearn import preprocessing\n",
    "\n",
    "sns.set(color_codes=True)"
   ]
  },
  {
   "cell_type": "code",
   "execution_count": 2,
   "metadata": {},
   "outputs": [],
   "source": [
    "#read the dataset from CSV file to DataFrame\n",
    "insurance = pd.read_csv('insurance.csv')"
   ]
  },
  {
   "cell_type": "code",
   "execution_count": 3,
   "metadata": {},
   "outputs": [
    {
     "data": {
      "text/html": [
       "<div>\n",
       "<style scoped>\n",
       "    .dataframe tbody tr th:only-of-type {\n",
       "        vertical-align: middle;\n",
       "    }\n",
       "\n",
       "    .dataframe tbody tr th {\n",
       "        vertical-align: top;\n",
       "    }\n",
       "\n",
       "    .dataframe thead th {\n",
       "        text-align: right;\n",
       "    }\n",
       "</style>\n",
       "<table border=\"1\" class=\"dataframe\">\n",
       "  <thead>\n",
       "    <tr style=\"text-align: right;\">\n",
       "      <th></th>\n",
       "      <th>age</th>\n",
       "      <th>sex</th>\n",
       "      <th>bmi</th>\n",
       "      <th>children</th>\n",
       "      <th>smoker</th>\n",
       "      <th>region</th>\n",
       "      <th>charges</th>\n",
       "    </tr>\n",
       "  </thead>\n",
       "  <tbody>\n",
       "    <tr>\n",
       "      <th>0</th>\n",
       "      <td>19</td>\n",
       "      <td>female</td>\n",
       "      <td>27.900</td>\n",
       "      <td>0</td>\n",
       "      <td>yes</td>\n",
       "      <td>southwest</td>\n",
       "      <td>16884.92400</td>\n",
       "    </tr>\n",
       "    <tr>\n",
       "      <th>1</th>\n",
       "      <td>18</td>\n",
       "      <td>male</td>\n",
       "      <td>33.770</td>\n",
       "      <td>1</td>\n",
       "      <td>no</td>\n",
       "      <td>southeast</td>\n",
       "      <td>1725.55230</td>\n",
       "    </tr>\n",
       "    <tr>\n",
       "      <th>2</th>\n",
       "      <td>28</td>\n",
       "      <td>male</td>\n",
       "      <td>33.000</td>\n",
       "      <td>3</td>\n",
       "      <td>no</td>\n",
       "      <td>southeast</td>\n",
       "      <td>4449.46200</td>\n",
       "    </tr>\n",
       "    <tr>\n",
       "      <th>3</th>\n",
       "      <td>33</td>\n",
       "      <td>male</td>\n",
       "      <td>22.705</td>\n",
       "      <td>0</td>\n",
       "      <td>no</td>\n",
       "      <td>northwest</td>\n",
       "      <td>21984.47061</td>\n",
       "    </tr>\n",
       "    <tr>\n",
       "      <th>4</th>\n",
       "      <td>32</td>\n",
       "      <td>male</td>\n",
       "      <td>28.880</td>\n",
       "      <td>0</td>\n",
       "      <td>no</td>\n",
       "      <td>northwest</td>\n",
       "      <td>3866.85520</td>\n",
       "    </tr>\n",
       "  </tbody>\n",
       "</table>\n",
       "</div>"
      ],
      "text/plain": [
       "   age     sex     bmi  children smoker     region      charges\n",
       "0   19  female  27.900         0    yes  southwest  16884.92400\n",
       "1   18    male  33.770         1     no  southeast   1725.55230\n",
       "2   28    male  33.000         3     no  southeast   4449.46200\n",
       "3   33    male  22.705         0     no  northwest  21984.47061\n",
       "4   32    male  28.880         0     no  northwest   3866.85520"
      ]
     },
     "execution_count": 3,
     "metadata": {},
     "output_type": "execute_result"
    }
   ],
   "source": [
    "#check the data load\n",
    "insurance.head()"
   ]
  },
  {
   "cell_type": "code",
   "execution_count": 4,
   "metadata": {},
   "outputs": [
    {
     "name": "stdout",
     "output_type": "stream",
     "text": [
      "<class 'pandas.core.frame.DataFrame'>\n",
      "RangeIndex: 1338 entries, 0 to 1337\n",
      "Data columns (total 7 columns):\n",
      "age         1338 non-null int64\n",
      "sex         1338 non-null object\n",
      "bmi         1338 non-null float64\n",
      "children    1338 non-null int64\n",
      "smoker      1338 non-null object\n",
      "region      1338 non-null object\n",
      "charges     1338 non-null float64\n",
      "dtypes: float64(2), int64(2), object(3)\n",
      "memory usage: 73.2+ KB\n"
     ]
    }
   ],
   "source": [
    "#check for null values, datatypes , total sample size\n",
    "insurance.info()"
   ]
  },
  {
   "cell_type": "markdown",
   "metadata": {},
   "source": [
    "Totally 1338 records are present . 7 variables for each record\n",
    "\n",
    "no null values which means no missing data. \n",
    "\n",
    "continous variables - age,bmi,children,charges\n",
    "categorical variables - sex,smoker,region\n"
   ]
  },
  {
   "cell_type": "markdown",
   "metadata": {},
   "source": [
    "# Univariate Analysis of Continous Variables"
   ]
  },
  {
   "cell_type": "code",
   "execution_count": 5,
   "metadata": {},
   "outputs": [
    {
     "data": {
      "text/html": [
       "<div>\n",
       "<style scoped>\n",
       "    .dataframe tbody tr th:only-of-type {\n",
       "        vertical-align: middle;\n",
       "    }\n",
       "\n",
       "    .dataframe tbody tr th {\n",
       "        vertical-align: top;\n",
       "    }\n",
       "\n",
       "    .dataframe thead th {\n",
       "        text-align: right;\n",
       "    }\n",
       "</style>\n",
       "<table border=\"1\" class=\"dataframe\">\n",
       "  <thead>\n",
       "    <tr style=\"text-align: right;\">\n",
       "      <th></th>\n",
       "      <th>count</th>\n",
       "      <th>mean</th>\n",
       "      <th>std</th>\n",
       "      <th>min</th>\n",
       "      <th>25%</th>\n",
       "      <th>50%</th>\n",
       "      <th>75%</th>\n",
       "      <th>max</th>\n",
       "    </tr>\n",
       "  </thead>\n",
       "  <tbody>\n",
       "    <tr>\n",
       "      <th>age</th>\n",
       "      <td>1338.0</td>\n",
       "      <td>39.207025</td>\n",
       "      <td>14.049960</td>\n",
       "      <td>18.0000</td>\n",
       "      <td>27.00000</td>\n",
       "      <td>39.000</td>\n",
       "      <td>51.000000</td>\n",
       "      <td>64.00000</td>\n",
       "    </tr>\n",
       "    <tr>\n",
       "      <th>bmi</th>\n",
       "      <td>1338.0</td>\n",
       "      <td>30.663397</td>\n",
       "      <td>6.098187</td>\n",
       "      <td>15.9600</td>\n",
       "      <td>26.29625</td>\n",
       "      <td>30.400</td>\n",
       "      <td>34.693750</td>\n",
       "      <td>53.13000</td>\n",
       "    </tr>\n",
       "    <tr>\n",
       "      <th>children</th>\n",
       "      <td>1338.0</td>\n",
       "      <td>1.094918</td>\n",
       "      <td>1.205493</td>\n",
       "      <td>0.0000</td>\n",
       "      <td>0.00000</td>\n",
       "      <td>1.000</td>\n",
       "      <td>2.000000</td>\n",
       "      <td>5.00000</td>\n",
       "    </tr>\n",
       "    <tr>\n",
       "      <th>charges</th>\n",
       "      <td>1338.0</td>\n",
       "      <td>13270.422265</td>\n",
       "      <td>12110.011237</td>\n",
       "      <td>1121.8739</td>\n",
       "      <td>4740.28715</td>\n",
       "      <td>9382.033</td>\n",
       "      <td>16639.912515</td>\n",
       "      <td>63770.42801</td>\n",
       "    </tr>\n",
       "  </tbody>\n",
       "</table>\n",
       "</div>"
      ],
      "text/plain": [
       "           count          mean           std        min         25%       50%  \\\n",
       "age       1338.0     39.207025     14.049960    18.0000    27.00000    39.000   \n",
       "bmi       1338.0     30.663397      6.098187    15.9600    26.29625    30.400   \n",
       "children  1338.0      1.094918      1.205493     0.0000     0.00000     1.000   \n",
       "charges   1338.0  13270.422265  12110.011237  1121.8739  4740.28715  9382.033   \n",
       "\n",
       "                   75%          max  \n",
       "age          51.000000     64.00000  \n",
       "bmi          34.693750     53.13000  \n",
       "children      2.000000      5.00000  \n",
       "charges   16639.912515  63770.42801  "
      ]
     },
     "execution_count": 5,
     "metadata": {},
     "output_type": "execute_result"
    }
   ],
   "source": [
    "#5 point summary for continous variables\n",
    "insurance.describe().T"
   ]
  },
  {
   "cell_type": "markdown",
   "metadata": {},
   "source": [
    "For Age , the range is between 18 to 64. we can assume that the insurance is only for adults and the people with ages below that may come under child.\n",
    "\n",
    "Also interesting to note that the data is not available for age above 64 which means one of the two things - either the data is not available for old people or that insurance policy does not allow people above certain age.\n",
    "\n",
    "BMI goes upto 53 which is very high value (it would be interesting to study the characters of records with higher BMI)\n",
    "\n",
    "Children is upto 5 but the mean and median are around 1 . so half of the insurance holders have 1 or no children to support to.\n",
    "\n",
    "For Charges , the standard deviation looks very high.Especially the difference the 75th pecentile and the max value looks huge.\n",
    "\n",
    "The Inter-quartile range for the charge is around 15,000 . but there are people who get the insurance above 63000 .\n"
   ]
  },
  {
   "cell_type": "code",
   "execution_count": 6,
   "metadata": {},
   "outputs": [
    {
     "data": {
      "image/png": "[encoded data removed]",
      "text/plain": [
       "<Figure size 720x288 with 1 Axes>"
      ]
     },
     "metadata": {
      "needs_background": "light"
     },
     "output_type": "display_data"
    }
   ],
   "source": [
    "# distribution for age\n",
    "insurance.hist(column = ['age'], edgecolor = 'black',bins =np.arange(15,70,5) , figsize=(10,4))\n",
    "plt.show()"
   ]
  },
  {
   "cell_type": "markdown",
   "metadata": {},
   "source": [
    "The age column is uniformly distributed.There is no skewness.There are no outliers."
   ]
  },
  {
   "cell_type": "code",
   "execution_count": 7,
   "metadata": {},
   "outputs": [
    {
     "data": {
      "image/png": "[encoded data removed]",
      "text/plain": [
       "<Figure size 432x288 with 1 Axes>"
      ]
     },
     "metadata": {
      "needs_background": "light"
     },
     "output_type": "display_data"
    },
    {
     "data": {
      "image/png": "[encoded data removed]",
      "text/plain": [
       "<Figure size 432x288 with 1 Axes>"
      ]
     },
     "metadata": {
      "needs_background": "light"
     },
     "output_type": "display_data"
    },
    {
     "data": {
      "text/html": [
       "<div>\n",
       "<style scoped>\n",
       "    .dataframe tbody tr th:only-of-type {\n",
       "        vertical-align: middle;\n",
       "    }\n",
       "\n",
       "    .dataframe tbody tr th {\n",
       "        vertical-align: top;\n",
       "    }\n",
       "\n",
       "    .dataframe thead th {\n",
       "        text-align: right;\n",
       "    }\n",
       "</style>\n",
       "<table border=\"1\" class=\"dataframe\">\n",
       "  <thead>\n",
       "    <tr style=\"text-align: right;\">\n",
       "      <th></th>\n",
       "      <th>age</th>\n",
       "      <th>sex</th>\n",
       "      <th>bmi</th>\n",
       "      <th>children</th>\n",
       "      <th>smoker</th>\n",
       "      <th>region</th>\n",
       "      <th>charges</th>\n",
       "    </tr>\n",
       "  </thead>\n",
       "  <tbody>\n",
       "    <tr>\n",
       "      <th>847</th>\n",
       "      <td>23</td>\n",
       "      <td>male</td>\n",
       "      <td>50.38</td>\n",
       "      <td>1</td>\n",
       "      <td>no</td>\n",
       "      <td>southeast</td>\n",
       "      <td>2438.0552</td>\n",
       "    </tr>\n",
       "    <tr>\n",
       "      <th>1047</th>\n",
       "      <td>22</td>\n",
       "      <td>male</td>\n",
       "      <td>52.58</td>\n",
       "      <td>1</td>\n",
       "      <td>yes</td>\n",
       "      <td>southeast</td>\n",
       "      <td>44501.3982</td>\n",
       "    </tr>\n",
       "    <tr>\n",
       "      <th>1317</th>\n",
       "      <td>18</td>\n",
       "      <td>male</td>\n",
       "      <td>53.13</td>\n",
       "      <td>0</td>\n",
       "      <td>no</td>\n",
       "      <td>southeast</td>\n",
       "      <td>1163.4627</td>\n",
       "    </tr>\n",
       "  </tbody>\n",
       "</table>\n",
       "</div>"
      ],
      "text/plain": [
       "      age   sex    bmi  children smoker     region     charges\n",
       "847    23  male  50.38         1     no  southeast   2438.0552\n",
       "1047   22  male  52.58         1    yes  southeast  44501.3982\n",
       "1317   18  male  53.13         0     no  southeast   1163.4627"
      ]
     },
     "execution_count": 7,
     "metadata": {},
     "output_type": "execute_result"
    }
   ],
   "source": [
    "# distribution for BMI\n",
    "insurance.hist(column = ['bmi'])\n",
    "plt.show()\n",
    "sns.boxplot(insurance['bmi']) # to check the presence of outliers\n",
    "plt.show()\n",
    "insurance[insurance['bmi']>50] # curious to know about the people with very high BMI"
   ]
  },
  {
   "cell_type": "markdown",
   "metadata": {},
   "source": [
    "The BMI column is normally distributed.Not much skewness is observed.\n",
    "\n",
    "There are  large number of outliers on the right side which means there are many Class C obese people in the data set.\n",
    "\n",
    "If we observe the BMI above 50 ,surprisingly we see people of the age 18 to 23 . Even young people are found to be obese.\n",
    "\n",
    "One more interesting column to observe , the charge for the persons with BMI 50.38 , 53.13 is very less.Suppose we find a positive correlation with BMI and Charges and design a model with it , these observations may become type 1 error."
   ]
  },
  {
   "cell_type": "code",
   "execution_count": 8,
   "metadata": {},
   "outputs": [
    {
     "data": {
      "image/png": "[encoded data removed]",
      "text/plain": [
       "<Figure size 432x288 with 1 Axes>"
      ]
     },
     "metadata": {
      "needs_background": "light"
     },
     "output_type": "display_data"
    },
    {
     "data": {
      "image/png": "[encoded data removed]",
      "text/plain": [
       "<Figure size 432x288 with 1 Axes>"
      ]
     },
     "metadata": {
      "needs_background": "light"
     },
     "output_type": "display_data"
    }
   ],
   "source": [
    "# distribution for charges\n",
    "sns.distplot(insurance['charges'])\n",
    "plt.show()\n",
    "sns.boxplot(insurance['charges'])  # to check the presence of outliers\n",
    "plt.show()"
   ]
  },
  {
   "cell_type": "markdown",
   "metadata": {},
   "source": [
    "The charges column is normally distributed with a high degree of positive(right-side) skewness.\n",
    "This implies that data has to be lograthamically transformed before performing any test.\n",
    "\n",
    "The modal value is below 10,000 .\n",
    "\n",
    "Due to the positive skewness , even with the high value of standard deviation (12110.011237) , there are many outliers.\n",
    "\n",
    "Let us see how many values are above 35K."
   ]
  },
  {
   "cell_type": "code",
   "execution_count": 9,
   "metadata": {},
   "outputs": [
    {
     "name": "stdout",
     "output_type": "stream",
     "text": [
      "Number of persons with charges above 35K : \n"
     ]
    },
    {
     "data": {
      "text/plain": [
       "age         133\n",
       "sex         133\n",
       "bmi         133\n",
       "children    133\n",
       "smoker      133\n",
       "region      133\n",
       "charges     133\n",
       "dtype: int64"
      ]
     },
     "execution_count": 9,
     "metadata": {},
     "output_type": "execute_result"
    }
   ],
   "source": [
    "print(\"Number of persons with charges above 35K : \" )\n",
    "insurance[insurance['charges']>35000].count() #count of the records with charges greater than 35K"
   ]
  },
  {
   "cell_type": "markdown",
   "metadata": {},
   "source": [
    "133 records which means the 10 percent of the total data set is found to be outlier for the charges column . This would be a problem to fit the right model.\n",
    "\n",
    "\n",
    "\n",
    "The modal value is 10,000 for charges .Let us see below the people who are spending more than 50,000 i.e. one person spending more than 5 times of an average person expenditure."
   ]
  },
  {
   "cell_type": "code",
   "execution_count": 10,
   "metadata": {},
   "outputs": [
    {
     "data": {
      "text/html": [
       "<div>\n",
       "<style scoped>\n",
       "    .dataframe tbody tr th:only-of-type {\n",
       "        vertical-align: middle;\n",
       "    }\n",
       "\n",
       "    .dataframe tbody tr th {\n",
       "        vertical-align: top;\n",
       "    }\n",
       "\n",
       "    .dataframe thead th {\n",
       "        text-align: right;\n",
       "    }\n",
       "</style>\n",
       "<table border=\"1\" class=\"dataframe\">\n",
       "  <thead>\n",
       "    <tr style=\"text-align: right;\">\n",
       "      <th></th>\n",
       "      <th>age</th>\n",
       "      <th>sex</th>\n",
       "      <th>bmi</th>\n",
       "      <th>children</th>\n",
       "      <th>smoker</th>\n",
       "      <th>region</th>\n",
       "      <th>charges</th>\n",
       "    </tr>\n",
       "  </thead>\n",
       "  <tbody>\n",
       "    <tr>\n",
       "      <th>34</th>\n",
       "      <td>28</td>\n",
       "      <td>male</td>\n",
       "      <td>36.400</td>\n",
       "      <td>1</td>\n",
       "      <td>yes</td>\n",
       "      <td>southwest</td>\n",
       "      <td>51194.55914</td>\n",
       "    </tr>\n",
       "    <tr>\n",
       "      <th>543</th>\n",
       "      <td>54</td>\n",
       "      <td>female</td>\n",
       "      <td>47.410</td>\n",
       "      <td>0</td>\n",
       "      <td>yes</td>\n",
       "      <td>southeast</td>\n",
       "      <td>63770.42801</td>\n",
       "    </tr>\n",
       "    <tr>\n",
       "      <th>577</th>\n",
       "      <td>31</td>\n",
       "      <td>female</td>\n",
       "      <td>38.095</td>\n",
       "      <td>1</td>\n",
       "      <td>yes</td>\n",
       "      <td>northeast</td>\n",
       "      <td>58571.07448</td>\n",
       "    </tr>\n",
       "    <tr>\n",
       "      <th>819</th>\n",
       "      <td>33</td>\n",
       "      <td>female</td>\n",
       "      <td>35.530</td>\n",
       "      <td>0</td>\n",
       "      <td>yes</td>\n",
       "      <td>northwest</td>\n",
       "      <td>55135.40209</td>\n",
       "    </tr>\n",
       "    <tr>\n",
       "      <th>1146</th>\n",
       "      <td>60</td>\n",
       "      <td>male</td>\n",
       "      <td>32.800</td>\n",
       "      <td>0</td>\n",
       "      <td>yes</td>\n",
       "      <td>southwest</td>\n",
       "      <td>52590.82939</td>\n",
       "    </tr>\n",
       "    <tr>\n",
       "      <th>1230</th>\n",
       "      <td>52</td>\n",
       "      <td>male</td>\n",
       "      <td>34.485</td>\n",
       "      <td>3</td>\n",
       "      <td>yes</td>\n",
       "      <td>northwest</td>\n",
       "      <td>60021.39897</td>\n",
       "    </tr>\n",
       "    <tr>\n",
       "      <th>1300</th>\n",
       "      <td>45</td>\n",
       "      <td>male</td>\n",
       "      <td>30.360</td>\n",
       "      <td>0</td>\n",
       "      <td>yes</td>\n",
       "      <td>southeast</td>\n",
       "      <td>62592.87309</td>\n",
       "    </tr>\n",
       "  </tbody>\n",
       "</table>\n",
       "</div>"
      ],
      "text/plain": [
       "      age     sex     bmi  children smoker     region      charges\n",
       "34     28    male  36.400         1    yes  southwest  51194.55914\n",
       "543    54  female  47.410         0    yes  southeast  63770.42801\n",
       "577    31  female  38.095         1    yes  northeast  58571.07448\n",
       "819    33  female  35.530         0    yes  northwest  55135.40209\n",
       "1146   60    male  32.800         0    yes  southwest  52590.82939\n",
       "1230   52    male  34.485         3    yes  northwest  60021.39897\n",
       "1300   45    male  30.360         0    yes  southeast  62592.87309"
      ]
     },
     "execution_count": 10,
     "metadata": {},
     "output_type": "execute_result"
    }
   ],
   "source": [
    "insurance[insurance['charges'] > 50000] #records with charges above 50K"
   ]
  },
  {
   "cell_type": "markdown",
   "metadata": {},
   "source": [
    "On a high level observation , we can see that all the people who have higher medical expenses are found to be smokers as well as obese (BMI above 30).\n",
    "\n",
    "we can assume that people with higher BMI and smoking habits have serious health problems causing them to spend a huge amount of money."
   ]
  },
  {
   "cell_type": "markdown",
   "metadata": {},
   "source": [
    "# Univariate Analysis of Categorical variables"
   ]
  },
  {
   "cell_type": "code",
   "execution_count": 11,
   "metadata": {},
   "outputs": [
    {
     "data": {
      "image/png": "[encoded data removed]",
      "text/plain": [
       "<Figure size 432x288 with 1 Axes>"
      ]
     },
     "metadata": {
      "needs_background": "light"
     },
     "output_type": "display_data"
    }
   ],
   "source": [
    "#distribution of children data\n",
    "sns.countplot(insurance['children'])\n",
    "plt.show()"
   ]
  },
  {
   "cell_type": "markdown",
   "metadata": {},
   "source": [
    "More than 50 percent are said to have no children under their insurance policy.\n",
    "\n",
    "The children data is normally distributed with high degree of positive skewness.\n",
    "\n",
    "Let us see about the people with 5 children."
   ]
  },
  {
   "cell_type": "code",
   "execution_count": 12,
   "metadata": {},
   "outputs": [
    {
     "data": {
      "text/html": [
       "<div>\n",
       "<style scoped>\n",
       "    .dataframe tbody tr th:only-of-type {\n",
       "        vertical-align: middle;\n",
       "    }\n",
       "\n",
       "    .dataframe tbody tr th {\n",
       "        vertical-align: top;\n",
       "    }\n",
       "\n",
       "    .dataframe thead th {\n",
       "        text-align: right;\n",
       "    }\n",
       "</style>\n",
       "<table border=\"1\" class=\"dataframe\">\n",
       "  <thead>\n",
       "    <tr style=\"text-align: right;\">\n",
       "      <th></th>\n",
       "      <th>age</th>\n",
       "      <th>sex</th>\n",
       "      <th>bmi</th>\n",
       "      <th>children</th>\n",
       "      <th>smoker</th>\n",
       "      <th>region</th>\n",
       "      <th>charges</th>\n",
       "    </tr>\n",
       "  </thead>\n",
       "  <tbody>\n",
       "    <tr>\n",
       "      <th>32</th>\n",
       "      <td>19</td>\n",
       "      <td>female</td>\n",
       "      <td>28.600</td>\n",
       "      <td>5</td>\n",
       "      <td>no</td>\n",
       "      <td>southwest</td>\n",
       "      <td>4687.79700</td>\n",
       "    </tr>\n",
       "    <tr>\n",
       "      <th>166</th>\n",
       "      <td>20</td>\n",
       "      <td>female</td>\n",
       "      <td>37.000</td>\n",
       "      <td>5</td>\n",
       "      <td>no</td>\n",
       "      <td>southwest</td>\n",
       "      <td>4830.63000</td>\n",
       "    </tr>\n",
       "    <tr>\n",
       "      <th>984</th>\n",
       "      <td>20</td>\n",
       "      <td>male</td>\n",
       "      <td>30.115</td>\n",
       "      <td>5</td>\n",
       "      <td>no</td>\n",
       "      <td>northeast</td>\n",
       "      <td>4915.05985</td>\n",
       "    </tr>\n",
       "    <tr>\n",
       "      <th>413</th>\n",
       "      <td>25</td>\n",
       "      <td>male</td>\n",
       "      <td>23.900</td>\n",
       "      <td>5</td>\n",
       "      <td>no</td>\n",
       "      <td>southwest</td>\n",
       "      <td>5080.09600</td>\n",
       "    </tr>\n",
       "    <tr>\n",
       "      <th>1245</th>\n",
       "      <td>28</td>\n",
       "      <td>male</td>\n",
       "      <td>24.300</td>\n",
       "      <td>5</td>\n",
       "      <td>no</td>\n",
       "      <td>southwest</td>\n",
       "      <td>5615.36900</td>\n",
       "    </tr>\n",
       "    <tr>\n",
       "      <th>71</th>\n",
       "      <td>31</td>\n",
       "      <td>male</td>\n",
       "      <td>28.500</td>\n",
       "      <td>5</td>\n",
       "      <td>no</td>\n",
       "      <td>northeast</td>\n",
       "      <td>6799.45800</td>\n",
       "    </tr>\n",
       "    <tr>\n",
       "      <th>640</th>\n",
       "      <td>33</td>\n",
       "      <td>male</td>\n",
       "      <td>42.400</td>\n",
       "      <td>5</td>\n",
       "      <td>no</td>\n",
       "      <td>southwest</td>\n",
       "      <td>6666.24300</td>\n",
       "    </tr>\n",
       "    <tr>\n",
       "      <th>877</th>\n",
       "      <td>33</td>\n",
       "      <td>male</td>\n",
       "      <td>33.440</td>\n",
       "      <td>5</td>\n",
       "      <td>no</td>\n",
       "      <td>southeast</td>\n",
       "      <td>6653.78860</td>\n",
       "    </tr>\n",
       "    <tr>\n",
       "      <th>937</th>\n",
       "      <td>39</td>\n",
       "      <td>female</td>\n",
       "      <td>24.225</td>\n",
       "      <td>5</td>\n",
       "      <td>no</td>\n",
       "      <td>northwest</td>\n",
       "      <td>8965.79575</td>\n",
       "    </tr>\n",
       "    <tr>\n",
       "      <th>969</th>\n",
       "      <td>39</td>\n",
       "      <td>female</td>\n",
       "      <td>34.320</td>\n",
       "      <td>5</td>\n",
       "      <td>no</td>\n",
       "      <td>southeast</td>\n",
       "      <td>8596.82780</td>\n",
       "    </tr>\n",
       "    <tr>\n",
       "      <th>1085</th>\n",
       "      <td>39</td>\n",
       "      <td>female</td>\n",
       "      <td>18.300</td>\n",
       "      <td>5</td>\n",
       "      <td>yes</td>\n",
       "      <td>southwest</td>\n",
       "      <td>19023.26000</td>\n",
       "    </tr>\n",
       "    <tr>\n",
       "      <th>1130</th>\n",
       "      <td>39</td>\n",
       "      <td>female</td>\n",
       "      <td>23.870</td>\n",
       "      <td>5</td>\n",
       "      <td>no</td>\n",
       "      <td>southeast</td>\n",
       "      <td>8582.30230</td>\n",
       "    </tr>\n",
       "    <tr>\n",
       "      <th>1116</th>\n",
       "      <td>41</td>\n",
       "      <td>male</td>\n",
       "      <td>29.640</td>\n",
       "      <td>5</td>\n",
       "      <td>no</td>\n",
       "      <td>northeast</td>\n",
       "      <td>9222.40260</td>\n",
       "    </tr>\n",
       "    <tr>\n",
       "      <th>1272</th>\n",
       "      <td>43</td>\n",
       "      <td>male</td>\n",
       "      <td>25.520</td>\n",
       "      <td>5</td>\n",
       "      <td>no</td>\n",
       "      <td>southeast</td>\n",
       "      <td>14478.33015</td>\n",
       "    </tr>\n",
       "    <tr>\n",
       "      <th>425</th>\n",
       "      <td>45</td>\n",
       "      <td>male</td>\n",
       "      <td>24.310</td>\n",
       "      <td>5</td>\n",
       "      <td>no</td>\n",
       "      <td>southeast</td>\n",
       "      <td>9788.86590</td>\n",
       "    </tr>\n",
       "    <tr>\n",
       "      <th>932</th>\n",
       "      <td>46</td>\n",
       "      <td>male</td>\n",
       "      <td>25.800</td>\n",
       "      <td>5</td>\n",
       "      <td>no</td>\n",
       "      <td>southwest</td>\n",
       "      <td>10096.97000</td>\n",
       "    </tr>\n",
       "    <tr>\n",
       "      <th>568</th>\n",
       "      <td>49</td>\n",
       "      <td>female</td>\n",
       "      <td>31.900</td>\n",
       "      <td>5</td>\n",
       "      <td>no</td>\n",
       "      <td>southwest</td>\n",
       "      <td>11552.90400</td>\n",
       "    </tr>\n",
       "    <tr>\n",
       "      <th>438</th>\n",
       "      <td>52</td>\n",
       "      <td>female</td>\n",
       "      <td>46.750</td>\n",
       "      <td>5</td>\n",
       "      <td>no</td>\n",
       "      <td>southeast</td>\n",
       "      <td>12592.53450</td>\n",
       "    </tr>\n",
       "  </tbody>\n",
       "</table>\n",
       "</div>"
      ],
      "text/plain": [
       "      age     sex     bmi  children smoker     region      charges\n",
       "32     19  female  28.600         5     no  southwest   4687.79700\n",
       "166    20  female  37.000         5     no  southwest   4830.63000\n",
       "984    20    male  30.115         5     no  northeast   4915.05985\n",
       "413    25    male  23.900         5     no  southwest   5080.09600\n",
       "1245   28    male  24.300         5     no  southwest   5615.36900\n",
       "71     31    male  28.500         5     no  northeast   6799.45800\n",
       "640    33    male  42.400         5     no  southwest   6666.24300\n",
       "877    33    male  33.440         5     no  southeast   6653.78860\n",
       "937    39  female  24.225         5     no  northwest   8965.79575\n",
       "969    39  female  34.320         5     no  southeast   8596.82780\n",
       "1085   39  female  18.300         5    yes  southwest  19023.26000\n",
       "1130   39  female  23.870         5     no  southeast   8582.30230\n",
       "1116   41    male  29.640         5     no  northeast   9222.40260\n",
       "1272   43    male  25.520         5     no  southeast  14478.33015\n",
       "425    45    male  24.310         5     no  southeast   9788.86590\n",
       "932    46    male  25.800         5     no  southwest  10096.97000\n",
       "568    49  female  31.900         5     no  southwest  11552.90400\n",
       "438    52  female  46.750         5     no  southeast  12592.53450"
      ]
     },
     "execution_count": 12,
     "metadata": {},
     "output_type": "execute_result"
    }
   ],
   "source": [
    "five_children_data = insurance[insurance['children'] > 4] # filter the records with children more than 4\n",
    "five_children_data.sort_values(by=['age']) # sort the records by age"
   ]
  },
  {
   "cell_type": "markdown",
   "metadata": {},
   "source": [
    "After sorting by age , we can see that there are three records under the age of 20 is said to have 5 children \n",
    "which looks suspicious.\n",
    "\n",
    "This may be incorrect data.\n",
    "\n",
    "Looking at their charges , it is closer to 5000 . It can also be true that the data is correct .\n",
    "\n",
    "We can only imagine the situations such as the insurance policy allows addition of step-children (not bonded by blood) or\n",
    "the society is so backward that there are people who have 5 children at 20 , or there can be a scenario like they are adopted kids.\n",
    "\n",
    "we can't really conclude on this outliers.\n",
    "\n",
    "we can also technically call these as Contextual outliers - outliers for that particular age group .\n",
    "\n"
   ]
  },
  {
   "cell_type": "code",
   "execution_count": 13,
   "metadata": {},
   "outputs": [
    {
     "data": {
      "image/png": "[encoded data removed]",
      "text/plain": [
       "<Figure size 432x288 with 1 Axes>"
      ]
     },
     "metadata": {
      "needs_background": "light"
     },
     "output_type": "display_data"
    }
   ],
   "source": [
    "sns.countplot(insurance['sex']) #distribution of sex\n",
    "plt.show()"
   ]
  },
  {
   "cell_type": "markdown",
   "metadata": {},
   "source": [
    "We can observe that the male and female population is uniformly distributed. There are almost equal number of men and women."
   ]
  },
  {
   "cell_type": "code",
   "execution_count": 14,
   "metadata": {},
   "outputs": [
    {
     "data": {
      "image/png": "[encoded data removed]",
      "text/plain": [
       "<Figure size 432x288 with 1 Axes>"
      ]
     },
     "metadata": {
      "needs_background": "light"
     },
     "output_type": "display_data"
    }
   ],
   "source": [
    "sns.countplot(insurance['region']) #distribution of sex\n",
    "plt.show()"
   ]
  },
  {
   "cell_type": "markdown",
   "metadata": {},
   "source": [
    "We can observe that the region data is uniformly distributed. There are almost equal number of insurance holder from all the regions.\n",
    "\n",
    "we can infer that the data is sampled with same size from all the regions (around 300 records in every region). \n",
    "\n"
   ]
  },
  {
   "cell_type": "code",
   "execution_count": 15,
   "metadata": {},
   "outputs": [
    {
     "data": {
      "image/png": "[encoded data removed]",
      "text/plain": [
       "<Figure size 432x288 with 1 Axes>"
      ]
     },
     "metadata": {
      "needs_background": "light"
     },
     "output_type": "display_data"
    }
   ],
   "source": [
    "sns.countplot(insurance['smoker']) #distribution of smoker\n",
    "plt.show()"
   ]
  },
  {
   "cell_type": "markdown",
   "metadata": {},
   "source": [
    "we can see the number of smokers are very less compared to non-smokers. The ratio is approximately 1:5 which means only around 20 percent of the people smoke .\n"
   ]
  },
  {
   "cell_type": "markdown",
   "metadata": {},
   "source": [
    "# Bivariate Analysis"
   ]
  },
  {
   "cell_type": "code",
   "execution_count": 108,
   "metadata": {},
   "outputs": [],
   "source": [
    "#function to categorize age\n",
    "def categorize_age(df):\n",
    "    cut_points = np.arange(10,80,10)\n",
    "    label_names = [\"10-19\",\"20-29\",\"30-39\",\"40-49\",\"50-59\",\"60-69\"]\n",
    "    df[\"age_categories\"] = pd.cut(df[\"age\"],\n",
    "                                             cut_points,labels=label_names)\n",
    "    return df"
   ]
  },
  {
   "cell_type": "code",
   "execution_count": 109,
   "metadata": {},
   "outputs": [
    {
     "data": {
      "text/plain": [
       "<matplotlib.axes._subplots.AxesSubplot at 0x1a201a5ac8>"
      ]
     },
     "execution_count": 109,
     "metadata": {},
     "output_type": "execute_result"
    },
    {
     "data": {
      "image/png": "[encoded data removed]",
      "text/plain": [
       "<Figure size 432x288 with 1 Axes>"
      ]
     },
     "metadata": {
      "needs_background": "light"
     },
     "output_type": "display_data"
    }
   ],
   "source": [
    "# compare age with charges\n",
    "age_data = categorize_age(insurance)\n",
    "sns.barplot(x=\"age_categories\" , y =\"charges\" , data =age_data)"
   ]
  },
  {
   "cell_type": "markdown",
   "metadata": {},
   "source": [
    "we can observe that the  charges for older people are greater than younger people .\n",
    "Looks agreeable , with ageing , the medical costs become more."
   ]
  },
  {
   "cell_type": "code",
   "execution_count": 112,
   "metadata": {},
   "outputs": [
    {
     "data": {
      "image/png": "[encoded data removed]",
      "text/plain": [
       "<Figure size 432x288 with 1 Axes>"
      ]
     },
     "metadata": {
      "needs_background": "light"
     },
     "output_type": "display_data"
    }
   ],
   "source": [
    "sns.barplot(x=\"sex\" , y =\"charges\" , data =insurance) # visualize gender with charges\n",
    "plt.show()"
   ]
  },
  {
   "cell_type": "markdown",
   "metadata": {},
   "source": [
    "Though we have almost equal number of men and women in our data , the male population spends more in medical expenses than female"
   ]
  },
  {
   "cell_type": "code",
   "execution_count": 117,
   "metadata": {},
   "outputs": [],
   "source": [
    "#function to categorize age\n",
    "def categorize_bmi(df):\n",
    "    cut_points = [9,18.5 ,24.9,29.9,34.9 ,39.9,100]\n",
    "    label_names = [\"Underweight\",\"Normal\",\"pre-obese\",\"obese-class1\",\"obese-class2\",\"obese-class3\"]\n",
    "    df[\"bmi_categories\"] = pd.cut(df[\"bmi\"],\n",
    "                                             cut_points,labels=label_names)\n",
    "    return df"
   ]
  },
  {
   "cell_type": "code",
   "execution_count": 122,
   "metadata": {},
   "outputs": [
    {
     "data": {
      "image/png": "[encoded data removed]",
      "text/plain": [
       "<Figure size 720x288 with 1 Axes>"
      ]
     },
     "metadata": {
      "needs_background": "light"
     },
     "output_type": "display_data"
    }
   ],
   "source": [
    "plt.figure(figsize=(10,4))\n",
    "bmi_data = categorize_bmi(insurance)\n",
    "sns.barplot(x=\"bmi_categories\" , y =\"charges\" , data =bmi_data) # visualize gender with charges\n",
    "plt.show()"
   ]
  },
  {
   "cell_type": "markdown",
   "metadata": {},
   "source": [
    "With Normally distributed BMI data  , the people in the obese-class2 and obese-class3 are spending more on medical expenses."
   ]
  },
  {
   "cell_type": "code",
   "execution_count": 123,
   "metadata": {},
   "outputs": [
    {
     "data": {
      "image/png": "[encoded data removed]",
      "text/plain": [
       "<Figure size 432x288 with 1 Axes>"
      ]
     },
     "metadata": {
      "needs_background": "light"
     },
     "output_type": "display_data"
    }
   ],
   "source": [
    "sns.barplot(x=\"smoker\" , y =\"charges\" , data =insurance) # visualize smoker with charges\n",
    "plt.show()"
   ]
  },
  {
   "cell_type": "markdown",
   "metadata": {},
   "source": [
    "It is visible that the smokers are have more charges . Nearly 80 percent more.\n",
    "Very clear that smoking is injurious to health."
   ]
  },
  {
   "cell_type": "code",
   "execution_count": 124,
   "metadata": {},
   "outputs": [
    {
     "data": {
      "image/png": "[encoded data removed]",
      "text/plain": [
       "<Figure size 432x288 with 1 Axes>"
      ]
     },
     "metadata": {
      "needs_background": "light"
     },
     "output_type": "display_data"
    }
   ],
   "source": [
    "sns.barplot(x=\"region\" , y =\"charges\" , data =insurance) # visualize region with charges\n",
    "plt.show()"
   ]
  },
  {
   "cell_type": "markdown",
   "metadata": {},
   "source": [
    "Not much visible diffenrence between regions , though southeast regon is the leading one."
   ]
  },
  {
   "cell_type": "code",
   "execution_count": 125,
   "metadata": {},
   "outputs": [
    {
     "data": {
      "image/png": "[encoded data removed]",
      "text/plain": [
       "<Figure size 432x288 with 1 Axes>"
      ]
     },
     "metadata": {
      "needs_background": "light"
     },
     "output_type": "display_data"
    }
   ],
   "source": [
    "sns.barplot(x=\"children\" , y =\"charges\" , data =insurance) # visualize children with charges\n",
    "plt.show()"
   ]
  },
  {
   "cell_type": "markdown",
   "metadata": {},
   "source": [
    "Not much difference in charges with respect to the number of children in the insurance policy."
   ]
  },
  {
   "cell_type": "code",
   "execution_count": 130,
   "metadata": {},
   "outputs": [
    {
     "data": {
      "image/png": "[encoded data removed]",
      "text/plain": [
       "<Figure size 432x288 with 1 Axes>"
      ]
     },
     "metadata": {
      "needs_background": "light"
     },
     "output_type": "display_data"
    }
   ],
   "source": [
    "sns.barplot(y=\"children\" , x =\"region\" , data =insurance) # visualize children with region\n",
    "plt.show()"
   ]
  },
  {
   "cell_type": "markdown",
   "metadata": {},
   "source": [
    "Not much relation can be found in the number of children between regions"
   ]
  },
  {
   "cell_type": "code",
   "execution_count": 131,
   "metadata": {},
   "outputs": [
    {
     "data": {
      "image/png": "[encoded data removed]",
      "text/plain": [
       "<Figure size 432x288 with 1 Axes>"
      ]
     },
     "metadata": {
      "needs_background": "light"
     },
     "output_type": "display_data"
    }
   ],
   "source": [
    "sns.barplot(y=\"bmi\" , x =\"region\" , data =insurance) # visualize children with region\n",
    "plt.show()"
   ]
  },
  {
   "cell_type": "markdown",
   "metadata": {},
   "source": [
    "Not much relation can be found in the BMI rate between regions"
   ]
  },
  {
   "cell_type": "markdown",
   "metadata": {},
   "source": [
    "# MultiVariate Analysis"
   ]
  },
  {
   "cell_type": "code",
   "execution_count": 133,
   "metadata": {},
   "outputs": [
    {
     "data": {
      "image/png": "[encoded data removed]",
      "text/plain": [
       "<Figure size 720x288 with 1 Axes>"
      ]
     },
     "metadata": {
      "needs_background": "light"
     },
     "output_type": "display_data"
    }
   ],
   "source": [
    "plt.figure(figsize=(10,4))\n",
    "sns.barplot(x=\"bmi_categories\" , y =\"charges\",hue= \"smoker\", data =bmi_data) # visualize gender with charges\n",
    "plt.show()"
   ]
  },
  {
   "cell_type": "markdown",
   "metadata": {},
   "source": [
    "we can clearly see that smokers who are obese have higher charges"
   ]
  },
  {
   "cell_type": "code",
   "execution_count": 135,
   "metadata": {},
   "outputs": [
    {
     "data": {
      "image/png": "[encoded data removed]",
      "text/plain": [
       "<Figure size 720x288 with 1 Axes>"
      ]
     },
     "metadata": {
      "needs_background": "light"
     },
     "output_type": "display_data"
    }
   ],
   "source": [
    "plt.figure(figsize=(10,4))\n",
    "sns.barplot(x=\"age_categories\" , y =\"charges\",hue= \"smoker\", data =bmi_data) # visualize gender with charges\n",
    "plt.show()"
   ]
  },
  {
   "cell_type": "markdown",
   "metadata": {},
   "source": [
    "we can clearly see that smokers who are older have higher charges"
   ]
  },
  {
   "cell_type": "code",
   "execution_count": 138,
   "metadata": {},
   "outputs": [
    {
     "data": {
      "image/png": "[encoded data removed]",
      "text/plain": [
       "<Figure size 720x576 with 2 Axes>"
      ]
     },
     "metadata": {
      "needs_background": "light"
     },
     "output_type": "display_data"
    }
   ],
   "source": [
    "plt.figure(figsize=(10,8))\n",
    "sns.heatmap(insurance.corr(),annot=True,cmap ='RdYlGn')\n",
    "plt.show()"
   ]
  },
  {
   "cell_type": "markdown",
   "metadata": {},
   "source": [
    "Only age and charges have higher correlation , next comes bmi and charges"
   ]
  },
  {
   "cell_type": "markdown",
   "metadata": {},
   "source": [
    "# Hypothesis testing"
   ]
  },
  {
   "cell_type": "markdown",
   "metadata": {},
   "source": [
    "# Question1 : Do charges of people who smoke differ significantly from the people who don't?"
   ]
  },
  {
   "cell_type": "code",
   "execution_count": 16,
   "metadata": {},
   "outputs": [
    {
     "data": {
      "image/png": "[encoded data removed]",
      "text/plain": [
       "<Figure size 432x288 with 1 Axes>"
      ]
     },
     "metadata": {
      "needs_background": "light"
     },
     "output_type": "display_data"
    }
   ],
   "source": [
    "#visualise the data\n",
    "sns.barplot(insurance['smoker'],insurance['charges']) # compare with barplot the charges\n",
    "plt.show()"
   ]
  },
  {
   "cell_type": "markdown",
   "metadata": {},
   "source": [
    "Visually, we can see that the charges of who smoke is different from those who dont smoke.\n",
    "\n",
    "we need to check if this is just a statistical fluctuation or a significant difference.\n",
    "we can prove this using hypothesis testing."
   ]
  },
  {
   "cell_type": "code",
   "execution_count": 17,
   "metadata": {},
   "outputs": [],
   "source": [
    "Ho = \"There is no difference between the charges of non-smoker and the charges of smoker\" #null-hypothesis\n",
    "Ha = \"There is difference betweent the charges of non-smoker and the charges of smoker\" #Alternative- hypothesis"
   ]
  },
  {
   "cell_type": "markdown",
   "metadata": {},
   "source": [
    "Points to chose the correct method of Hypothesis testing :\n",
    "\n",
    "    We can prove the alternate hypothesis by comparing the mean of both the samples(smoker/non-smoker).\n",
    "    Here we dont know the population mean / standard deviation . \n",
    "    These samples are independent of each other.\n",
    "    \n",
    "Selected Testing method : Two-tailed-independent-T-test\n",
    "\n",
    "Precondition : Samples must be normally distributed"
   ]
  },
  {
   "cell_type": "code",
   "execution_count": 18,
   "metadata": {},
   "outputs": [],
   "source": [
    "#create the two samples\n",
    "insurance_smoker = insurance[insurance['smoker'] == 'yes']['charges'] #filter smoker charges\n",
    "insurance_non_smoker = insurance[insurance['smoker'] == 'no']['charges'] #filter non-smoker charges"
   ]
  },
  {
   "cell_type": "code",
   "execution_count": 19,
   "metadata": {},
   "outputs": [
    {
     "data": {
      "image/png": "[encoded data removed]",
      "text/plain": [
       "<Figure size 432x288 with 1 Axes>"
      ]
     },
     "metadata": {
      "needs_background": "light"
     },
     "output_type": "display_data"
    }
   ],
   "source": [
    "#check the distribution of the charges data\n",
    "sns.distplot(insurance_smoker, hist = False)\n",
    "sns.distplot(insurance_non_smoker, hist = False , color = \"r\")\n",
    "plt.show()"
   ]
  },
  {
   "cell_type": "markdown",
   "metadata": {},
   "source": [
    "we can see that the samples are not normally distributed . Let us test this using saphiro_test"
   ]
  },
  {
   "cell_type": "code",
   "execution_count": 20,
   "metadata": {},
   "outputs": [],
   "source": [
    "#saphiro test to test the normality of the sample data\n",
    "def saphiro_test(data) :\n",
    "    alpha = 0.05 \n",
    "    stat, p = shapiro(data) #scipy stats shapiro method\n",
    "    print('Statistics=%.3f, p=%10.3E' % (stat, p)) #print the stats\n",
    "    \n",
    "    if p > alpha:\n",
    "        print('Sample looks Normally Distributed (fail to reject H0)')\n",
    "    else:\n",
    "        print('Sample does not look Normally distributed (reject H0)')"
   ]
  },
  {
   "cell_type": "code",
   "execution_count": 21,
   "metadata": {},
   "outputs": [
    {
     "name": "stdout",
     "output_type": "stream",
     "text": [
      "Statistics=0.940, p= 3.625E-09\n",
      "Sample does not look Normally distributed (reject H0)\n"
     ]
    }
   ],
   "source": [
    "#check the distribution using Saphiro test\n",
    "saphiro_test(insurance_smoker)"
   ]
  },
  {
   "cell_type": "code",
   "execution_count": 22,
   "metadata": {},
   "outputs": [
    {
     "name": "stdout",
     "output_type": "stream",
     "text": [
      "Statistics=0.873, p= 1.446E-28\n",
      "Sample does not look Normally distributed (reject H0)\n"
     ]
    }
   ],
   "source": [
    "#check the distribution using Saphiro test\n",
    "saphiro_test(insurance_non_smoker)"
   ]
  },
  {
   "cell_type": "markdown",
   "metadata": {},
   "source": [
    "From Saphiro test results ,Both the samples are not normally distributed .\n",
    "\n",
    "Let us transfrom the data using logarathim to get a normally distributed data."
   ]
  },
  {
   "cell_type": "code",
   "execution_count": 23,
   "metadata": {},
   "outputs": [],
   "source": [
    "smoker_charges_transformed = stats.boxcox(exp(insurance_smoker),0)# logrithmic transformation of charges of smoker data\n",
    "non_smoker_charges_transformed = stats.boxcox(exp(insurance_non_smoker),0) # logrithmic transformation of charges of non-smoker data\n"
   ]
  },
  {
   "cell_type": "markdown",
   "metadata": {},
   "source": [
    "Now let us test the normality using Saphiro test"
   ]
  },
  {
   "cell_type": "code",
   "execution_count": 24,
   "metadata": {},
   "outputs": [
    {
     "name": "stdout",
     "output_type": "stream",
     "text": [
      "Statistics=nan, p= 1.000E+00\n",
      "Sample looks Normally Distributed (fail to reject H0)\n"
     ]
    }
   ],
   "source": [
    "#check the distribution using Saphiro test\n",
    "saphiro_test(smoker_charges_transformed)"
   ]
  },
  {
   "cell_type": "code",
   "execution_count": 25,
   "metadata": {},
   "outputs": [
    {
     "name": "stdout",
     "output_type": "stream",
     "text": [
      "Statistics=nan, p= 1.000E+00\n",
      "Sample looks Normally Distributed (fail to reject H0)\n"
     ]
    }
   ],
   "source": [
    "#check the distribution using Saphiro test\n",
    "saphiro_test(non_smoker_charges_transformed)"
   ]
  },
  {
   "cell_type": "markdown",
   "metadata": {},
   "source": [
    "Now the samples are normally distributed, we can go for  Two-tailed-independent-T-test"
   ]
  },
  {
   "cell_type": "code",
   "execution_count": 52,
   "metadata": {},
   "outputs": [],
   "source": [
    "# function for calculating the t-test for two independent samples\n",
    "def independent_ttest(data1, data2, alpha):\n",
    "    # calculate means\n",
    "    mean1, mean2 = mean(data1), mean(data2)\n",
    "    # calculate sample standard deviations\n",
    "    std1, std2 = std(data1, ddof=1), std(data2, ddof=1)\n",
    "    # calculate standard errors\n",
    "    n1, n2 = len(data1), len(data2)\n",
    "    se1, se2 = std1/sqrt(n1), std2/sqrt(n2)\n",
    "    # standard error on the difference between the samples\n",
    "    sed = sqrt(se1**2.0 + se2**2.0)\n",
    "    # calculate the t statistic\n",
    "    t_stat = (mean1 - mean2) / sed\n",
    "    # degrees of freedom\n",
    "    df = len(data1) + len(data2) - 2\n",
    "    # calculate the critical value\n",
    "    cv = t.ppf(1.0 - alpha, df)\n",
    "    # calculate the p-value\n",
    "    p = (1.0 - t.cdf(abs(t_stat), df)) * 2.0\n",
    "    # return everything\n",
    "    return t_stat, df, cv, p"
   ]
  },
  {
   "cell_type": "code",
   "execution_count": 53,
   "metadata": {},
   "outputs": [
    {
     "name": "stdout",
     "output_type": "stream",
     "text": [
      "There is difference between the charges of non-smoker and the charges of smoker (reject H0)\n"
     ]
    }
   ],
   "source": [
    "alpha = 0.05 # set significance value\n",
    "t_stat, df, cv, p=independent_ttest(insurance_smoker , insurance_non_smoker ,alpha)\n",
    "if p > alpha:\n",
    "    print('There is no difference between the charges of non-smoker and the charges of smoker(fail to reject H0)')\n",
    "else:\n",
    "    print('There is difference between the charges of non-smoker and the charges of smoker (reject H0)')"
   ]
  },
  {
   "cell_type": "markdown",
   "metadata": {},
   "source": [
    "Hence Proved."
   ]
  },
  {
   "cell_type": "markdown",
   "metadata": {},
   "source": [
    "# Question 2 : Does bmi of males differ significantly from that of females?"
   ]
  },
  {
   "cell_type": "code",
   "execution_count": 54,
   "metadata": {},
   "outputs": [
    {
     "data": {
      "image/png": "[encoded data removed]",
      "text/plain": [
       "<Figure size 432x288 with 1 Axes>"
      ]
     },
     "metadata": {
      "needs_background": "light"
     },
     "output_type": "display_data"
    }
   ],
   "source": [
    "#visualise the data\n",
    "sns.barplot(insurance['sex'],insurance['bmi']) # compare with barplot the bmi\n",
    "plt.show()"
   ]
  },
  {
   "cell_type": "markdown",
   "metadata": {},
   "source": [
    "Visually, we cannot see differences between the BMI of male and female.\n",
    "\n",
    "we need to check if this is just a statistical fluctuation or a significant difference. we can prove this using hypothesis testing."
   ]
  },
  {
   "cell_type": "code",
   "execution_count": null,
   "metadata": {},
   "outputs": [],
   "source": [
    "Ho = \"There is no difference between the bmi of male and female samples\" #null-hypothesis\n",
    "Ha = \"There is difference betweent the bmi of male and female samples\" #Alternative- hypothesis"
   ]
  },
  {
   "cell_type": "markdown",
   "metadata": {},
   "source": [
    "Points to chose the correct method of Hypothesis testing :\n",
    "\n",
    "    We can prove the alternate hypothesis by comparing the mean of both the samples(male/female).\n",
    "    Here we dont know the population mean / standard deviation . \n",
    "    These samples are independent of each other.\n",
    "    \n",
    "Selected Testing method : Two-tailed-independent-T-test\n",
    "\n",
    "Precondition : Samples must be normally distributed"
   ]
  },
  {
   "cell_type": "code",
   "execution_count": 56,
   "metadata": {},
   "outputs": [],
   "source": [
    "#create the two samples\n",
    "insurance_male = insurance[insurance['sex'] == 'male']['bmi'] #filter male bmi\n",
    "insurance_female = insurance[insurance['sex'] == 'female']['bmi'] #filter female bmi"
   ]
  },
  {
   "cell_type": "code",
   "execution_count": 57,
   "metadata": {},
   "outputs": [
    {
     "data": {
      "image/png": "[encoded data removed]",
      "text/plain": [
       "<Figure size 432x288 with 1 Axes>"
      ]
     },
     "metadata": {
      "needs_background": "light"
     },
     "output_type": "display_data"
    }
   ],
   "source": [
    "#check the distribution of the charges data\n",
    "sns.distplot(insurance_male, hist = False)\n",
    "sns.distplot(insurance_female, hist = False , color = \"r\")\n",
    "plt.show()"
   ]
  },
  {
   "cell_type": "markdown",
   "metadata": {},
   "source": [
    "we can see that the samples are normally distributed (with the beautiful bell curve)."
   ]
  },
  {
   "cell_type": "code",
   "execution_count": 64,
   "metadata": {},
   "outputs": [
    {
     "name": "stdout",
     "output_type": "stream",
     "text": [
      "Statistics=1.697, p= 8.992E-02\n",
      "There is no difference between the bmi of male and female samples(fail to reject H0)\n"
     ]
    }
   ],
   "source": [
    "t_stat, df, cv, p=independent_ttest(insurance_male , insurance_female ,alpha) #hypothesis testing\n",
    "print('Statistics=%.3f, p=%10.3E' % (t_stat, p)) #print the stats\n",
    "if p > alpha:\n",
    "    print('There is no difference between the bmi of male and female samples(fail to reject H0)')\n",
    "else:\n",
    "    print('There is difference between the bmi of male and female samples (reject H0)')"
   ]
  },
  {
   "cell_type": "markdown",
   "metadata": {},
   "source": [
    "# Question 3 : Is the proportion of smokers significantly different in different genders?"
   ]
  },
  {
   "cell_type": "code",
   "execution_count": 69,
   "metadata": {},
   "outputs": [
    {
     "data": {
      "text/plain": [
       "<matplotlib.axes._subplots.AxesSubplot at 0x1a1ff31240>"
      ]
     },
     "execution_count": 69,
     "metadata": {},
     "output_type": "execute_result"
    },
    {
     "data": {
      "image/png": "[encoded data removed]",
      "text/plain": [
       "<Figure size 432x288 with 1 Axes>"
      ]
     },
     "metadata": {
      "needs_background": "light"
     },
     "output_type": "display_data"
    }
   ],
   "source": [
    "#visualise the data\n",
    "sns.countplot(insurance['smoker'], hue = insurance['sex'])"
   ]
  },
  {
   "cell_type": "markdown",
   "metadata": {},
   "source": [
    "Visually, we can see that the men smoke more than women\n",
    "\n",
    "we need to check if this is just a statistical fluctuation or a significant difference. we can prove this using hypothesis testing."
   ]
  },
  {
   "cell_type": "code",
   "execution_count": 71,
   "metadata": {},
   "outputs": [],
   "source": [
    "Ho = \"There is no difference in the proportion of smoker between male and female\" #null-hypothesis\n",
    "Ha = \"There is difference in the proportion of smoker between male and female\" #Alternative- hypothesis"
   ]
  },
  {
   "cell_type": "markdown",
   "metadata": {},
   "source": [
    "Points to chose the correct method of Hypothesis testing :\n",
    "    \n",
    "    Comparision of categorical variables\n",
    "    Two sample sets independent of each other\n",
    "    \n",
    "Selected hypothesis testing method : chi-square test\n",
    "\n",
    "Steps :\n",
    "    create contigency table\n",
    "    expected value is calculated\n",
    "    X^2 =(observed - expected)^2 / expected\n",
    "    check the chi-squared table for alpha= 0.05(95% confidence) and degree of freedom = 1(chi-square-critical = 3.84) \n",
    "    if chi-square-critical > chi-square-stat\n",
    "        we cannot reject H0\n",
    "    if chi-square-critical < chi-square-stat\n",
    "        reject H0"
   ]
  },
  {
   "cell_type": "code",
   "execution_count": 81,
   "metadata": {},
   "outputs": [
    {
     "data": {
      "text/html": [
       "<div>\n",
       "<style scoped>\n",
       "    .dataframe tbody tr th:only-of-type {\n",
       "        vertical-align: middle;\n",
       "    }\n",
       "\n",
       "    .dataframe tbody tr th {\n",
       "        vertical-align: top;\n",
       "    }\n",
       "\n",
       "    .dataframe thead th {\n",
       "        text-align: right;\n",
       "    }\n",
       "</style>\n",
       "<table border=\"1\" class=\"dataframe\">\n",
       "  <thead>\n",
       "    <tr style=\"text-align: right;\">\n",
       "      <th>sex</th>\n",
       "      <th>female</th>\n",
       "      <th>male</th>\n",
       "      <th>All</th>\n",
       "    </tr>\n",
       "    <tr>\n",
       "      <th>smoker</th>\n",
       "      <th></th>\n",
       "      <th></th>\n",
       "      <th></th>\n",
       "    </tr>\n",
       "  </thead>\n",
       "  <tbody>\n",
       "    <tr>\n",
       "      <th>no</th>\n",
       "      <td>547</td>\n",
       "      <td>517</td>\n",
       "      <td>1064</td>\n",
       "    </tr>\n",
       "    <tr>\n",
       "      <th>yes</th>\n",
       "      <td>115</td>\n",
       "      <td>159</td>\n",
       "      <td>274</td>\n",
       "    </tr>\n",
       "    <tr>\n",
       "      <th>All</th>\n",
       "      <td>662</td>\n",
       "      <td>676</td>\n",
       "      <td>1338</td>\n",
       "    </tr>\n",
       "  </tbody>\n",
       "</table>\n",
       "</div>"
      ],
      "text/plain": [
       "sex     female  male   All\n",
       "smoker                    \n",
       "no         547   517  1064\n",
       "yes        115   159   274\n",
       "All        662   676  1338"
      ]
     },
     "execution_count": 81,
     "metadata": {},
     "output_type": "execute_result"
    }
   ],
   "source": [
    "contingency_table = pd.crosstab(insurance['smoker'],insurance['sex'],margins = True) # create contigency tble\n",
    "contingency_table"
   ]
  },
  {
   "cell_type": "code",
   "execution_count": 92,
   "metadata": {},
   "outputs": [],
   "source": [
    "f_obs = np.append(contingency_table.iloc[0][0:2].values, contingency_table.iloc[1][0:2].values)"
   ]
  },
  {
   "cell_type": "code",
   "execution_count": 99,
   "metadata": {},
   "outputs": [
    {
     "data": {
      "text/plain": [
       "[526.4334828101644, 537.5665171898356, 135.56651718983557, 138.43348281016443]"
      ]
     },
     "execution_count": 99,
     "metadata": {},
     "output_type": "execute_result"
    }
   ],
   "source": [
    "f_expected = []\n",
    "for i in np.arange(2):\n",
    "    for j in np.arange(2):\n",
    "        f_expected.append((contingency_table.iloc[i][2] * contingency_table.iloc[2][j])/contingency_table['All']['All'])\n",
    "f_expected"
   ]
  },
  {
   "cell_type": "code",
   "execution_count": 94,
   "metadata": {},
   "outputs": [
    {
     "name": "stdout",
     "output_type": "stream",
     "text": [
      "Chi-squared Statistic: 7.765921028604452\n"
     ]
    }
   ],
   "source": [
    "chi_squared_statistic = ((f_obs - f_expected)**2/f_expected).sum()\n",
    "print('Chi-squared Statistic: {}'.format(chi_squared_statistic))"
   ]
  },
  {
   "cell_type": "code",
   "execution_count": 95,
   "metadata": {},
   "outputs": [],
   "source": [
    "#DoF=(Number of rows−1)∗(Number of columns−1)\n",
    "DoF = (2-1)*(2-1)"
   ]
  },
  {
   "cell_type": "markdown",
   "metadata": {},
   "source": [
    "Looking into the table for alpha= 0.05(95% confidence) and degree of freedom = 1 , chi-square-critical = 3.84\n",
    "\n",
    "Our value is higher than the chi-square-critical , we can reject the null hypothesis.\n",
    "\n",
    "Hence the conclusion : There is difference in the proportion of smoker between male and female"
   ]
  },
  {
   "cell_type": "code",
   "execution_count": 98,
   "metadata": {},
   "outputs": [
    {
     "data": {
      "text/plain": [
       "(7.39291081459996,\n",
       " 0.006548143503580696,\n",
       " 1,\n",
       " array([[526.43348281, 537.56651719],\n",
       "        [135.56651719, 138.43348281]]))"
      ]
     },
     "execution_count": 98,
     "metadata": {},
     "output_type": "execute_result"
    }
   ],
   "source": [
    "# cross checking with scipy\n",
    "chi,p,dof,expected =stats.chi2_contingency(pd.crosstab(insurance['smoker'],insurance['sex'])) "
   ]
  },
  {
   "cell_type": "markdown",
   "metadata": {},
   "source": [
    "# Question 3 : Is the distribution of bmi across women with no children, one child and two children,the same ?"
   ]
  },
  {
   "cell_type": "code",
   "execution_count": 141,
   "metadata": {},
   "outputs": [
    {
     "data": {
      "image/png": "[encoded data removed]",
      "text/plain": [
       "<Figure size 432x288 with 1 Axes>"
      ]
     },
     "metadata": {
      "needs_background": "light"
     },
     "output_type": "display_data"
    }
   ],
   "source": [
    "# visualize children with bmi\n",
    "sns.barplot(x=\"children\" , y =\"bmi\" , data =insurance[insurance['children'] <3]) \n",
    "plt.show()"
   ]
  },
  {
   "cell_type": "markdown",
   "metadata": {},
   "source": [
    "Visually we donot find the difference in the distribution.\n",
    "\n",
    "With the help of hypothesis testing , we can find if this is stastistical fluctuation , or really there are no difference."
   ]
  },
  {
   "cell_type": "code",
   "execution_count": null,
   "metadata": {},
   "outputs": [],
   "source": [
    "Ho = \"Number of children have no effect on BMI\" #null-hypothesis\n",
    "Ha = \"Number of children have effect on BMI\" #Alternative- hypothesis"
   ]
  },
  {
   "cell_type": "markdown",
   "metadata": {},
   "source": [
    "Points to chose the correct method of Hypothesis testing :\n",
    "\n",
    "    More than two samples have to be tested of a single independent variable.\n",
    "    \n",
    "Tested selected : one - way ANOVA\n",
    "\n",
    "Precondition : the sample should be normally distributed.\n",
    "\n",
    "steps : Annova calculates the variance between the sample / variance within the sample"
   ]
  },
  {
   "cell_type": "code",
   "execution_count": 145,
   "metadata": {},
   "outputs": [],
   "source": [
    "children_zero = insurance[insurance['children'] == 0]['bmi'] #filter \n",
    "children_one = insurance[insurance['children'] == 1]['bmi']\n",
    "children_two = insurance[insurance['children'] == 2]['bmi']"
   ]
  },
  {
   "cell_type": "code",
   "execution_count": 146,
   "metadata": {},
   "outputs": [
    {
     "data": {
      "image/png": "[encoded data removed]",
      "text/plain": [
       "<Figure size 432x288 with 1 Axes>"
      ]
     },
     "metadata": {
      "needs_background": "light"
     },
     "output_type": "display_data"
    }
   ],
   "source": [
    "#check the distribution of the bmi data\n",
    "sns.distplot(children_zero, hist = False)\n",
    "sns.distplot(children_one, hist = False , color = \"r\")\n",
    "sns.distplot(children_two, hist = False , color = \"g\")\n",
    "plt.show()"
   ]
  },
  {
   "cell_type": "markdown",
   "metadata": {},
   "source": [
    "visually it looks normally distributed."
   ]
  },
  {
   "cell_type": "code",
   "execution_count": 148,
   "metadata": {},
   "outputs": [],
   "source": [
    "f_stat, p = stats.f_oneway(children_zero,children_one,children_two) #one -way annova"
   ]
  },
  {
   "cell_type": "code",
   "execution_count": 149,
   "metadata": {},
   "outputs": [
    {
     "name": "stdout",
     "output_type": "stream",
     "text": [
      "Statistics=0.417, p= 6.591E-01\n",
      "Number of children have no effect on BMI(fail to reject H0)\n"
     ]
    }
   ],
   "source": [
    "print('Statistics=%.3f, p=%10.3E' % (f_stat, p)) #print the stats\n",
    "\n",
    "if p > alpha:\n",
    "    print('Number of children have no effect on BMI(fail to reject H0)')\n",
    "else:\n",
    "    print('Number of children have effect on BMI (reject H0)')"
   ]
  },
  {
   "cell_type": "markdown",
   "metadata": {},
   "source": [
    "# Summary"
   ]
  },
  {
   "cell_type": "markdown",
   "metadata": {},
   "source": [
    "# Title: Elder or Obese people with smoking habits have higher Medical charges"
   ]
  },
  {
   "cell_type": "markdown",
   "metadata": {},
   "source": [
    "Observations :\n",
    "    \n",
    "    Indeed, Smoking is injurious to health . People with smoking habits have higher medical expenses than non -smokers(nearly 80 percent higher)\n",
    "    \n",
    "    People with high BMI especially with class2 and class3 obesity have more medical charges\n",
    "    \n",
    "    Elder people above age 50 have higher charges.\n",
    "    \n",
    "    Region , Number of children does not have effect on charges.\n",
    "    \n",
    "    Men are found to be more smoking than women.\n",
    "    \n",
    "    \n",
    "    \n",
    "    "
   ]
  },
  {
   "cell_type": "code",
   "execution_count": null,
   "metadata": {},
   "outputs": [],
   "source": []
  }
 ],
 "metadata": {
  "kernelspec": {
   "display_name": "Python 3",
   "language": "python",
   "name": "python3"
  },
  "language_info": {
   "codemirror_mode": {
    "name": "ipython",
    "version": 3
   },
   "file_extension": ".py",
   "mimetype": "text/x-python",
   "name": "python",
   "nbconvert_exporter": "python",
   "pygments_lexer": "ipython3",
   "version": "3.7.3"
  }
 },
 "nbformat": 4,
 "nbformat_minor": 2
}
