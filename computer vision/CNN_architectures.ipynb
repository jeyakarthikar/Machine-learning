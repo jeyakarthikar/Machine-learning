{
  "nbformat": 4,
  "nbformat_minor": 0,
  "metadata": {
    "colab": {
      "name": "CNN architectures.ipynb",
      "provenance": []
    },
    "kernelspec": {
      "name": "python3",
      "display_name": "Python 3"
    },
    "accelerator": "GPU"
  },
  "cells": [
    {
      "cell_type": "markdown",
      "metadata": {
        "id": "2h-M1-0ApIBB",
        "colab_type": "text"
      },
      "source": [
        "# CNN Architectures"
      ]
    },
    {
      "cell_type": "markdown",
      "metadata": {
        "id": "NnjCWgJ0powe",
        "colab_type": "text"
      },
      "source": [
        "In this tutorial, we will build the popular CNN architectures. we will take two approaches\n",
        "\n",
        "\n",
        "\n",
        "1.   Build from scratch with keras layers package\n",
        "2.   Customize the prebuilt models from keras applications package and also use transfer learning with pretrained imagenet weights.\n",
        "\n"
      ]
    },
    {
      "cell_type": "markdown",
      "metadata": {
        "id": "QNH2DRqWrkXX",
        "colab_type": "text"
      },
      "source": [
        "# Dataset for classification of Dogs and Cats"
      ]
    },
    {
      "cell_type": "markdown",
      "metadata": {
        "id": "bsMtkKi5rDdE",
        "colab_type": "text"
      },
      "source": [
        "**DataSource**:\n",
        "https://www.kaggle.com/ayushsharma2k/dogcat-classificationcnn\n",
        "\n",
        "This dataset contains 8000 images of dogs and cats for training set and 2000 images for test set."
      ]
    },
    {
      "cell_type": "markdown",
      "metadata": {
        "id": "jjRzlX09rrAq",
        "colab_type": "text"
      },
      "source": [
        "# Mount the Drive"
      ]
    },
    {
      "cell_type": "code",
      "metadata": {
        "id": "XhTca65_IrEp",
        "colab_type": "code",
        "colab": {
          "base_uri": "https://localhost:8080/",
          "height": 122
        },
        "outputId": "7a80660e-3609-4213-ba9f-6e2a33bf8b53"
      },
      "source": [
        "from google.colab import drive\n",
        "drive.mount('/content/drive')"
      ],
      "execution_count": 1,
      "outputs": [
        {
          "output_type": "stream",
          "text": [
            "Go to this URL in a browser: https://accounts.google.com/o/oauth2/auth?client_id=947318989803-6bn6qk8qdgf4n4g3pfee6491hc0brc4i.apps.googleusercontent.com&redirect_uri=urn%3aietf%3awg%3aoauth%3a2.0%3aoob&response_type=code&scope=email%20https%3a%2f%2fwww.googleapis.com%2fauth%2fdocs.test%20https%3a%2f%2fwww.googleapis.com%2fauth%2fdrive%20https%3a%2f%2fwww.googleapis.com%2fauth%2fdrive.photos.readonly%20https%3a%2f%2fwww.googleapis.com%2fauth%2fpeopleapi.readonly\n",
            "\n",
            "Enter your authorization code:\n",
            "··········\n",
            "Mounted at /content/drive\n"
          ],
          "name": "stdout"
        }
      ]
    },
    {
      "cell_type": "markdown",
      "metadata": {
        "id": "d4_wab6erus8",
        "colab_type": "text"
      },
      "source": [
        "# Import libraries"
      ]
    },
    {
      "cell_type": "code",
      "metadata": {
        "id": "903rycklni8w",
        "colab_type": "code",
        "colab": {}
      },
      "source": [
        "import keras\n",
        "from keras.models import Sequential,Model\n",
        "from keras.layers import Dense, Activation, Dropout, Flatten,Conv2D, MaxPooling2D,Input,AveragePooling2D,Concatenate,add,GlobalAveragePooling2D\n",
        "from keras.layers.normalization import BatchNormalization\n",
        "from keras.preprocessing.image import ImageDataGenerator\n",
        "from keras.layers.merge import concatenate\n",
        "from keras import optimizers\n",
        "import numpy as np\n",
        "np.random.seed(1000)\n"
      ],
      "execution_count": 84,
      "outputs": []
    },
    {
      "cell_type": "markdown",
      "metadata": {
        "id": "iYGlPTyZJ821",
        "colab_type": "text"
      },
      "source": [
        "# Data preprocessing"
      ]
    },
    {
      "cell_type": "markdown",
      "metadata": {
        "id": "sEa5uPaxsO7d",
        "colab_type": "text"
      },
      "source": [
        " As you already know by now, data should be formatted into appropriately pre-processed floating point tensors before being fed into our network. Currently, our data sits on a drive as JPEG files, so the steps for getting it into our network are roughly:\n",
        "\n",
        "* Read the picture files.\n",
        "* Decode the JPEG content to RBG grids of pixels.\n",
        "* Convert these into floating point tensors.\n",
        "* Rescale the pixel values (between 0 and 255) to the [0, 1] interval (as you know, neural networks prefer to deal with small input values).\n",
        "\n",
        " It may seem a bit daunting, but thankfully Keras has utilities to take care of these steps automatically. Keras has a module with image  processing helper tools, located at `keras.preprocessing.image`. In particular, it contains the class `ImageDataGenerator` which allows to  quickly set up Python generators that can automatically turn image files on disk into batches of pre-processed tensors. This is what we will use here.\n",
        "\n"
      ]
    },
    {
      "cell_type": "code",
      "metadata": {
        "id": "QWeQTpHLKow2",
        "colab_type": "code",
        "colab": {}
      },
      "source": [
        "train_datagen = ImageDataGenerator(\n",
        "        rescale=1./255,\n",
        "        shear_range=0.2,\n",
        "        zoom_range=0.2,\n",
        "        horizontal_flip=True)\n",
        "test_datagen = ImageDataGenerator(rescale=1./255)"
      ],
      "execution_count": 3,
      "outputs": []
    },
    {
      "cell_type": "code",
      "metadata": {
        "id": "-mykNapU_-2t",
        "colab_type": "code",
        "colab": {
          "base_uri": "https://localhost:8080/",
          "height": 51
        },
        "outputId": "93cec32a-fe82-4d61-be5e-ffdadc6658b8"
      },
      "source": [
        "#Let's take a look at the output of one of these generators: it yields batches of 224*224 RGB images (shape `(32, 224, 224, 3)`) and categorical outputs\n",
        "\n",
        "training_set = train_datagen.flow_from_directory('/content/drive/My Drive/cat-dog dataset/training_set',\n",
        "                                                 target_size=(224,224),\n",
        "                                                 batch_size=32,\n",
        "                                                 class_mode='categorical')\n",
        "test_set = test_datagen.flow_from_directory('/content/drive/My Drive/cat-dog dataset/test_set',\n",
        "                                            target_size=(224,224),\n",
        "                                            batch_size=32,\n",
        "                                            class_mode='categorical')"
      ],
      "execution_count": 39,
      "outputs": [
        {
          "output_type": "stream",
          "text": [
            "Found 8000 images belonging to 2 classes.\n",
            "Found 2000 images belonging to 2 classes.\n"
          ],
          "name": "stdout"
        }
      ]
    },
    {
      "cell_type": "markdown",
      "metadata": {
        "id": "ftGo2DOXJ5l0",
        "colab_type": "text"
      },
      "source": [
        "# Alexnet - from scratch"
      ]
    },
    {
      "cell_type": "markdown",
      "metadata": {
        "id": "N68t6zGIt74i",
        "colab_type": "text"
      },
      "source": [
        "AlexNet consists of 5 Convolutional Layers and 3 Fully Connected Layers.\n",
        "\n",
        "Imagesource:https://www.learnopencv.com/wp-content/uploads/2018/05/AlexNet-1.png\n",
        "![Alexnet architecture](https://www.learnopencv.com/wp-content/uploads/2018/05/AlexNet-1.png)"
      ]
    },
    {
      "cell_type": "code",
      "metadata": {
        "id": "VnPCm7W59ajV",
        "colab_type": "code",
        "colab": {
          "base_uri": "https://localhost:8080/",
          "height": 969
        },
        "outputId": "537b8fbb-60e3-438e-ac7c-66a501c5553c"
      },
      "source": [
        "model = Sequential()\n",
        "\n",
        "model.add(Conv2D(filters=96, input_shape=(224,224,3), kernel_size=(11,11),strides=(4,4), padding='valid',activation=\"relu\"))\n",
        "model.add(MaxPooling2D(pool_size=(2,2), strides=(2,2), padding='valid'))\n",
        "model.add(BatchNormalization())\n",
        "\n",
        "model.add(Conv2D(filters=256, kernel_size=(11,11), strides=(1,1), padding='valid',activation=\"relu\"))\n",
        "model.add(MaxPooling2D(pool_size=(2,2), strides=(2,2), padding='valid'))\n",
        "model.add(BatchNormalization())\n",
        "\n",
        "model.add(Conv2D(filters=384, kernel_size=(3,3), strides=(1,1), padding='valid',activation=\"relu\"))\n",
        "model.add(BatchNormalization())\n",
        "\n",
        "model.add(Conv2D(filters=384, kernel_size=(3,3), strides=(1,1), padding='valid',activation=\"relu\"))\n",
        "model.add(BatchNormalization())\n",
        "\n",
        "\n",
        "model.add(Conv2D(filters=256, kernel_size=(3,3), strides=(1,1), padding='valid',activation=\"relu\"))\n",
        "model.add(MaxPooling2D(pool_size=(2,2), strides=(2,2), padding='valid'))\n",
        "model.add(BatchNormalization())\n",
        "\n",
        "# Passing it to a dense layer\n",
        "model.add(Flatten())\n",
        "model.add(Dense(4096, input_shape=(224*224*3,),activation=\"relu\"))\n",
        "# Add Dropout to prevent overfitting\n",
        "model.add(Dropout(0.4))\n",
        "model.add(BatchNormalization())\n",
        "\n",
        "\n",
        "model.add(Dense(4096,activation=\"relu\"))\n",
        "model.add(Dropout(0.4))\n",
        "model.add(BatchNormalization())\n",
        "\n",
        "model.add(Dense(1000,activation=\"relu\"))\n",
        "model.add(Dropout(0.4))\n",
        "model.add(BatchNormalization())\n",
        "\n",
        "# Output Layer\n",
        "model.add(Dense(2,activation=\"softmax\"))\n",
        "\n",
        "model.summary()\n",
        "\n"
      ],
      "execution_count": 24,
      "outputs": [
        {
          "output_type": "stream",
          "text": [
            "Model: \"sequential_4\"\n",
            "_________________________________________________________________\n",
            "Layer (type)                 Output Shape              Param #   \n",
            "=================================================================\n",
            "conv2d_16 (Conv2D)           (None, 54, 54, 96)        34944     \n",
            "_________________________________________________________________\n",
            "max_pooling2d_10 (MaxPooling (None, 27, 27, 96)        0         \n",
            "_________________________________________________________________\n",
            "batch_normalization_25 (Batc (None, 27, 27, 96)        384       \n",
            "_________________________________________________________________\n",
            "conv2d_17 (Conv2D)           (None, 17, 17, 256)       2973952   \n",
            "_________________________________________________________________\n",
            "max_pooling2d_11 (MaxPooling (None, 8, 8, 256)         0         \n",
            "_________________________________________________________________\n",
            "batch_normalization_26 (Batc (None, 8, 8, 256)         1024      \n",
            "_________________________________________________________________\n",
            "conv2d_18 (Conv2D)           (None, 6, 6, 384)         885120    \n",
            "_________________________________________________________________\n",
            "batch_normalization_27 (Batc (None, 6, 6, 384)         1536      \n",
            "_________________________________________________________________\n",
            "conv2d_19 (Conv2D)           (None, 4, 4, 384)         1327488   \n",
            "_________________________________________________________________\n",
            "batch_normalization_28 (Batc (None, 4, 4, 384)         1536      \n",
            "_________________________________________________________________\n",
            "conv2d_20 (Conv2D)           (None, 2, 2, 256)         884992    \n",
            "_________________________________________________________________\n",
            "max_pooling2d_12 (MaxPooling (None, 1, 1, 256)         0         \n",
            "_________________________________________________________________\n",
            "batch_normalization_29 (Batc (None, 1, 1, 256)         1024      \n",
            "_________________________________________________________________\n",
            "flatten_4 (Flatten)          (None, 256)               0         \n",
            "_________________________________________________________________\n",
            "dense_13 (Dense)             (None, 4096)              1052672   \n",
            "_________________________________________________________________\n",
            "dropout_10 (Dropout)         (None, 4096)              0         \n",
            "_________________________________________________________________\n",
            "batch_normalization_30 (Batc (None, 4096)              16384     \n",
            "_________________________________________________________________\n",
            "dense_14 (Dense)             (None, 4096)              16781312  \n",
            "_________________________________________________________________\n",
            "dropout_11 (Dropout)         (None, 4096)              0         \n",
            "_________________________________________________________________\n",
            "batch_normalization_31 (Batc (None, 4096)              16384     \n",
            "_________________________________________________________________\n",
            "dense_15 (Dense)             (None, 1000)              4097000   \n",
            "_________________________________________________________________\n",
            "dropout_12 (Dropout)         (None, 1000)              0         \n",
            "_________________________________________________________________\n",
            "batch_normalization_32 (Batc (None, 1000)              4000      \n",
            "_________________________________________________________________\n",
            "dense_16 (Dense)             (None, 1)                 1001      \n",
            "=================================================================\n",
            "Total params: 28,080,753\n",
            "Trainable params: 28,059,617\n",
            "Non-trainable params: 21,136\n",
            "_________________________________________________________________\n"
          ],
          "name": "stdout"
        }
      ]
    },
    {
      "cell_type": "code",
      "metadata": {
        "id": "QHc9VEGPNSor",
        "colab_type": "code",
        "colab": {
          "base_uri": "https://localhost:8080/",
          "height": 68
        },
        "outputId": "70243d3d-51c9-497c-a4aa-0380906a285e"
      },
      "source": [
        "#  Compile \n",
        "model.compile(loss='categorical_crossentropy', optimizer='adam',metrics=['accuracy'])\n",
        "\n",
        "# Train\n",
        "model.fit(training_set,\n",
        "          epochs=1,\n",
        "          validation_data=test_set)"
      ],
      "execution_count": 25,
      "outputs": [
        {
          "output_type": "stream",
          "text": [
            "Epoch 1/1\n",
            "250/250 [==============================] - 1313s 5s/step - loss: 0.8487 - accuracy: 0.5282 - val_loss: 0.7166 - val_accuracy: 0.5275\n"
          ],
          "name": "stdout"
        },
        {
          "output_type": "execute_result",
          "data": {
            "text/plain": [
              "<keras.callbacks.callbacks.History at 0x7efec0b935f8>"
            ]
          },
          "metadata": {
            "tags": []
          },
          "execution_count": 25
        }
      ]
    },
    {
      "cell_type": "markdown",
      "metadata": {
        "id": "SEyyrE_FfQJN",
        "colab_type": "text"
      },
      "source": [
        "# VGG Model from scratch"
      ]
    },
    {
      "cell_type": "markdown",
      "metadata": {
        "id": "F4LVnH9fvBV7",
        "colab_type": "text"
      },
      "source": [
        "VGG16 is a convolution neural net (CNN ) architecture which was used to win ILSVR(Imagenet) competition in 2014. It is considered to be one of the excellent vision model architecture till date. Most unique thing about VGG16 is that instead of having a large number of hyper-parameter they focused on having convolution layers of 3x3 filter with a stride 1 and always used same padding and maxpool layer of 2x2 filter of stride 2. It follows this arrangement of convolution and max pool layers consistently throughout the whole architecture. In the end it has 2 FC(fully connected layers) followed by a softmax for output. The 16 in VGG16 refers to it has 16 layers that have weights. This network is a pretty large network and it has about 138 million (approx) parameters."
      ]
    },
    {
      "cell_type": "markdown",
      "metadata": {
        "id": "ITL7YJMqvE8b",
        "colab_type": "text"
      },
      "source": [
        "Image source: https://miro.medium.com/max/940/1*3-TqqkRQ4rWLOMX-gvkYwA.png\n",
        "![alt text](https://miro.medium.com/max/940/1*3-TqqkRQ4rWLOMX-gvkYwA.png)"
      ]
    },
    {
      "cell_type": "markdown",
      "metadata": {
        "id": "ghUpF8RAvu5B",
        "colab_type": "text"
      },
      "source": [
        "There are different configurations in vgg model based on the number of layers.Here, we have implemented VGG-16.\n",
        "\n",
        "Image source:https://qph.fs.quoracdn.net/main-qimg-30abbdf1982c8cb049ac65f3cf9d5640\n",
        "![alt text](https://qph.fs.quoracdn.net/main-qimg-30abbdf1982c8cb049ac65f3cf9d5640)"
      ]
    },
    {
      "cell_type": "markdown",
      "metadata": {
        "id": "ZZBWsvv7vr3S",
        "colab_type": "text"
      },
      "source": [
        "**VGG16 Model**"
      ]
    },
    {
      "cell_type": "code",
      "metadata": {
        "id": "Zcmgw3VTN4Nd",
        "colab_type": "code",
        "colab": {
          "base_uri": "https://localhost:8080/",
          "height": 901
        },
        "outputId": "cfc58798-7250-480d-9634-c674a2061779"
      },
      "source": [
        "model = Sequential()\n",
        "\n",
        "model.add(Conv2D(input_shape=(224,224,3),filters=64,kernel_size=(3,3),padding=\"same\", activation=\"relu\"))\n",
        "model.add(Conv2D(filters=64,kernel_size=(3,3),padding=\"same\", activation=\"relu\"))\n",
        "model.add(MaxPooling2D(pool_size=(2,2),strides=(2,2)))\n",
        "\n",
        "model.add(Conv2D(filters=128, kernel_size=(3,3), padding=\"same\", activation=\"relu\"))\n",
        "model.add(Conv2D(filters=128, kernel_size=(3,3), padding=\"same\", activation=\"relu\"))\n",
        "model.add(MaxPooling2D(pool_size=(2,2),strides=(2,2)))\n",
        "\n",
        "model.add(Conv2D(filters=256, kernel_size=(3,3), padding=\"same\", activation=\"relu\"))\n",
        "model.add(Conv2D(filters=256, kernel_size=(3,3), padding=\"same\", activation=\"relu\"))\n",
        "model.add(Conv2D(filters=256, kernel_size=(3,3), padding=\"same\", activation=\"relu\"))\n",
        "model.add(MaxPooling2D(pool_size=(2,2),strides=(2,2)))\n",
        "\n",
        "model.add(Conv2D(filters=512, kernel_size=(3,3), padding=\"same\", activation=\"relu\"))\n",
        "model.add(Conv2D(filters=512, kernel_size=(3,3), padding=\"same\", activation=\"relu\"))\n",
        "model.add(Conv2D(filters=512, kernel_size=(3,3), padding=\"same\", activation=\"relu\"))\n",
        "model.add(MaxPooling2D(pool_size=(2,2),strides=(2,2)))\n",
        "\n",
        "model.add(Conv2D(filters=512, kernel_size=(3,3), padding=\"same\", activation=\"relu\"))\n",
        "model.add(Conv2D(filters=512, kernel_size=(3,3), padding=\"same\", activation=\"relu\"))\n",
        "model.add(Conv2D(filters=512, kernel_size=(3,3), padding=\"same\", activation=\"relu\"))\n",
        "model.add(MaxPooling2D(pool_size=(2,2),strides=(2,2)))\n",
        "\n",
        "model.add(Flatten())\n",
        "model.add(Dense(units=4096,activation=\"relu\"))\n",
        "model.add(Dense(units=4096,activation=\"relu\"))\n",
        "model.add(Dense(units=2, activation=\"softmax\"))\n",
        "model.summary()"
      ],
      "execution_count": 89,
      "outputs": [
        {
          "output_type": "stream",
          "text": [
            "Model: \"sequential_2\"\n",
            "_________________________________________________________________\n",
            "Layer (type)                 Output Shape              Param #   \n",
            "=================================================================\n",
            "conv2d_520 (Conv2D)          (None, 224, 224, 64)      1792      \n",
            "_________________________________________________________________\n",
            "conv2d_521 (Conv2D)          (None, 224, 224, 64)      36928     \n",
            "_________________________________________________________________\n",
            "max_pooling2d_101 (MaxPoolin (None, 112, 112, 64)      0         \n",
            "_________________________________________________________________\n",
            "conv2d_522 (Conv2D)          (None, 112, 112, 128)     73856     \n",
            "_________________________________________________________________\n",
            "conv2d_523 (Conv2D)          (None, 112, 112, 128)     147584    \n",
            "_________________________________________________________________\n",
            "max_pooling2d_102 (MaxPoolin (None, 56, 56, 128)       0         \n",
            "_________________________________________________________________\n",
            "conv2d_524 (Conv2D)          (None, 56, 56, 256)       295168    \n",
            "_________________________________________________________________\n",
            "conv2d_525 (Conv2D)          (None, 56, 56, 256)       590080    \n",
            "_________________________________________________________________\n",
            "conv2d_526 (Conv2D)          (None, 56, 56, 256)       590080    \n",
            "_________________________________________________________________\n",
            "max_pooling2d_103 (MaxPoolin (None, 28, 28, 256)       0         \n",
            "_________________________________________________________________\n",
            "conv2d_527 (Conv2D)          (None, 28, 28, 512)       1180160   \n",
            "_________________________________________________________________\n",
            "conv2d_528 (Conv2D)          (None, 28, 28, 512)       2359808   \n",
            "_________________________________________________________________\n",
            "conv2d_529 (Conv2D)          (None, 28, 28, 512)       2359808   \n",
            "_________________________________________________________________\n",
            "max_pooling2d_104 (MaxPoolin (None, 14, 14, 512)       0         \n",
            "_________________________________________________________________\n",
            "conv2d_530 (Conv2D)          (None, 14, 14, 512)       2359808   \n",
            "_________________________________________________________________\n",
            "conv2d_531 (Conv2D)          (None, 14, 14, 512)       2359808   \n",
            "_________________________________________________________________\n",
            "conv2d_532 (Conv2D)          (None, 14, 14, 512)       2359808   \n",
            "_________________________________________________________________\n",
            "max_pooling2d_105 (MaxPoolin (None, 7, 7, 512)         0         \n",
            "_________________________________________________________________\n",
            "flatten_22 (Flatten)         (None, 25088)             0         \n",
            "_________________________________________________________________\n",
            "dense_31 (Dense)             (None, 4096)              102764544 \n",
            "_________________________________________________________________\n",
            "dense_32 (Dense)             (None, 4096)              16781312  \n",
            "_________________________________________________________________\n",
            "dense_33 (Dense)             (None, 2)                 8194      \n",
            "=================================================================\n",
            "Total params: 134,268,738\n",
            "Trainable params: 134,268,738\n",
            "Non-trainable params: 0\n",
            "_________________________________________________________________\n"
          ],
          "name": "stdout"
        }
      ]
    },
    {
      "cell_type": "code",
      "metadata": {
        "id": "v6Atz36fRCCn",
        "colab_type": "code",
        "colab": {
          "base_uri": "https://localhost:8080/",
          "height": 68
        },
        "outputId": "ced9da91-c586-41c1-d7bd-01a7b64737ec"
      },
      "source": [
        "#  Compile \n",
        "model.compile(loss='categorical_crossentropy', optimizer='adam',metrics=['accuracy'])\n",
        "\n",
        "# Train\n",
        "model.fit(training_set,\n",
        "          epochs=1,\n",
        "          validation_data=test_set)"
      ],
      "execution_count": 90,
      "outputs": [
        {
          "output_type": "stream",
          "text": [
            "Epoch 1/1\n",
            "250/250 [==============================] - 146s 586ms/step - loss: 0.7018 - accuracy: 0.5027 - val_loss: 0.6968 - val_accuracy: 0.5000\n"
          ],
          "name": "stdout"
        },
        {
          "output_type": "execute_result",
          "data": {
            "text/plain": [
              "<keras.callbacks.callbacks.History at 0x7faaeb1a8f60>"
            ]
          },
          "metadata": {
            "tags": []
          },
          "execution_count": 90
        }
      ]
    },
    {
      "cell_type": "markdown",
      "metadata": {
        "id": "De1Qd1e6Frpu",
        "colab_type": "text"
      },
      "source": [
        "# Transfer learning\n",
        "\n",
        "Transfer learning is the concept in deep learning in which we take an existing model which is trained on far more data and use the features that the model learned from that data and use it for our problem. Since that model has learned from a lot of data so that model has been trained quite well to find some features. We can use those features and by tweaking some part of that trained model use it for our use case. In transfer learning instead of training all the layers of the model we lock some of the layers and use those trained weights in the locked layers to extract particular features from our data. We don’t need to lock all the layers we can choose to retrain some of the lower layers because those lower layers will be specialised for our data."
      ]
    },
    {
      "cell_type": "markdown",
      "metadata": {
        "id": "Hlw4IFCSdpVf",
        "colab_type": "text"
      },
      "source": [
        "#VGG Model - using keras function with transfer learning"
      ]
    },
    {
      "cell_type": "markdown",
      "metadata": {
        "id": "DUXLJiCCwFvY",
        "colab_type": "text"
      },
      "source": [
        "VGG model is already built in keras applications.\n",
        "\n",
        "We are also going to use the weights which were saved based on pretrained models.This process is called Transfer learning.\n",
        "\n",
        "Transfer learning helps in improving the accuracy and also reduces the time in training the model as most of the parameters are already trained.\n",
        "\n",
        "we will use the custom layers at the end of the model.these are called top layers.we will train only the parameters of the top layers based on our current training set."
      ]
    },
    {
      "cell_type": "code",
      "metadata": {
        "id": "zE_DPsX1ZGVM",
        "colab_type": "code",
        "colab": {}
      },
      "source": [
        "# we are including the top layers but we will train them. we are using weights which were obtained by pretraining imagenet dataset.\n",
        "from keras.applications.vgg16 import VGG16\n",
        "vggmodel = VGG16(weights='imagenet', include_top=True)"
      ],
      "execution_count": 101,
      "outputs": []
    },
    {
      "cell_type": "code",
      "metadata": {
        "id": "-CIh_z_ddx3m",
        "colab_type": "code",
        "colab": {
          "base_uri": "https://localhost:8080/",
          "height": 935
        },
        "outputId": "a2c1c36f-91fe-45c9-8d6c-265f5e28c6e5"
      },
      "source": [
        "vggmodel.summary()"
      ],
      "execution_count": 80,
      "outputs": [
        {
          "output_type": "stream",
          "text": [
            "Model: \"vgg16\"\n",
            "_________________________________________________________________\n",
            "Layer (type)                 Output Shape              Param #   \n",
            "=================================================================\n",
            "input_22 (InputLayer)        (None, 224, 224, 3)       0         \n",
            "_________________________________________________________________\n",
            "block1_conv1 (Conv2D)        (None, 224, 224, 64)      1792      \n",
            "_________________________________________________________________\n",
            "block1_conv2 (Conv2D)        (None, 224, 224, 64)      36928     \n",
            "_________________________________________________________________\n",
            "block1_pool (MaxPooling2D)   (None, 112, 112, 64)      0         \n",
            "_________________________________________________________________\n",
            "block2_conv1 (Conv2D)        (None, 112, 112, 128)     73856     \n",
            "_________________________________________________________________\n",
            "block2_conv2 (Conv2D)        (None, 112, 112, 128)     147584    \n",
            "_________________________________________________________________\n",
            "block2_pool (MaxPooling2D)   (None, 56, 56, 128)       0         \n",
            "_________________________________________________________________\n",
            "block3_conv1 (Conv2D)        (None, 56, 56, 256)       295168    \n",
            "_________________________________________________________________\n",
            "block3_conv2 (Conv2D)        (None, 56, 56, 256)       590080    \n",
            "_________________________________________________________________\n",
            "block3_conv3 (Conv2D)        (None, 56, 56, 256)       590080    \n",
            "_________________________________________________________________\n",
            "block3_pool (MaxPooling2D)   (None, 28, 28, 256)       0         \n",
            "_________________________________________________________________\n",
            "block4_conv1 (Conv2D)        (None, 28, 28, 512)       1180160   \n",
            "_________________________________________________________________\n",
            "block4_conv2 (Conv2D)        (None, 28, 28, 512)       2359808   \n",
            "_________________________________________________________________\n",
            "block4_conv3 (Conv2D)        (None, 28, 28, 512)       2359808   \n",
            "_________________________________________________________________\n",
            "block4_pool (MaxPooling2D)   (None, 14, 14, 512)       0         \n",
            "_________________________________________________________________\n",
            "block5_conv1 (Conv2D)        (None, 14, 14, 512)       2359808   \n",
            "_________________________________________________________________\n",
            "block5_conv2 (Conv2D)        (None, 14, 14, 512)       2359808   \n",
            "_________________________________________________________________\n",
            "block5_conv3 (Conv2D)        (None, 14, 14, 512)       2359808   \n",
            "_________________________________________________________________\n",
            "block5_pool (MaxPooling2D)   (None, 7, 7, 512)         0         \n",
            "_________________________________________________________________\n",
            "flatten (Flatten)            (None, 25088)             0         \n",
            "_________________________________________________________________\n",
            "fc1 (Dense)                  (None, 4096)              102764544 \n",
            "_________________________________________________________________\n",
            "fc2 (Dense)                  (None, 4096)              16781312  \n",
            "_________________________________________________________________\n",
            "predictions (Dense)          (None, 1000)              4097000   \n",
            "=================================================================\n",
            "Total params: 138,357,544\n",
            "Trainable params: 138,357,544\n",
            "Non-trainable params: 0\n",
            "_________________________________________________________________\n"
          ],
          "name": "stdout"
        }
      ]
    },
    {
      "cell_type": "code",
      "metadata": {
        "id": "R4EGjNUTd2iD",
        "colab_type": "code",
        "colab": {
          "base_uri": "https://localhost:8080/",
          "height": 340
        },
        "outputId": "85748f38-6eaa-4723-d1e9-3a4fcff0e503"
      },
      "source": [
        "# all the layers except the top layers are made non trainable.\n",
        "for layers in (vggmodel.layers)[:19]:\n",
        "    print(layers)\n",
        "    layers.trainable = False"
      ],
      "execution_count": 81,
      "outputs": [
        {
          "output_type": "stream",
          "text": [
            "<keras.engine.input_layer.InputLayer object at 0x7faae9d0c978>\n",
            "<keras.layers.convolutional.Conv2D object at 0x7faae9d0cac8>\n",
            "<keras.layers.convolutional.Conv2D object at 0x7faae9d0c5f8>\n",
            "<keras.layers.pooling.MaxPooling2D object at 0x7faae9d0cdd8>\n",
            "<keras.layers.convolutional.Conv2D object at 0x7faae9d0c2e8>\n",
            "<keras.layers.convolutional.Conv2D object at 0x7faae9cc8a20>\n",
            "<keras.layers.pooling.MaxPooling2D object at 0x7faae9d77400>\n",
            "<keras.layers.convolutional.Conv2D object at 0x7faae9d770f0>\n",
            "<keras.layers.convolutional.Conv2D object at 0x7faafd1305c0>\n",
            "<keras.layers.convolutional.Conv2D object at 0x7faae9c544e0>\n",
            "<keras.layers.pooling.MaxPooling2D object at 0x7faae9c54ef0>\n",
            "<keras.layers.convolutional.Conv2D object at 0x7faae9c54cf8>\n",
            "<keras.layers.convolutional.Conv2D object at 0x7faaea234a90>\n",
            "<keras.layers.convolutional.Conv2D object at 0x7faaea1a9630>\n",
            "<keras.layers.pooling.MaxPooling2D object at 0x7faaea1a9e48>\n",
            "<keras.layers.convolutional.Conv2D object at 0x7faaea1a9fd0>\n",
            "<keras.layers.convolutional.Conv2D object at 0x7faafd08abe0>\n",
            "<keras.layers.convolutional.Conv2D object at 0x7faafd085780>\n",
            "<keras.layers.pooling.MaxPooling2D object at 0x7faafd085630>\n"
          ],
          "name": "stdout"
        }
      ]
    },
    {
      "cell_type": "code",
      "metadata": {
        "id": "wijXt8wtd997",
        "colab_type": "code",
        "colab": {
          "base_uri": "https://localhost:8080/",
          "height": 71
        },
        "outputId": "2083360f-976f-41f8-a9bd-5746120bafb4"
      },
      "source": [
        "X= vggmodel.layers[-2].output\n",
        "predictions = Dense(2, activation=\"softmax\")(X)\n",
        "model_final = Model(input = vggmodel.input, output = predictions)"
      ],
      "execution_count": 82,
      "outputs": [
        {
          "output_type": "stream",
          "text": [
            "/usr/local/lib/python3.6/dist-packages/ipykernel_launcher.py:3: UserWarning: Update your `Model` call to the Keras 2 API: `Model(inputs=Tensor(\"in..., outputs=Tensor(\"de...)`\n",
            "  This is separate from the ipykernel package so we can avoid doing imports until\n"
          ],
          "name": "stderr"
        }
      ]
    },
    {
      "cell_type": "code",
      "metadata": {
        "id": "VY5O9h_4eEz_",
        "colab_type": "code",
        "colab": {}
      },
      "source": [
        "model_final.compile(loss = \"categorical_crossentropy\", optimizer = optimizers.SGD(lr=0.0001, momentum=0.9), metrics=[\"accuracy\"])"
      ],
      "execution_count": 85,
      "outputs": []
    },
    {
      "cell_type": "code",
      "metadata": {
        "id": "eWo9e69VeRYl",
        "colab_type": "code",
        "colab": {
          "base_uri": "https://localhost:8080/",
          "height": 935
        },
        "outputId": "aec1da76-06c7-47d1-bf87-1cf6817d41aa"
      },
      "source": [
        "model_final.summary()"
      ],
      "execution_count": 86,
      "outputs": [
        {
          "output_type": "stream",
          "text": [
            "Model: \"model_12\"\n",
            "_________________________________________________________________\n",
            "Layer (type)                 Output Shape              Param #   \n",
            "=================================================================\n",
            "input_22 (InputLayer)        (None, 224, 224, 3)       0         \n",
            "_________________________________________________________________\n",
            "block1_conv1 (Conv2D)        (None, 224, 224, 64)      1792      \n",
            "_________________________________________________________________\n",
            "block1_conv2 (Conv2D)        (None, 224, 224, 64)      36928     \n",
            "_________________________________________________________________\n",
            "block1_pool (MaxPooling2D)   (None, 112, 112, 64)      0         \n",
            "_________________________________________________________________\n",
            "block2_conv1 (Conv2D)        (None, 112, 112, 128)     73856     \n",
            "_________________________________________________________________\n",
            "block2_conv2 (Conv2D)        (None, 112, 112, 128)     147584    \n",
            "_________________________________________________________________\n",
            "block2_pool (MaxPooling2D)   (None, 56, 56, 128)       0         \n",
            "_________________________________________________________________\n",
            "block3_conv1 (Conv2D)        (None, 56, 56, 256)       295168    \n",
            "_________________________________________________________________\n",
            "block3_conv2 (Conv2D)        (None, 56, 56, 256)       590080    \n",
            "_________________________________________________________________\n",
            "block3_conv3 (Conv2D)        (None, 56, 56, 256)       590080    \n",
            "_________________________________________________________________\n",
            "block3_pool (MaxPooling2D)   (None, 28, 28, 256)       0         \n",
            "_________________________________________________________________\n",
            "block4_conv1 (Conv2D)        (None, 28, 28, 512)       1180160   \n",
            "_________________________________________________________________\n",
            "block4_conv2 (Conv2D)        (None, 28, 28, 512)       2359808   \n",
            "_________________________________________________________________\n",
            "block4_conv3 (Conv2D)        (None, 28, 28, 512)       2359808   \n",
            "_________________________________________________________________\n",
            "block4_pool (MaxPooling2D)   (None, 14, 14, 512)       0         \n",
            "_________________________________________________________________\n",
            "block5_conv1 (Conv2D)        (None, 14, 14, 512)       2359808   \n",
            "_________________________________________________________________\n",
            "block5_conv2 (Conv2D)        (None, 14, 14, 512)       2359808   \n",
            "_________________________________________________________________\n",
            "block5_conv3 (Conv2D)        (None, 14, 14, 512)       2359808   \n",
            "_________________________________________________________________\n",
            "block5_pool (MaxPooling2D)   (None, 7, 7, 512)         0         \n",
            "_________________________________________________________________\n",
            "flatten (Flatten)            (None, 25088)             0         \n",
            "_________________________________________________________________\n",
            "fc1 (Dense)                  (None, 4096)              102764544 \n",
            "_________________________________________________________________\n",
            "fc2 (Dense)                  (None, 4096)              16781312  \n",
            "_________________________________________________________________\n",
            "dense_27 (Dense)             (None, 2)                 8194      \n",
            "=================================================================\n",
            "Total params: 134,268,738\n",
            "Trainable params: 119,554,050\n",
            "Non-trainable params: 14,714,688\n",
            "_________________________________________________________________\n"
          ],
          "name": "stdout"
        }
      ]
    },
    {
      "cell_type": "code",
      "metadata": {
        "id": "H-gA7Gh5eZZd",
        "colab_type": "code",
        "colab": {
          "base_uri": "https://localhost:8080/",
          "height": 68
        },
        "outputId": "06543ad1-514e-4e1f-cd34-13694bcdacff"
      },
      "source": [
        "# Train\n",
        "model_final.fit(training_set,\n",
        "          epochs=1,\n",
        "          validation_data = test_set)"
      ],
      "execution_count": 87,
      "outputs": [
        {
          "output_type": "stream",
          "text": [
            "Epoch 1/1\n",
            "250/250 [==============================] - 132s 527ms/step - loss: 0.5031 - accuracy: 0.7405 - val_loss: 0.2853 - val_accuracy: 0.8530\n"
          ],
          "name": "stdout"
        },
        {
          "output_type": "execute_result",
          "data": {
            "text/plain": [
              "<keras.callbacks.callbacks.History at 0x7faaeaab6b38>"
            ]
          },
          "metadata": {
            "tags": []
          },
          "execution_count": 87
        }
      ]
    },
    {
      "cell_type": "markdown",
      "metadata": {
        "id": "2PQKyv1mx3Nc",
        "colab_type": "text"
      },
      "source": [
        "you can see the accuracy being improved significantly."
      ]
    },
    {
      "cell_type": "markdown",
      "metadata": {
        "id": "lfGVDyX2JmBo",
        "colab_type": "text"
      },
      "source": [
        "# GoogLenet - from scratch"
      ]
    },
    {
      "cell_type": "markdown",
      "metadata": {
        "id": "HDJDT6ec0l8B",
        "colab_type": "text"
      },
      "source": [
        "The GoogLeNet architecture is very different from previous state-of-the-art architectures such as AlexNet and ZF-Net. It uses many different kinds of methods such as 1×1 convolution and global average pooling that enables it to create deeper architecture. \n",
        "\n",
        "Image source:https://miro.medium.com/max/1400/1*66hY3zZTf0Lw2ItybiRxyg.png\n",
        "\n",
        "![alt text](https://miro.medium.com/max/1400/1*66hY3zZTf0Lw2ItybiRxyg.png)"
      ]
    },
    {
      "cell_type": "markdown",
      "metadata": {
        "id": "jddc2gw-zZlI",
        "colab_type": "text"
      },
      "source": [
        "\n",
        " GoogLeNet architecture is also known as Inception Module. It goes deeper in parallel paths with different receptive field sizes.\n",
        " \n",
        " The idea of the inception layer is to cover a bigger area, but also keep a fine resolution for small information on the images. So the idea is to convolve in parallel different sizes from the most accurate detailing (1x1) to a bigger one (5x5)."
      ]
    },
    {
      "cell_type": "markdown",
      "metadata": {
        "id": "0904Y6B70LAK",
        "colab_type": "text"
      },
      "source": [
        "Image source: https://iq.opengenus.org/content/images/2019/01/temp10.png\n",
        "![alt text](https://iq.opengenus.org/content/images/2019/01/temp10.png)"
      ]
    },
    {
      "cell_type": "code",
      "metadata": {
        "id": "yIUR3JHn8pm8",
        "colab_type": "code",
        "colab": {}
      },
      "source": [
        "def inception(x, filters):\n",
        "    # 1x1\n",
        "    path1 = Conv2D(filters=filters[0], kernel_size=(1,1), strides=1, padding='same', activation='relu')(x)\n",
        "\n",
        "    # 1x1->3x3\n",
        "    path2 = Conv2D(filters=filters[1][0], kernel_size=(1,1), strides=1, padding='same', activation='relu')(x)\n",
        "    path2 = Conv2D(filters=filters[1][1], kernel_size=(3,3), strides=1, padding='same', activation='relu')(path2)\n",
        "    \n",
        "    # 1x1->5x5\n",
        "    path3 = Conv2D(filters=filters[2][0], kernel_size=(1,1), strides=1, padding='same', activation='relu')(x)\n",
        "    path3 = Conv2D(filters=filters[2][1], kernel_size=(5,5), strides=1, padding='same', activation='relu')(path3)\n",
        "\n",
        "    # 3x3->1x1\n",
        "    path4 = MaxPooling2D(pool_size=(3,3), strides=1, padding='same')(x)\n",
        "    path4 = Conv2D(filters=filters[3], kernel_size=(1,1), strides=1, padding='same', activation='relu')(path4)\n",
        "\n",
        "    return Concatenate(axis=-1)([path1,path2,path3,path4])"
      ],
      "execution_count": 40,
      "outputs": []
    },
    {
      "cell_type": "code",
      "metadata": {
        "id": "Aj3pY_Vt8mOV",
        "colab_type": "code",
        "colab": {}
      },
      "source": [
        "def auxiliary(x, name=None):\n",
        "    layer = AveragePooling2D(pool_size=(5,5), strides=3, padding='valid')(x)\n",
        "    layer = Conv2D(filters=128, kernel_size=(1,1), strides=1, padding='same', activation='relu')(layer)\n",
        "    layer = Flatten()(layer)\n",
        "    layer = Dense(units=256, activation='relu')(layer)\n",
        "    layer = Dropout(0.4)(layer)\n",
        "    layer = Dense(units=2, activation='softmax', name=name)(layer)\n",
        "    return layer"
      ],
      "execution_count": 41,
      "outputs": []
    },
    {
      "cell_type": "code",
      "metadata": {
        "id": "r-uWCCXqy_v5",
        "colab_type": "code",
        "colab": {}
      },
      "source": [
        "def googlenet():\n",
        "    layer_in = Input(shape=(224,224,3))\n",
        "    \n",
        "    # stage-1\n",
        "    layer = Conv2D(filters=64, kernel_size=(7,7), strides=2, padding='same', activation='relu')(layer_in)\n",
        "    layer = MaxPooling2D(pool_size=(3,3), strides=2, padding='same')(layer)\n",
        "    layer = BatchNormalization()(layer)\n",
        "\n",
        "    # stage-2\n",
        "    layer = Conv2D(filters=64, kernel_size=(1,1), strides=1, padding='same', activation='relu')(layer)\n",
        "    layer = Conv2D(filters=192, kernel_size=(3,3), strides=1, padding='same', activation='relu')(layer)\n",
        "    layer = BatchNormalization()(layer)\n",
        "    layer = MaxPooling2D(pool_size=(3,3), strides=2, padding='same')(layer)\n",
        "\n",
        "    # stage-3\n",
        "    layer = inception(layer, [ 64,  (96,128), (16,32), 32]) #3a\n",
        "    layer = inception(layer, [128, (128,192), (32,96), 64]) #3b\n",
        "    layer = MaxPooling2D(pool_size=(3,3), strides=2, padding='same')(layer)\n",
        "    \n",
        "    # stage-4\n",
        "    layer = inception(layer, [192,  (96,208),  (16,48),  64]) #4a\n",
        "    aux1  = auxiliary(layer, name='aux1')\n",
        "    layer = inception(layer, [160, (112,224),  (24,64),  64]) #4b\n",
        "    layer = inception(layer, [128, (128,256),  (24,64),  64]) #4c\n",
        "    layer = inception(layer, [112, (144,288),  (32,64),  64]) #4d\n",
        "    aux2  = auxiliary(layer, name='aux2')\n",
        "    layer = inception(layer, [256, (160,320), (32,128), 128]) #4e\n",
        "    layer = MaxPooling2D(pool_size=(3,3), strides=2, padding='same')(layer)\n",
        "    \n",
        "    # stage-5\n",
        "    layer = inception(layer, [256, (160,320), (32,128), 128]) #5a\n",
        "    layer = inception(layer, [384, (192,384), (48,128), 128]) #5b\n",
        "    layer = AveragePooling2D(pool_size=(7,7), strides=1, padding='valid')(layer)\n",
        "    \n",
        "    # stage-6\n",
        "    layer = Flatten()(layer)\n",
        "    layer = Dropout(0.4)(layer)\n",
        "    layer = Dense(units=256, activation='linear')(layer)\n",
        "    main = Dense(units=2, activation='softmax', name='main')(layer)\n",
        "    \n",
        "    model = Model(inputs=layer_in, outputs=[main])\n",
        "    \n",
        "    return model"
      ],
      "execution_count": 45,
      "outputs": []
    },
    {
      "cell_type": "code",
      "metadata": {
        "id": "QV7ZjHxF9LHO",
        "colab_type": "code",
        "colab": {
          "base_uri": "https://localhost:8080/",
          "height": 1000
        },
        "outputId": "797de85e-7a7f-4451-8eb1-30692359c643"
      },
      "source": [
        "model = googlenet()\n",
        "model.summary()"
      ],
      "execution_count": 46,
      "outputs": [
        {
          "output_type": "stream",
          "text": [
            "Model: \"model_7\"\n",
            "__________________________________________________________________________________________________\n",
            "Layer (type)                    Output Shape         Param #     Connected to                     \n",
            "==================================================================================================\n",
            "input_9 (InputLayer)            (None, 224, 224, 3)  0                                            \n",
            "__________________________________________________________________________________________________\n",
            "conv2d_331 (Conv2D)             (None, 112, 112, 64) 9472        input_9[0][0]                    \n",
            "__________________________________________________________________________________________________\n",
            "max_pooling2d_76 (MaxPooling2D) (None, 56, 56, 64)   0           conv2d_331[0][0]                 \n",
            "__________________________________________________________________________________________________\n",
            "batch_normalization_15 (BatchNo (None, 56, 56, 64)   256         max_pooling2d_76[0][0]           \n",
            "__________________________________________________________________________________________________\n",
            "conv2d_332 (Conv2D)             (None, 56, 56, 64)   4160        batch_normalization_15[0][0]     \n",
            "__________________________________________________________________________________________________\n",
            "conv2d_333 (Conv2D)             (None, 56, 56, 192)  110784      conv2d_332[0][0]                 \n",
            "__________________________________________________________________________________________________\n",
            "batch_normalization_16 (BatchNo (None, 56, 56, 192)  768         conv2d_333[0][0]                 \n",
            "__________________________________________________________________________________________________\n",
            "max_pooling2d_77 (MaxPooling2D) (None, 28, 28, 192)  0           batch_normalization_16[0][0]     \n",
            "__________________________________________________________________________________________________\n",
            "conv2d_335 (Conv2D)             (None, 28, 28, 96)   18528       max_pooling2d_77[0][0]           \n",
            "__________________________________________________________________________________________________\n",
            "conv2d_337 (Conv2D)             (None, 28, 28, 16)   3088        max_pooling2d_77[0][0]           \n",
            "__________________________________________________________________________________________________\n",
            "max_pooling2d_78 (MaxPooling2D) (None, 28, 28, 192)  0           max_pooling2d_77[0][0]           \n",
            "__________________________________________________________________________________________________\n",
            "conv2d_334 (Conv2D)             (None, 28, 28, 64)   12352       max_pooling2d_77[0][0]           \n",
            "__________________________________________________________________________________________________\n",
            "conv2d_336 (Conv2D)             (None, 28, 28, 128)  110720      conv2d_335[0][0]                 \n",
            "__________________________________________________________________________________________________\n",
            "conv2d_338 (Conv2D)             (None, 28, 28, 32)   12832       conv2d_337[0][0]                 \n",
            "__________________________________________________________________________________________________\n",
            "conv2d_339 (Conv2D)             (None, 28, 28, 32)   6176        max_pooling2d_78[0][0]           \n",
            "__________________________________________________________________________________________________\n",
            "concatenate_50 (Concatenate)    (None, 28, 28, 256)  0           conv2d_334[0][0]                 \n",
            "                                                                 conv2d_336[0][0]                 \n",
            "                                                                 conv2d_338[0][0]                 \n",
            "                                                                 conv2d_339[0][0]                 \n",
            "__________________________________________________________________________________________________\n",
            "conv2d_341 (Conv2D)             (None, 28, 28, 128)  32896       concatenate_50[0][0]             \n",
            "__________________________________________________________________________________________________\n",
            "conv2d_343 (Conv2D)             (None, 28, 28, 32)   8224        concatenate_50[0][0]             \n",
            "__________________________________________________________________________________________________\n",
            "max_pooling2d_79 (MaxPooling2D) (None, 28, 28, 256)  0           concatenate_50[0][0]             \n",
            "__________________________________________________________________________________________________\n",
            "conv2d_340 (Conv2D)             (None, 28, 28, 128)  32896       concatenate_50[0][0]             \n",
            "__________________________________________________________________________________________________\n",
            "conv2d_342 (Conv2D)             (None, 28, 28, 192)  221376      conv2d_341[0][0]                 \n",
            "__________________________________________________________________________________________________\n",
            "conv2d_344 (Conv2D)             (None, 28, 28, 96)   76896       conv2d_343[0][0]                 \n",
            "__________________________________________________________________________________________________\n",
            "conv2d_345 (Conv2D)             (None, 28, 28, 64)   16448       max_pooling2d_79[0][0]           \n",
            "__________________________________________________________________________________________________\n",
            "concatenate_51 (Concatenate)    (None, 28, 28, 480)  0           conv2d_340[0][0]                 \n",
            "                                                                 conv2d_342[0][0]                 \n",
            "                                                                 conv2d_344[0][0]                 \n",
            "                                                                 conv2d_345[0][0]                 \n",
            "__________________________________________________________________________________________________\n",
            "max_pooling2d_80 (MaxPooling2D) (None, 14, 14, 480)  0           concatenate_51[0][0]             \n",
            "__________________________________________________________________________________________________\n",
            "conv2d_347 (Conv2D)             (None, 14, 14, 96)   46176       max_pooling2d_80[0][0]           \n",
            "__________________________________________________________________________________________________\n",
            "conv2d_349 (Conv2D)             (None, 14, 14, 16)   7696        max_pooling2d_80[0][0]           \n",
            "__________________________________________________________________________________________________\n",
            "max_pooling2d_81 (MaxPooling2D) (None, 14, 14, 480)  0           max_pooling2d_80[0][0]           \n",
            "__________________________________________________________________________________________________\n",
            "conv2d_346 (Conv2D)             (None, 14, 14, 192)  92352       max_pooling2d_80[0][0]           \n",
            "__________________________________________________________________________________________________\n",
            "conv2d_348 (Conv2D)             (None, 14, 14, 208)  179920      conv2d_347[0][0]                 \n",
            "__________________________________________________________________________________________________\n",
            "conv2d_350 (Conv2D)             (None, 14, 14, 48)   19248       conv2d_349[0][0]                 \n",
            "__________________________________________________________________________________________________\n",
            "conv2d_351 (Conv2D)             (None, 14, 14, 64)   30784       max_pooling2d_81[0][0]           \n",
            "__________________________________________________________________________________________________\n",
            "concatenate_52 (Concatenate)    (None, 14, 14, 512)  0           conv2d_346[0][0]                 \n",
            "                                                                 conv2d_348[0][0]                 \n",
            "                                                                 conv2d_350[0][0]                 \n",
            "                                                                 conv2d_351[0][0]                 \n",
            "__________________________________________________________________________________________________\n",
            "conv2d_354 (Conv2D)             (None, 14, 14, 112)  57456       concatenate_52[0][0]             \n",
            "__________________________________________________________________________________________________\n",
            "conv2d_356 (Conv2D)             (None, 14, 14, 24)   12312       concatenate_52[0][0]             \n",
            "__________________________________________________________________________________________________\n",
            "max_pooling2d_82 (MaxPooling2D) (None, 14, 14, 512)  0           concatenate_52[0][0]             \n",
            "__________________________________________________________________________________________________\n",
            "conv2d_353 (Conv2D)             (None, 14, 14, 160)  82080       concatenate_52[0][0]             \n",
            "__________________________________________________________________________________________________\n",
            "conv2d_355 (Conv2D)             (None, 14, 14, 224)  226016      conv2d_354[0][0]                 \n",
            "__________________________________________________________________________________________________\n",
            "conv2d_357 (Conv2D)             (None, 14, 14, 64)   38464       conv2d_356[0][0]                 \n",
            "__________________________________________________________________________________________________\n",
            "conv2d_358 (Conv2D)             (None, 14, 14, 64)   32832       max_pooling2d_82[0][0]           \n",
            "__________________________________________________________________________________________________\n",
            "concatenate_53 (Concatenate)    (None, 14, 14, 512)  0           conv2d_353[0][0]                 \n",
            "                                                                 conv2d_355[0][0]                 \n",
            "                                                                 conv2d_357[0][0]                 \n",
            "                                                                 conv2d_358[0][0]                 \n",
            "__________________________________________________________________________________________________\n",
            "conv2d_360 (Conv2D)             (None, 14, 14, 128)  65664       concatenate_53[0][0]             \n",
            "__________________________________________________________________________________________________\n",
            "conv2d_362 (Conv2D)             (None, 14, 14, 24)   12312       concatenate_53[0][0]             \n",
            "__________________________________________________________________________________________________\n",
            "max_pooling2d_83 (MaxPooling2D) (None, 14, 14, 512)  0           concatenate_53[0][0]             \n",
            "__________________________________________________________________________________________________\n",
            "conv2d_359 (Conv2D)             (None, 14, 14, 128)  65664       concatenate_53[0][0]             \n",
            "__________________________________________________________________________________________________\n",
            "conv2d_361 (Conv2D)             (None, 14, 14, 256)  295168      conv2d_360[0][0]                 \n",
            "__________________________________________________________________________________________________\n",
            "conv2d_363 (Conv2D)             (None, 14, 14, 64)   38464       conv2d_362[0][0]                 \n",
            "__________________________________________________________________________________________________\n",
            "conv2d_364 (Conv2D)             (None, 14, 14, 64)   32832       max_pooling2d_83[0][0]           \n",
            "__________________________________________________________________________________________________\n",
            "concatenate_54 (Concatenate)    (None, 14, 14, 512)  0           conv2d_359[0][0]                 \n",
            "                                                                 conv2d_361[0][0]                 \n",
            "                                                                 conv2d_363[0][0]                 \n",
            "                                                                 conv2d_364[0][0]                 \n",
            "__________________________________________________________________________________________________\n",
            "conv2d_366 (Conv2D)             (None, 14, 14, 144)  73872       concatenate_54[0][0]             \n",
            "__________________________________________________________________________________________________\n",
            "conv2d_368 (Conv2D)             (None, 14, 14, 32)   16416       concatenate_54[0][0]             \n",
            "__________________________________________________________________________________________________\n",
            "max_pooling2d_84 (MaxPooling2D) (None, 14, 14, 512)  0           concatenate_54[0][0]             \n",
            "__________________________________________________________________________________________________\n",
            "conv2d_365 (Conv2D)             (None, 14, 14, 112)  57456       concatenate_54[0][0]             \n",
            "__________________________________________________________________________________________________\n",
            "conv2d_367 (Conv2D)             (None, 14, 14, 288)  373536      conv2d_366[0][0]                 \n",
            "__________________________________________________________________________________________________\n",
            "conv2d_369 (Conv2D)             (None, 14, 14, 64)   51264       conv2d_368[0][0]                 \n",
            "__________________________________________________________________________________________________\n",
            "conv2d_370 (Conv2D)             (None, 14, 14, 64)   32832       max_pooling2d_84[0][0]           \n",
            "__________________________________________________________________________________________________\n",
            "concatenate_55 (Concatenate)    (None, 14, 14, 528)  0           conv2d_365[0][0]                 \n",
            "                                                                 conv2d_367[0][0]                 \n",
            "                                                                 conv2d_369[0][0]                 \n",
            "                                                                 conv2d_370[0][0]                 \n",
            "__________________________________________________________________________________________________\n",
            "conv2d_373 (Conv2D)             (None, 14, 14, 160)  84640       concatenate_55[0][0]             \n",
            "__________________________________________________________________________________________________\n",
            "conv2d_375 (Conv2D)             (None, 14, 14, 32)   16928       concatenate_55[0][0]             \n",
            "__________________________________________________________________________________________________\n",
            "max_pooling2d_85 (MaxPooling2D) (None, 14, 14, 528)  0           concatenate_55[0][0]             \n",
            "__________________________________________________________________________________________________\n",
            "conv2d_372 (Conv2D)             (None, 14, 14, 256)  135424      concatenate_55[0][0]             \n",
            "__________________________________________________________________________________________________\n",
            "conv2d_374 (Conv2D)             (None, 14, 14, 320)  461120      conv2d_373[0][0]                 \n",
            "__________________________________________________________________________________________________\n",
            "conv2d_376 (Conv2D)             (None, 14, 14, 128)  102528      conv2d_375[0][0]                 \n",
            "__________________________________________________________________________________________________\n",
            "conv2d_377 (Conv2D)             (None, 14, 14, 128)  67712       max_pooling2d_85[0][0]           \n",
            "__________________________________________________________________________________________________\n",
            "concatenate_56 (Concatenate)    (None, 14, 14, 832)  0           conv2d_372[0][0]                 \n",
            "                                                                 conv2d_374[0][0]                 \n",
            "                                                                 conv2d_376[0][0]                 \n",
            "                                                                 conv2d_377[0][0]                 \n",
            "__________________________________________________________________________________________________\n",
            "max_pooling2d_86 (MaxPooling2D) (None, 7, 7, 832)    0           concatenate_56[0][0]             \n",
            "__________________________________________________________________________________________________\n",
            "conv2d_379 (Conv2D)             (None, 7, 7, 160)    133280      max_pooling2d_86[0][0]           \n",
            "__________________________________________________________________________________________________\n",
            "conv2d_381 (Conv2D)             (None, 7, 7, 32)     26656       max_pooling2d_86[0][0]           \n",
            "__________________________________________________________________________________________________\n",
            "max_pooling2d_87 (MaxPooling2D) (None, 7, 7, 832)    0           max_pooling2d_86[0][0]           \n",
            "__________________________________________________________________________________________________\n",
            "conv2d_378 (Conv2D)             (None, 7, 7, 256)    213248      max_pooling2d_86[0][0]           \n",
            "__________________________________________________________________________________________________\n",
            "conv2d_380 (Conv2D)             (None, 7, 7, 320)    461120      conv2d_379[0][0]                 \n",
            "__________________________________________________________________________________________________\n",
            "conv2d_382 (Conv2D)             (None, 7, 7, 128)    102528      conv2d_381[0][0]                 \n",
            "__________________________________________________________________________________________________\n",
            "conv2d_383 (Conv2D)             (None, 7, 7, 128)    106624      max_pooling2d_87[0][0]           \n",
            "__________________________________________________________________________________________________\n",
            "concatenate_57 (Concatenate)    (None, 7, 7, 832)    0           conv2d_378[0][0]                 \n",
            "                                                                 conv2d_380[0][0]                 \n",
            "                                                                 conv2d_382[0][0]                 \n",
            "                                                                 conv2d_383[0][0]                 \n",
            "__________________________________________________________________________________________________\n",
            "conv2d_385 (Conv2D)             (None, 7, 7, 192)    159936      concatenate_57[0][0]             \n",
            "__________________________________________________________________________________________________\n",
            "conv2d_387 (Conv2D)             (None, 7, 7, 48)     39984       concatenate_57[0][0]             \n",
            "__________________________________________________________________________________________________\n",
            "max_pooling2d_88 (MaxPooling2D) (None, 7, 7, 832)    0           concatenate_57[0][0]             \n",
            "__________________________________________________________________________________________________\n",
            "conv2d_384 (Conv2D)             (None, 7, 7, 384)    319872      concatenate_57[0][0]             \n",
            "__________________________________________________________________________________________________\n",
            "conv2d_386 (Conv2D)             (None, 7, 7, 384)    663936      conv2d_385[0][0]                 \n",
            "__________________________________________________________________________________________________\n",
            "conv2d_388 (Conv2D)             (None, 7, 7, 128)    153728      conv2d_387[0][0]                 \n",
            "__________________________________________________________________________________________________\n",
            "conv2d_389 (Conv2D)             (None, 7, 7, 128)    106624      max_pooling2d_88[0][0]           \n",
            "__________________________________________________________________________________________________\n",
            "concatenate_58 (Concatenate)    (None, 7, 7, 1024)   0           conv2d_384[0][0]                 \n",
            "                                                                 conv2d_386[0][0]                 \n",
            "                                                                 conv2d_388[0][0]                 \n",
            "                                                                 conv2d_389[0][0]                 \n",
            "__________________________________________________________________________________________________\n",
            "average_pooling2d_20 (AveragePo (None, 1, 1, 1024)   0           concatenate_58[0][0]             \n",
            "__________________________________________________________________________________________________\n",
            "flatten_20 (Flatten)            (None, 1024)         0           average_pooling2d_20[0][0]       \n",
            "__________________________________________________________________________________________________\n",
            "dropout_20 (Dropout)            (None, 1024)         0           flatten_20[0][0]                 \n",
            "__________________________________________________________________________________________________\n",
            "dense_21 (Dense)                (None, 256)          262400      dropout_20[0][0]                 \n",
            "__________________________________________________________________________________________________\n",
            "main (Dense)                    (None, 2)            514         dense_21[0][0]                   \n",
            "==================================================================================================\n",
            "Total params: 6,237,490\n",
            "Trainable params: 6,236,978\n",
            "Non-trainable params: 512\n",
            "__________________________________________________________________________________________________\n"
          ],
          "name": "stdout"
        }
      ]
    },
    {
      "cell_type": "code",
      "metadata": {
        "id": "qRo1YYEazkp-",
        "colab_type": "code",
        "colab": {
          "base_uri": "https://localhost:8080/",
          "height": 68
        },
        "outputId": "18477f62-53e2-4be0-ac79-91a57edc22de"
      },
      "source": [
        "#  Compile \n",
        "model.compile(loss='categorical_crossentropy', optimizer='adam',metrics=['accuracy'])\n",
        "\n",
        "# Train\n",
        "model.fit(training_set,\n",
        "          epochs=1,\n",
        "          validation_data = test_set)"
      ],
      "execution_count": 48,
      "outputs": [
        {
          "output_type": "stream",
          "text": [
            "Epoch 1/1\n",
            "250/250 [==============================] - 3472s 14s/step - loss: 0.6964 - accuracy: 0.4936 - val_loss: 0.6921 - val_accuracy: 0.5000\n"
          ],
          "name": "stdout"
        },
        {
          "output_type": "execute_result",
          "data": {
            "text/plain": [
              "<keras.callbacks.callbacks.History at 0x7faaff53fbe0>"
            ]
          },
          "metadata": {
            "tags": []
          },
          "execution_count": 48
        }
      ]
    },
    {
      "cell_type": "markdown",
      "metadata": {
        "id": "Lp_cuRUHhLnM",
        "colab_type": "text"
      },
      "source": [
        "#Googlenet - using keras function with transfer learning"
      ]
    },
    {
      "cell_type": "markdown",
      "metadata": {
        "id": "GFIWllcDF5AL",
        "colab_type": "text"
      },
      "source": [
        "we have done the transfer learning by creating an inception model without including the top layers.\n",
        "The model is intialized with weights trained on imagenet dataset.\n",
        "\n",
        "The layers (parameters) in this model are made non-trainable.\n",
        "\n",
        "The top layers are added to the model and are trained using our dataset(cat-dog).\n",
        "\n",
        "\n",
        "we can observe the decrease in trainable parameters and improvement in the accuracy.The time taken for training was also significantly less.\n"
      ]
    },
    {
      "cell_type": "code",
      "metadata": {
        "id": "wWK3JoFghP-Y",
        "colab_type": "code",
        "colab": {
          "base_uri": "https://localhost:8080/",
          "height": 289
        },
        "outputId": "aec5fbd5-da17-4d92-ad05-51f0c764c0e2"
      },
      "source": [
        "from keras.applications.inception_v3 import InceptionV3\n",
        "\n",
        "base_model = InceptionV3(weights='imagenet', \n",
        "                                include_top=False, \n",
        "                                input_shape=(224, 224,3))\n",
        "base_model.trainable = False\n",
        "\n",
        "add_model = Sequential()\n",
        "add_model.add(base_model)\n",
        "add_model.add(GlobalAveragePooling2D())\n",
        "add_model.add(Dropout(0.5))\n",
        "add_model.add(Dense(2, \n",
        "                    activation='softmax'))\n",
        "\n",
        "model = add_model\n",
        "model.compile(loss='categorical_crossentropy', \n",
        "              optimizer=optimizers.SGD(lr=1e-4, \n",
        "                                       momentum=0.9),\n",
        "              metrics=['accuracy'])\n",
        "model.summary()"
      ],
      "execution_count": 95,
      "outputs": [
        {
          "output_type": "stream",
          "text": [
            "Model: \"sequential_4\"\n",
            "_________________________________________________________________\n",
            "Layer (type)                 Output Shape              Param #   \n",
            "=================================================================\n",
            "inception_v3 (Model)         (None, 5, 5, 2048)        21802784  \n",
            "_________________________________________________________________\n",
            "global_average_pooling2d_7 ( (None, 2048)              0         \n",
            "_________________________________________________________________\n",
            "dropout_27 (Dropout)         (None, 2048)              0         \n",
            "_________________________________________________________________\n",
            "dense_34 (Dense)             (None, 2)                 4098      \n",
            "=================================================================\n",
            "Total params: 21,806,882\n",
            "Trainable params: 4,098\n",
            "Non-trainable params: 21,802,784\n",
            "_________________________________________________________________\n"
          ],
          "name": "stdout"
        }
      ]
    },
    {
      "cell_type": "code",
      "metadata": {
        "id": "S-Rl8kWllOUV",
        "colab_type": "code",
        "colab": {
          "base_uri": "https://localhost:8080/",
          "height": 68
        },
        "outputId": "103bbc15-7293-4e33-b482-d95505f272cb"
      },
      "source": [
        "model.fit(training_set,\n",
        "          epochs=1,\n",
        "          validation_data = test_set)"
      ],
      "execution_count": 96,
      "outputs": [
        {
          "output_type": "stream",
          "text": [
            "Epoch 1/1\n",
            "250/250 [==============================] - 130s 522ms/step - loss: 0.6665 - accuracy: 0.6310 - val_loss: 0.2079 - val_accuracy: 0.8995\n"
          ],
          "name": "stdout"
        },
        {
          "output_type": "execute_result",
          "data": {
            "text/plain": [
              "<keras.callbacks.callbacks.History at 0x7faae10c6f28>"
            ]
          },
          "metadata": {
            "tags": []
          },
          "execution_count": 96
        }
      ]
    },
    {
      "cell_type": "markdown",
      "metadata": {
        "id": "frrCIQp7JgOo",
        "colab_type": "text"
      },
      "source": [
        "# Resnet - from scratch"
      ]
    },
    {
      "cell_type": "markdown",
      "metadata": {
        "id": "FKdTA6ER1NYC",
        "colab_type": "text"
      },
      "source": [
        "ResNet, short for Residual Networks is a classic neural network used as a backbone for many computer vision tasks.\n",
        "\n",
        "ResNet first introduced the concept of skip connection. There are two reasons why Skip connections work:\n",
        "\n",
        "1.   They mitigate the problem of vanishing gradient by allowing this alternate shortcut path for gradient to flow through\n",
        "2.   They allow the model to learn an identity function which ensures that the higher layer will perform at least as good as the lower layer, and not worse\n",
        "\n",
        "\n",
        "\n"
      ]
    },
    {
      "cell_type": "markdown",
      "metadata": {
        "id": "9BqUvM96LJvO",
        "colab_type": "text"
      },
      "source": [
        "Image source :https://tariq-hasan.github.io/assets/images/resnet.png\n",
        "![Resnet architecture](https://tariq-hasan.github.io/assets/images/resnet.png)"
      ]
    },
    {
      "cell_type": "markdown",
      "metadata": {
        "id": "9IMbF2B7L-e8",
        "colab_type": "text"
      },
      "source": [
        "There are many variations in restnet depending on the number of layers. here we have implemented resnet 50.\n",
        "\n",
        "Image source : https://neurohive.io/en/popular-networks/resnet/\n",
        "![resnet architecture](https://neurohive.io/wp-content/uploads/2019/01/resnet-architectures-34-101.png)"
      ]
    },
    {
      "cell_type": "code",
      "metadata": {
        "id": "Yj5D9njhCYnr",
        "colab_type": "code",
        "colab": {}
      },
      "source": [
        "# function for creating an identity or projection residual module\n",
        "def residual_module(layer_in, n_filters):\n",
        "\tmerge_input = layer_in\n",
        "\t# check if the number of filters needs to be increase, assumes channels last format\n",
        "\tif layer_in.shape[-1] != n_filters:\n",
        "\t\tmerge_input = Conv2D(n_filters, (1,1), padding='same', activation='relu', kernel_initializer='he_normal')(layer_in)\n",
        "\t# conv1\n",
        "\tconv1 = Conv2D(n_filters, (3,3), padding='same', activation='relu', kernel_initializer='he_normal')(layer_in)\n",
        "\t# conv2\n",
        "\tconv2 = Conv2D(n_filters, (3,3), padding='same', activation='linear', kernel_initializer='he_normal')(conv1)\n",
        "\t# add filters, assumes filters/channels last\n",
        "\tlayer_out = add([conv2, merge_input])\n",
        "\t# activation function\n",
        "\tlayer_out = Activation('relu')(layer_out)\n",
        "\treturn layer_out"
      ],
      "execution_count": 52,
      "outputs": []
    },
    {
      "cell_type": "code",
      "metadata": {
        "id": "KosZGuJ7UnIj",
        "colab_type": "code",
        "colab": {}
      },
      "source": [
        "def convolutional_block(X, filters,s=2):\n",
        "   \n",
        "    # Retrieve Filters\n",
        "    F1, F2, F3 = filters\n",
        "    \n",
        "    # Save the input value\n",
        "    X_shortcut = X\n",
        "\n",
        "\n",
        "    ##### MAIN PATH #####\n",
        "    # First component of main path \n",
        "    X = Conv2D(F1, (1, 1), strides = (s,s))(X)\n",
        "    X = BatchNormalization(axis = 3)(X)\n",
        "    X = Activation('relu')(X)\n",
        "\n",
        "    # Second component of main path (≈3 lines)\n",
        "    X = Conv2D(filters = F2, kernel_size = (3, 3), strides = (1,1), padding = 'same')(X)\n",
        "    X = BatchNormalization(axis = 3)(X)\n",
        "    X = Activation('relu')(X)\n",
        "\n",
        "\n",
        "    # Third component of main path (≈2 lines)\n",
        "    X = Conv2D(filters = F3, kernel_size = (1, 1), strides = (1,1), padding = 'valid')(X)\n",
        "    X = BatchNormalization(axis = 3)(X)\n",
        "\n",
        "\n",
        "    ##### SHORTCUT PATH #### (≈2 lines)\n",
        "    X_shortcut = Conv2D(filters = F3, kernel_size = (1, 1), strides = (s,s), padding = 'valid')(X_shortcut)\n",
        "    X_shortcut = BatchNormalization(axis = 3)(X_shortcut)\n",
        "\n",
        "    # Final step: Add shortcut value to main path, and pass it through a RELU activation (≈2 lines)\n",
        "    X = add([X, X_shortcut])\n",
        "    X = Activation('relu')(X)\n",
        "    \n",
        "    \n",
        "    return X"
      ],
      "execution_count": 69,
      "outputs": []
    },
    {
      "cell_type": "code",
      "metadata": {
        "id": "Y9U7XCnvGu83",
        "colab_type": "code",
        "colab": {
          "base_uri": "https://localhost:8080/",
          "height": 1000
        },
        "outputId": "40d0fb2d-c43c-4ffd-b3ca-4aa7c2729ab6"
      },
      "source": [
        "# define model input\n",
        "input_layer = Input(shape=(224, 224, 3))\n",
        "layer = Conv2D(64, kernel_size=(7, 7), strides=(2, 2), padding='same',activation='relu')(input_layer)\n",
        "layer = BatchNormalization()(layer)\n",
        "layer = MaxPooling2D(pool_size=(3,3), strides=2, padding='same')(layer)\n",
        "layer = convolutional_block(layer, filters=[64, 64, 256],s=1)\n",
        "# add resnet\n",
        "layer = residual_module(layer, 64)\n",
        "layer = convolutional_block(layer, filters=[128, 128, 512])\n",
        "layer = residual_module(layer, 128)\n",
        "layer = convolutional_block(layer, filters=[256, 256, 1024])\n",
        "layer = residual_module(layer, 256)\n",
        "layer = convolutional_block(layer, filters=[512, 512, 2048])\n",
        "layer = residual_module(layer, 512)\n",
        "layer = GlobalAveragePooling2D()(layer)\n",
        "layer = Dropout(0.7)(layer)\n",
        "layer = Dense(2, activation= 'softmax')(layer)\n",
        "\n",
        "# create model\n",
        "model = Model(inputs=input_layer, outputs=layer)\n",
        "# summarize model\n",
        "model.summary()"
      ],
      "execution_count": 71,
      "outputs": [
        {
          "output_type": "stream",
          "text": [
            "Model: \"model_11\"\n",
            "__________________________________________________________________________________________________\n",
            "Layer (type)                    Output Shape         Param #     Connected to                     \n",
            "==================================================================================================\n",
            "input_21 (InputLayer)           (None, 224, 224, 3)  0                                            \n",
            "__________________________________________________________________________________________________\n",
            "conv2d_478 (Conv2D)             (None, 112, 112, 64) 9472        input_21[0][0]                   \n",
            "__________________________________________________________________________________________________\n",
            "batch_normalization_41 (BatchNo (None, 112, 112, 64) 256         conv2d_478[0][0]                 \n",
            "__________________________________________________________________________________________________\n",
            "max_pooling2d_95 (MaxPooling2D) (None, 56, 56, 64)   0           batch_normalization_41[0][0]     \n",
            "__________________________________________________________________________________________________\n",
            "conv2d_479 (Conv2D)             (None, 56, 56, 64)   4160        max_pooling2d_95[0][0]           \n",
            "__________________________________________________________________________________________________\n",
            "batch_normalization_42 (BatchNo (None, 56, 56, 64)   256         conv2d_479[0][0]                 \n",
            "__________________________________________________________________________________________________\n",
            "activation_32 (Activation)      (None, 56, 56, 64)   0           batch_normalization_42[0][0]     \n",
            "__________________________________________________________________________________________________\n",
            "conv2d_480 (Conv2D)             (None, 56, 56, 64)   36928       activation_32[0][0]              \n",
            "__________________________________________________________________________________________________\n",
            "batch_normalization_43 (BatchNo (None, 56, 56, 64)   256         conv2d_480[0][0]                 \n",
            "__________________________________________________________________________________________________\n",
            "activation_33 (Activation)      (None, 56, 56, 64)   0           batch_normalization_43[0][0]     \n",
            "__________________________________________________________________________________________________\n",
            "conv2d_481 (Conv2D)             (None, 56, 56, 256)  16640       activation_33[0][0]              \n",
            "__________________________________________________________________________________________________\n",
            "conv2d_482 (Conv2D)             (None, 56, 56, 256)  16640       max_pooling2d_95[0][0]           \n",
            "__________________________________________________________________________________________________\n",
            "batch_normalization_44 (BatchNo (None, 56, 56, 256)  1024        conv2d_481[0][0]                 \n",
            "__________________________________________________________________________________________________\n",
            "batch_normalization_45 (BatchNo (None, 56, 56, 256)  1024        conv2d_482[0][0]                 \n",
            "__________________________________________________________________________________________________\n",
            "add_22 (Add)                    (None, 56, 56, 256)  0           batch_normalization_44[0][0]     \n",
            "                                                                 batch_normalization_45[0][0]     \n",
            "__________________________________________________________________________________________________\n",
            "activation_34 (Activation)      (None, 56, 56, 256)  0           add_22[0][0]                     \n",
            "__________________________________________________________________________________________________\n",
            "conv2d_484 (Conv2D)             (None, 56, 56, 64)   147520      activation_34[0][0]              \n",
            "__________________________________________________________________________________________________\n",
            "conv2d_485 (Conv2D)             (None, 56, 56, 64)   36928       conv2d_484[0][0]                 \n",
            "__________________________________________________________________________________________________\n",
            "conv2d_483 (Conv2D)             (None, 56, 56, 64)   16448       activation_34[0][0]              \n",
            "__________________________________________________________________________________________________\n",
            "add_23 (Add)                    (None, 56, 56, 64)   0           conv2d_485[0][0]                 \n",
            "                                                                 conv2d_483[0][0]                 \n",
            "__________________________________________________________________________________________________\n",
            "activation_35 (Activation)      (None, 56, 56, 64)   0           add_23[0][0]                     \n",
            "__________________________________________________________________________________________________\n",
            "conv2d_486 (Conv2D)             (None, 28, 28, 128)  8320        activation_35[0][0]              \n",
            "__________________________________________________________________________________________________\n",
            "batch_normalization_46 (BatchNo (None, 28, 28, 128)  512         conv2d_486[0][0]                 \n",
            "__________________________________________________________________________________________________\n",
            "activation_36 (Activation)      (None, 28, 28, 128)  0           batch_normalization_46[0][0]     \n",
            "__________________________________________________________________________________________________\n",
            "conv2d_487 (Conv2D)             (None, 28, 28, 128)  147584      activation_36[0][0]              \n",
            "__________________________________________________________________________________________________\n",
            "batch_normalization_47 (BatchNo (None, 28, 28, 128)  512         conv2d_487[0][0]                 \n",
            "__________________________________________________________________________________________________\n",
            "activation_37 (Activation)      (None, 28, 28, 128)  0           batch_normalization_47[0][0]     \n",
            "__________________________________________________________________________________________________\n",
            "conv2d_488 (Conv2D)             (None, 28, 28, 512)  66048       activation_37[0][0]              \n",
            "__________________________________________________________________________________________________\n",
            "conv2d_489 (Conv2D)             (None, 28, 28, 512)  33280       activation_35[0][0]              \n",
            "__________________________________________________________________________________________________\n",
            "batch_normalization_48 (BatchNo (None, 28, 28, 512)  2048        conv2d_488[0][0]                 \n",
            "__________________________________________________________________________________________________\n",
            "batch_normalization_49 (BatchNo (None, 28, 28, 512)  2048        conv2d_489[0][0]                 \n",
            "__________________________________________________________________________________________________\n",
            "add_24 (Add)                    (None, 28, 28, 512)  0           batch_normalization_48[0][0]     \n",
            "                                                                 batch_normalization_49[0][0]     \n",
            "__________________________________________________________________________________________________\n",
            "activation_38 (Activation)      (None, 28, 28, 512)  0           add_24[0][0]                     \n",
            "__________________________________________________________________________________________________\n",
            "conv2d_491 (Conv2D)             (None, 28, 28, 128)  589952      activation_38[0][0]              \n",
            "__________________________________________________________________________________________________\n",
            "conv2d_492 (Conv2D)             (None, 28, 28, 128)  147584      conv2d_491[0][0]                 \n",
            "__________________________________________________________________________________________________\n",
            "conv2d_490 (Conv2D)             (None, 28, 28, 128)  65664       activation_38[0][0]              \n",
            "__________________________________________________________________________________________________\n",
            "add_25 (Add)                    (None, 28, 28, 128)  0           conv2d_492[0][0]                 \n",
            "                                                                 conv2d_490[0][0]                 \n",
            "__________________________________________________________________________________________________\n",
            "activation_39 (Activation)      (None, 28, 28, 128)  0           add_25[0][0]                     \n",
            "__________________________________________________________________________________________________\n",
            "conv2d_493 (Conv2D)             (None, 14, 14, 256)  33024       activation_39[0][0]              \n",
            "__________________________________________________________________________________________________\n",
            "batch_normalization_50 (BatchNo (None, 14, 14, 256)  1024        conv2d_493[0][0]                 \n",
            "__________________________________________________________________________________________________\n",
            "activation_40 (Activation)      (None, 14, 14, 256)  0           batch_normalization_50[0][0]     \n",
            "__________________________________________________________________________________________________\n",
            "conv2d_494 (Conv2D)             (None, 14, 14, 256)  590080      activation_40[0][0]              \n",
            "__________________________________________________________________________________________________\n",
            "batch_normalization_51 (BatchNo (None, 14, 14, 256)  1024        conv2d_494[0][0]                 \n",
            "__________________________________________________________________________________________________\n",
            "activation_41 (Activation)      (None, 14, 14, 256)  0           batch_normalization_51[0][0]     \n",
            "__________________________________________________________________________________________________\n",
            "conv2d_495 (Conv2D)             (None, 14, 14, 1024) 263168      activation_41[0][0]              \n",
            "__________________________________________________________________________________________________\n",
            "conv2d_496 (Conv2D)             (None, 14, 14, 1024) 132096      activation_39[0][0]              \n",
            "__________________________________________________________________________________________________\n",
            "batch_normalization_52 (BatchNo (None, 14, 14, 1024) 4096        conv2d_495[0][0]                 \n",
            "__________________________________________________________________________________________________\n",
            "batch_normalization_53 (BatchNo (None, 14, 14, 1024) 4096        conv2d_496[0][0]                 \n",
            "__________________________________________________________________________________________________\n",
            "add_26 (Add)                    (None, 14, 14, 1024) 0           batch_normalization_52[0][0]     \n",
            "                                                                 batch_normalization_53[0][0]     \n",
            "__________________________________________________________________________________________________\n",
            "activation_42 (Activation)      (None, 14, 14, 1024) 0           add_26[0][0]                     \n",
            "__________________________________________________________________________________________________\n",
            "conv2d_498 (Conv2D)             (None, 14, 14, 256)  2359552     activation_42[0][0]              \n",
            "__________________________________________________________________________________________________\n",
            "conv2d_499 (Conv2D)             (None, 14, 14, 256)  590080      conv2d_498[0][0]                 \n",
            "__________________________________________________________________________________________________\n",
            "conv2d_497 (Conv2D)             (None, 14, 14, 256)  262400      activation_42[0][0]              \n",
            "__________________________________________________________________________________________________\n",
            "add_27 (Add)                    (None, 14, 14, 256)  0           conv2d_499[0][0]                 \n",
            "                                                                 conv2d_497[0][0]                 \n",
            "__________________________________________________________________________________________________\n",
            "activation_43 (Activation)      (None, 14, 14, 256)  0           add_27[0][0]                     \n",
            "__________________________________________________________________________________________________\n",
            "conv2d_500 (Conv2D)             (None, 7, 7, 512)    131584      activation_43[0][0]              \n",
            "__________________________________________________________________________________________________\n",
            "batch_normalization_54 (BatchNo (None, 7, 7, 512)    2048        conv2d_500[0][0]                 \n",
            "__________________________________________________________________________________________________\n",
            "activation_44 (Activation)      (None, 7, 7, 512)    0           batch_normalization_54[0][0]     \n",
            "__________________________________________________________________________________________________\n",
            "conv2d_501 (Conv2D)             (None, 7, 7, 512)    2359808     activation_44[0][0]              \n",
            "__________________________________________________________________________________________________\n",
            "batch_normalization_55 (BatchNo (None, 7, 7, 512)    2048        conv2d_501[0][0]                 \n",
            "__________________________________________________________________________________________________\n",
            "activation_45 (Activation)      (None, 7, 7, 512)    0           batch_normalization_55[0][0]     \n",
            "__________________________________________________________________________________________________\n",
            "conv2d_502 (Conv2D)             (None, 7, 7, 2048)   1050624     activation_45[0][0]              \n",
            "__________________________________________________________________________________________________\n",
            "conv2d_503 (Conv2D)             (None, 7, 7, 2048)   526336      activation_43[0][0]              \n",
            "__________________________________________________________________________________________________\n",
            "batch_normalization_56 (BatchNo (None, 7, 7, 2048)   8192        conv2d_502[0][0]                 \n",
            "__________________________________________________________________________________________________\n",
            "batch_normalization_57 (BatchNo (None, 7, 7, 2048)   8192        conv2d_503[0][0]                 \n",
            "__________________________________________________________________________________________________\n",
            "add_28 (Add)                    (None, 7, 7, 2048)   0           batch_normalization_56[0][0]     \n",
            "                                                                 batch_normalization_57[0][0]     \n",
            "__________________________________________________________________________________________________\n",
            "activation_46 (Activation)      (None, 7, 7, 2048)   0           add_28[0][0]                     \n",
            "__________________________________________________________________________________________________\n",
            "conv2d_505 (Conv2D)             (None, 7, 7, 512)    9437696     activation_46[0][0]              \n",
            "__________________________________________________________________________________________________\n",
            "conv2d_506 (Conv2D)             (None, 7, 7, 512)    2359808     conv2d_505[0][0]                 \n",
            "__________________________________________________________________________________________________\n",
            "conv2d_504 (Conv2D)             (None, 7, 7, 512)    1049088     activation_46[0][0]              \n",
            "__________________________________________________________________________________________________\n",
            "add_29 (Add)                    (None, 7, 7, 512)    0           conv2d_506[0][0]                 \n",
            "                                                                 conv2d_504[0][0]                 \n",
            "__________________________________________________________________________________________________\n",
            "activation_47 (Activation)      (None, 7, 7, 512)    0           add_29[0][0]                     \n",
            "__________________________________________________________________________________________________\n",
            "global_average_pooling2d_5 (Glo (None, 512)          0           activation_47[0][0]              \n",
            "__________________________________________________________________________________________________\n",
            "dropout_25 (Dropout)            (None, 512)          0           global_average_pooling2d_5[0][0] \n",
            "__________________________________________________________________________________________________\n",
            "dense_26 (Dense)                (None, 2)            1026        dropout_25[0][0]                 \n",
            "==================================================================================================\n",
            "Total params: 22,528,194\n",
            "Trainable params: 22,508,866\n",
            "Non-trainable params: 19,328\n",
            "__________________________________________________________________________________________________\n"
          ],
          "name": "stdout"
        }
      ]
    },
    {
      "cell_type": "code",
      "metadata": {
        "id": "evn8oOtdKcyu",
        "colab_type": "code",
        "colab": {
          "base_uri": "https://localhost:8080/",
          "height": 68
        },
        "outputId": "9aab696c-c0e8-4ea5-d804-5265c9877dbb"
      },
      "source": [
        "#  Compile \n",
        "model.compile(loss='categorical_crossentropy', optimizer='adam',metrics=['accuracy'])\n",
        "\n",
        "# Train\n",
        "model.fit(training_set,\n",
        "          epochs=1,\n",
        "          validation_data = test_set)"
      ],
      "execution_count": 72,
      "outputs": [
        {
          "output_type": "stream",
          "text": [
            "Epoch 1/1\n",
            "250/250 [==============================] - 146s 583ms/step - loss: 1.1617 - accuracy: 0.5357 - val_loss: 0.6873 - val_accuracy: 0.5000\n"
          ],
          "name": "stdout"
        },
        {
          "output_type": "execute_result",
          "data": {
            "text/plain": [
              "<keras.callbacks.callbacks.History at 0x7faaff9cff98>"
            ]
          },
          "metadata": {
            "tags": []
          },
          "execution_count": 72
        }
      ]
    },
    {
      "cell_type": "markdown",
      "metadata": {
        "id": "e0zF0ovlovJ6",
        "colab_type": "text"
      },
      "source": [
        "# Resnet - using keras function with transfer learning"
      ]
    },
    {
      "cell_type": "markdown",
      "metadata": {
        "id": "dd7JGiffG1cm",
        "colab_type": "text"
      },
      "source": [
        "we have done the transfer learning by creating an Resnet50 model without including the top layers.\n",
        "The model is intialized with weights trained on imagenet dataset.\n",
        "\n",
        "The layers (parameters) in this model are made non-trainable.\n",
        "\n",
        "The top layers are added to the model and are trained using our dataset(cat-dog).\n",
        "\n",
        "\n",
        "we can observe the decrease in trainable parameters and improvement in the accuracy.The time taken for training was also significantly less."
      ]
    },
    {
      "cell_type": "code",
      "metadata": {
        "id": "ZI1NSObEl7tw",
        "colab_type": "code",
        "colab": {
          "base_uri": "https://localhost:8080/",
          "height": 343
        },
        "outputId": "da116b3a-5276-4f06-b3d6-8ee56b881631"
      },
      "source": [
        "from keras.applications.resnet50 import ResNet50\n",
        "\n",
        "base_model = ResNet50(weights= None, include_top=False, input_shape= (224,224,3))\n",
        "base_model.trainable = False\n",
        "\n",
        "add_model = Sequential()\n",
        "add_model.add(base_model)\n",
        "add_model.add(GlobalAveragePooling2D())\n",
        "add_model.add(Dropout(0.5))\n",
        "add_model.add(Dense(2, \n",
        "                    activation='softmax'))\n",
        "\n",
        "model = add_model\n",
        "model.compile(loss='categorical_crossentropy', \n",
        "              optimizer=optimizers.SGD(lr=1e-4, \n",
        "                                       momentum=0.9),\n",
        "              metrics=['accuracy'])\n",
        "model.summary()"
      ],
      "execution_count": 99,
      "outputs": [
        {
          "output_type": "stream",
          "text": [
            "/usr/local/lib/python3.6/dist-packages/keras_applications/resnet50.py:265: UserWarning: The output shape of `ResNet50(include_top=False)` has been changed since Keras 2.2.0.\n",
            "  warnings.warn('The output shape of `ResNet50(include_top=False)` '\n"
          ],
          "name": "stderr"
        },
        {
          "output_type": "stream",
          "text": [
            "Model: \"sequential_6\"\n",
            "_________________________________________________________________\n",
            "Layer (type)                 Output Shape              Param #   \n",
            "=================================================================\n",
            "resnet50 (Model)             (None, 7, 7, 2048)        23587712  \n",
            "_________________________________________________________________\n",
            "global_average_pooling2d_9 ( (None, 2048)              0         \n",
            "_________________________________________________________________\n",
            "dropout_29 (Dropout)         (None, 2048)              0         \n",
            "_________________________________________________________________\n",
            "dense_36 (Dense)             (None, 2)                 4098      \n",
            "=================================================================\n",
            "Total params: 23,591,810\n",
            "Trainable params: 4,098\n",
            "Non-trainable params: 23,587,712\n",
            "_________________________________________________________________\n"
          ],
          "name": "stdout"
        }
      ]
    },
    {
      "cell_type": "code",
      "metadata": {
        "id": "Ck2NDocvmjKE",
        "colab_type": "code",
        "colab": {
          "base_uri": "https://localhost:8080/",
          "height": 68
        },
        "outputId": "03e8dd05-5864-475b-953a-bb30e1281de4"
      },
      "source": [
        "model.fit(training_set,\n",
        "          epochs=1,\n",
        "          validation_data = test_set)"
      ],
      "execution_count": 100,
      "outputs": [
        {
          "output_type": "stream",
          "text": [
            "Epoch 1/1\n",
            "250/250 [==============================] - 130s 519ms/step - loss: 1.0638 - accuracy: 0.5102 - val_loss: 57.5436 - val_accuracy: 0.5000\n"
          ],
          "name": "stdout"
        },
        {
          "output_type": "execute_result",
          "data": {
            "text/plain": [
              "<keras.callbacks.callbacks.History at 0x7faadd9e67b8>"
            ]
          },
          "metadata": {
            "tags": []
          },
          "execution_count": 100
        }
      ]
    }
  ]
}